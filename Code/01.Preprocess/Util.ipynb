{
 "cells": [
  {
   "cell_type": "code",
   "execution_count": 2,
   "metadata": {
    "ExecuteTime": {
     "end_time": "2020-01-06T03:14:03.453722Z",
     "start_time": "2020-01-06T03:14:02.859830Z"
    }
   },
   "outputs": [],
   "source": [
    "import os\n",
    "import pandas as pd\n",
    "import numpy as np\n",
    "from pandas import DataFrame as df\n",
    "from datetime import date, time, datetime, timedelta\n",
    "\n"
   ]
  },
  {
   "cell_type": "code",
   "execution_count": null,
   "metadata": {},
   "outputs": [],
   "source": [
    "from matplotlib import rc\n",
    "import matplotlib.pyplot as plt\n",
    "from pandas.plotting import register_matplotlib_converters\n",
    "import seaborn as sns\n",
    "import matplotlib.font_manager as fm\n",
    "plt.rcParams[\"figure.figsize\"] = (20, 10)\n",
    "register_matplotlib_converters()\n",
    "\n",
    "rc('font', family='AppleGothic')\n",
    "\n",
    "plt.rcParams['axes.unicode_minus'] = False"
   ]
  },
  {
   "cell_type": "code",
   "execution_count": 2,
   "metadata": {
    "ExecuteTime": {
     "end_time": "2020-01-08T01:47:06.022213Z",
     "start_time": "2020-01-08T01:47:06.013787Z"
    }
   },
   "outputs": [],
   "source": [
    "def filelist(self, dirname):\n",
    "        f_list = []\n",
    "        try:\n",
    "            filenames = os.listdir(dirname)\n",
    "            for filename in filenames:\n",
    "                name = os.path.join(dirname, filename)\n",
    "                f_list.append(name)\n",
    "        except:\n",
    "            print(\"none\")\n",
    "        return f_list\n",
    "\n",
    "def search(self, dirname, data):\n",
    "    csvs = []\n",
    "\n",
    "    try:\n",
    "        filenames = os.listdir(dirname)        \n",
    "        for filename in filenames:\n",
    "            full_filename = os.path.join(dirname, filename)\n",
    "\n",
    "            if data+ \".csv\" in full_filename:\n",
    "                #print(\"full\", full_filename)\n",
    "                csvs.append(full_filename)\n",
    "    except:\n",
    "        print(\"none\")\n",
    "\n",
    "    return csvs\n",
    "    \n",
    "def make_df(self, data_file):\n",
    "    df_all = pd.DataFrame()\n",
    "    count = 0\n",
    "    for dfile in data_file: \n",
    "        if len(dfile) > 0:\n",
    "            if count ==0:\n",
    "                df_all = pd.read_csv(dfile[0])   \n",
    "            else:\n",
    "                tmp_all = pd.read_csv(dfile[0])   \n",
    "                df_all = pd.concat([df_all, tmp_all])\n",
    "        count = count + 1\n",
    "    return df_all\n",
    "    \n",
    "    \n",
    "    "
   ]
  },
  {
   "cell_type": "code",
   "execution_count": 1,
   "metadata": {
    "ExecuteTime": {
     "end_time": "2020-01-08T01:47:03.516262Z",
     "start_time": "2020-01-08T01:47:03.506354Z"
    }
   },
   "outputs": [],
   "source": [
    "def toDatetime(df, timeCol , format_):\n",
    "\n",
    "    \"\"\"\n",
    "     param\n",
    "     - df : dataframe \n",
    "     - timeCol : columns of timestamp (ex, [timestamp] or [stime, etime])\n",
    "     - format : data format\n",
    "     \n",
    "    \"\"\"\n",
    "    if len(timeCol) <=1:\n",
    "        df[timeCol[0]] = df[timeCol[0]].astype(str)\n",
    "        df[timeCol[0]] = df[timeCol[0]].str.replace(\" \", \"\")\n",
    "        df[timeCol[0]] = df[timeCol[0]].str.replace(\"-\", \"\")\n",
    "        df[timeCol[0]] = df[timeCol[0]].str.replace(\":\", \"\")\n",
    "        df[timeCol[0]] = df[timeCol[0]].str.replace(\".\", \"\")\n",
    "\n",
    "\n",
    "        df[timeCol[0]] = pd.to_datetime(df[timeCol[0]], format=format_)\n",
    "        \n",
    "    else:\n",
    "        for col in timeCol:\n",
    "            df[col] = df[col].astype(str)\n",
    "            df[col] = df[col].str.replace(\" \", \"\")\n",
    "            df[col] = df[col].str.replace(\"-\", \"\")\n",
    "            df[col] = df[col].str.replace(\":\", \"\")\n",
    "            df[col] = df[col].str.replace(\".\", \"\")\n",
    "\n",
    "\n",
    "            df[col] = pd.to_datetime(df[col], format=format_) \n",
    "            \n",
    "    return df"
   ]
  },
  {
   "cell_type": "code",
   "execution_count": 3,
   "metadata": {
    "ExecuteTime": {
     "end_time": "2020-01-08T01:47:23.765697Z",
     "start_time": "2020-01-08T01:47:23.760969Z"
    },
    "code_folding": []
   },
   "outputs": [],
   "source": [
    "## Labeling based on diff\n",
    "def labeling(r_id, score, compare_id, compare_score):\n",
    "\n",
    "#     print(r_id == compare_id,score == compare_score)\n",
    "    result = 0;\n",
    "    if np.isnan(compare_id) != True:\n",
    "        if r_id == compare_id:\n",
    "            if score < compare_score:\n",
    "                result = 0\n",
    "                \n",
    "            elif score > compare_score:\n",
    "                result = 1\n",
    "                \n",
    "            elif score == compare_score:\n",
    "                result = 2\n",
    "                \n",
    "        print(r_id, compare_id, score, compare_score, result)\n",
    "        return result"
   ]
  },
  {
   "cell_type": "code",
   "execution_count": null,
   "metadata": {},
   "outputs": [],
   "source": [
    "df_scaled = pd.DataFrame(scaler.fit_transform(df), columns=df.columns)\n",
    "\n",
    "from sklearn.preprocessing import MinMaxScaler\n",
    "from sklearn.preprocessing import StandardScaler\n",
    "\n",
    "def Normalizing(df, norm_type):\n",
    "    if norm_type == 'minmax':\n",
    "        scaler = MinMaxScaler()\n",
    "        fitted = min_max_scaler.fit(df)"
   ]
  }
 ],
 "metadata": {
  "kernelspec": {
   "display_name": "Python 3",
   "language": "python",
   "name": "python3"
  },
  "language_info": {
   "codemirror_mode": {
    "name": "ipython",
    "version": 3
   },
   "file_extension": ".py",
   "mimetype": "text/x-python",
   "name": "python",
   "nbconvert_exporter": "python",
   "pygments_lexer": "ipython3",
   "version": "3.6.10"
  },
  "toc": {
   "base_numbering": 1,
   "nav_menu": {},
   "number_sections": true,
   "sideBar": true,
   "skip_h1_title": false,
   "title_cell": "Table of Contents",
   "title_sidebar": "Contents",
   "toc_cell": false,
   "toc_position": {},
   "toc_section_display": true,
   "toc_window_display": false
  },
  "varInspector": {
   "cols": {
    "lenName": 16,
    "lenType": 16,
    "lenVar": 40
   },
   "kernels_config": {
    "python": {
     "delete_cmd_postfix": "",
     "delete_cmd_prefix": "del ",
     "library": "var_list.py",
     "varRefreshCmd": "print(var_dic_list())"
    },
    "r": {
     "delete_cmd_postfix": ") ",
     "delete_cmd_prefix": "rm(",
     "library": "var_list.r",
     "varRefreshCmd": "cat(var_dic_list()) "
    }
   },
   "types_to_exclude": [
    "module",
    "function",
    "builtin_function_or_method",
    "instance",
    "_Feature"
   ],
   "window_display": false
  }
 },
 "nbformat": 4,
 "nbformat_minor": 2
}
