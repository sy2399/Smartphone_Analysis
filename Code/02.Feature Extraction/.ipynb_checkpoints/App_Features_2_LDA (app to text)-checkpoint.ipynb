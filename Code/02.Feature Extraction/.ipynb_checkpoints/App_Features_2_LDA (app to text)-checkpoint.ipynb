{
 "cells": [
  {
   "cell_type": "code",
   "execution_count": 2,
   "metadata": {
    "ExecuteTime": {
     "end_time": "2020-02-20T04:20:07.576226Z",
     "start_time": "2020-02-20T04:20:07.558728Z"
    }
   },
   "outputs": [],
   "source": [
    "from IPython.display import Image\n",
    "\n",
    "import pandas as pd\n",
    "import numpy as np\n",
    "from pprint import pprint\n",
    "\n",
    "from collections import Counter\n",
    "\n",
    "import os, sys\n",
    "file_dir = '/Users/imsoyoung/Soyoung/Ajou/Project/DigitalPhenotype/DigitalPhenotype_overall/Code/Util'\n",
    "sys.path.append(os.path.dirname(os.path.abspath\n",
    "                                (os.path.abspath(file_dir))))\n",
    "\n",
    "import Util.Utility as util\n",
    "import json\n",
    "\n",
    "%matplotlib inline\n",
    "import matplotlib.pylab as plt\n",
    "import datetime\n",
    "import seaborn as sns\n",
    "plt.rcParams[\"figure.figsize\"] = (10,4)\n",
    "plt.rcParams['lines.linewidth'] = 2\n",
    "plt.rcParams['lines.color'] = 'r'\n",
    "plt.rcParams['axes.grid'] = True "
   ]
  },
  {
   "cell_type": "markdown",
   "metadata": {},
   "source": [
    "\n",
    "# 💡 LDA 를 스마트폰 로그 데이터에 적용하기 💡\n",
    "1. 유저의 앱 사용 기록을 카테고리화 (google-play store) 한 데이터 사용!\n",
    "2. 유저의 일별 모든 앱 사용의 카테고리를 하나의 문서로 취급\n",
    "3. 일별 카테고리 이용 문서를 LDA \n",
    "    - LDA 기초 공부\n",
    "    - Category 데이터 텍스트화\n",
    "    - LDA 적용\n",
    "    - ISSUE :  Communication 카테고리의 사용 count 가 너무 많음\n",
    "    - ISSUE 해결 시도 : 각 카테고리별 사용 duration 고려 --> threshold 지정(N seconds 이상 사용한 것만 고려)\n",
    "\n",
    "\n",
    "\n",
    "\n",
    "\n"
   ]
  },
  {
   "cell_type": "markdown",
   "metadata": {},
   "source": [
    "# LDA 기초\n",
    "\n",
    "말뭉치로부터 토픽을 추출하는 Topic Modeling 기법 가운데 하나인 LDA (Latent Dirichlet Allocation)\n",
    "\n",
    "\n",
    "참고\n",
    "\n",
    "https://ratsgo.github.io/from%20frequency%20to%20semantics/2017/06/01/LDA/\n",
    "https://ratsgo.github.io/from%20frequency%20to%20semantics/2017/07/09/lda/"
   ]
  },
  {
   "cell_type": "markdown",
   "metadata": {},
   "source": [
    "## 변수 선언\n",
    "\n",
    "- 각 토픽이 각 문서에 할당되는 횟수\n",
    "- 각 토픽에 할당되는 총 단어수\n",
    "- 각 단어가 각 토픽에 할당되는 횟수\n",
    "- 각 문서에 포함되는 총 단어수\n",
    "- 단어 종류의 수\n",
    "- 총 문서의 수\n",
    "\n",
    "ex. document_topic_counts[3][1] : 세번째 문서 중 토픽 1과 관련있는 단어 수\n",
    "\n",
    "ex. topic_word_counts[2]['nlp'] : nlp 라는 단어가 토픽2와 연관지어 등장한 횟수"
   ]
  },
  {
   "cell_type": "markdown",
   "metadata": {},
   "source": [
    "## 새로운 Topic 계산\n",
    "\n",
    "- A : d번째 문서가 k번째 토픽과 맺고 있는 연관성 정도\n",
    "- B : d번째 문서의 n번째 등장한 단어가 k 번째 토픽과 맺고 있는 연관성 정도\n",
    "\n",
    "\n",
    "d번째 문서 i번째 단어의 토픽 z(d,i)가 j번째에 할당될 확률은 A와 B를 곱해 구한다\n",
    "- A = p_topic_given_document\n",
    "- B = p_word_given_topic\n",
    "- topic_weight  = A*B"
   ]
  },
  {
   "cell_type": "code",
   "execution_count": 5,
   "metadata": {
    "ExecuteTime": {
     "end_time": "2020-02-20T04:20:16.417904Z",
     "start_time": "2020-02-20T04:20:16.412789Z"
    }
   },
   "outputs": [],
   "source": [
    "def p_topic_given_document(topic, d, alpha=0.1):\n",
    "    # 문서 d의 모든 단어 가운데 topic에 속하는\n",
    "    # 단어의 비율 (alpha를 더해 smoothing)\n",
    "    return ((document_topic_counts[d][topic] + alpha) /\n",
    "            (document_lengths[d] + K * alpha))\n",
    "\n",
    "def p_word_given_topic(word, topic, beta=0.1):\n",
    "    # topic에 속한 단어 가운데 word의 비율\n",
    "    # (beta를 더해 smoothing)\n",
    "    return ((topic_word_counts[topic][word] + beta) /\n",
    "            (topic_counts[topic] + V * beta))\n",
    "\n",
    "def topic_weight(d, word, k):\n",
    "    # 문서와 문서의 단어가 주어지면\n",
    "    # k번째 토픽의 weight를 반환\n",
    "    return p_word_given_topic(word, k) * p_topic_given_document(k, d)"
   ]
  },
  {
   "cell_type": "markdown",
   "metadata": {},
   "source": [
    "A*B 값을 바탕으로 샘플링하여 d번째 문서의 i번째 단어의 토픽 z(d,i) 에 새로운 토픽 할당"
   ]
  },
  {
   "cell_type": "code",
   "execution_count": 6,
   "metadata": {
    "ExecuteTime": {
     "end_time": "2020-02-20T04:20:17.695778Z",
     "start_time": "2020-02-20T04:20:17.690770Z"
    }
   },
   "outputs": [],
   "source": [
    "def choose_new_topic(d, word):\n",
    "    return sample_from([topic_weight(d, word, k) for k in range(K)])\n",
    "\n",
    "import random\n",
    "def sample_from(weights):\n",
    "    # i를 weights[i] / sum(weights)\n",
    "    # 확률로 반환\n",
    "    total = sum(weights)\n",
    "    # 0과 total 사이를 균일하게 선택\n",
    "    rnd = total * random.random()\n",
    "    # 아래 식을 만족하는 가장 작은 i를 반환\n",
    "    # weights[0] + ... + weights[i] >= rnd\n",
    "    for i, w in enumerate(weights):\n",
    "        rnd -= w\n",
    "        if rnd <= 0:\n",
    "            return i"
   ]
  },
  {
   "cell_type": "markdown",
   "metadata": {},
   "source": [
    "# Category 앱 사용 데이터 Text 화"
   ]
  },
  {
   "cell_type": "markdown",
   "metadata": {
    "ExecuteTime": {
     "end_time": "2020-02-20T01:51:03.954566Z",
     "start_time": "2020-02-20T01:51:03.952222Z"
    }
   },
   "source": [
    "## Make Documents"
   ]
  },
  {
   "cell_type": "code",
   "execution_count": 7,
   "metadata": {
    "ExecuteTime": {
     "end_time": "2020-02-20T04:20:20.165781Z",
     "start_time": "2020-02-20T04:20:20.090420Z"
    }
   },
   "outputs": [
    {
     "data": {
      "text/html": [
       "<div>\n",
       "<style scoped>\n",
       "    .dataframe tbody tr th:only-of-type {\n",
       "        vertical-align: middle;\n",
       "    }\n",
       "\n",
       "    .dataframe tbody tr th {\n",
       "        vertical-align: top;\n",
       "    }\n",
       "\n",
       "    .dataframe thead th {\n",
       "        text-align: right;\n",
       "    }\n",
       "</style>\n",
       "<table border=\"1\" class=\"dataframe\">\n",
       "  <thead>\n",
       "    <tr style=\"text-align: right;\">\n",
       "      <th></th>\n",
       "      <th>Unnamed: 0</th>\n",
       "      <th>_id</th>\n",
       "      <th>uid</th>\n",
       "      <th>date</th>\n",
       "      <th>stime</th>\n",
       "      <th>etime</th>\n",
       "      <th>packageName</th>\n",
       "      <th>total</th>\n",
       "      <th>isInUsable</th>\n",
       "      <th>packageFullName</th>\n",
       "      <th>category</th>\n",
       "    </tr>\n",
       "  </thead>\n",
       "  <tbody>\n",
       "    <tr>\n",
       "      <th>0</th>\n",
       "      <td>2</td>\n",
       "      <td>3</td>\n",
       "      <td>otfKOMf7VUaB5lxUARO0HNusxPB2</td>\n",
       "      <td>2018-12-03</td>\n",
       "      <td>2018-12-03 00:11:59</td>\n",
       "      <td>2018-12-03 00:12:10</td>\n",
       "      <td>캐시워크</td>\n",
       "      <td>11</td>\n",
       "      <td>True</td>\n",
       "      <td>com.cashwalk.cashwalk</td>\n",
       "      <td>Health &amp; Fitness</td>\n",
       "    </tr>\n",
       "    <tr>\n",
       "      <th>1</th>\n",
       "      <td>17</td>\n",
       "      <td>20</td>\n",
       "      <td>otfKOMf7VUaB5lxUARO0HNusxPB2</td>\n",
       "      <td>2018-12-03</td>\n",
       "      <td>2018-12-03 00:13:21</td>\n",
       "      <td>2018-12-03 00:13:24</td>\n",
       "      <td>카카오톡</td>\n",
       "      <td>3</td>\n",
       "      <td>True</td>\n",
       "      <td>com.kakao.talk</td>\n",
       "      <td>Communication</td>\n",
       "    </tr>\n",
       "    <tr>\n",
       "      <th>2</th>\n",
       "      <td>19</td>\n",
       "      <td>22</td>\n",
       "      <td>otfKOMf7VUaB5lxUARO0HNusxPB2</td>\n",
       "      <td>2018-12-03</td>\n",
       "      <td>2018-12-03 00:13:32</td>\n",
       "      <td>2018-12-03 00:13:33</td>\n",
       "      <td>카카오톡</td>\n",
       "      <td>1</td>\n",
       "      <td>True</td>\n",
       "      <td>com.kakao.talk</td>\n",
       "      <td>Communication</td>\n",
       "    </tr>\n",
       "  </tbody>\n",
       "</table>\n",
       "</div>"
      ],
      "text/plain": [
       "   Unnamed: 0  _id                           uid       date  \\\n",
       "0           2    3  otfKOMf7VUaB5lxUARO0HNusxPB2 2018-12-03   \n",
       "1          17   20  otfKOMf7VUaB5lxUARO0HNusxPB2 2018-12-03   \n",
       "2          19   22  otfKOMf7VUaB5lxUARO0HNusxPB2 2018-12-03   \n",
       "\n",
       "                 stime                etime packageName  total  isInUsable  \\\n",
       "0  2018-12-03 00:11:59  2018-12-03 00:12:10        캐시워크     11        True   \n",
       "1  2018-12-03 00:13:21  2018-12-03 00:13:24        카카오톡      3        True   \n",
       "2  2018-12-03 00:13:32  2018-12-03 00:13:33        카카오톡      1        True   \n",
       "\n",
       "         packageFullName          category  \n",
       "0  com.cashwalk.cashwalk  Health & Fitness  \n",
       "1         com.kakao.talk     Communication  \n",
       "2         com.kakao.talk     Communication  "
      ]
     },
     "execution_count": 7,
     "metadata": {},
     "output_type": "execute_result"
    }
   ],
   "source": [
    "app = pd.read_csv('../01.Preprocess/result/A_categorized.csv')\n",
    "util.toDatetime(app, ['date'], '%Y%m%d')\n",
    "app.head(3)"
   ]
  },
  {
   "cell_type": "code",
   "execution_count": 8,
   "metadata": {
    "ExecuteTime": {
     "end_time": "2020-02-20T04:20:20.986772Z",
     "start_time": "2020-02-20T04:20:20.942750Z"
    }
   },
   "outputs": [],
   "source": [
    "date_unique = list(set(app['date']))\n",
    "\n",
    "docs = {}\n",
    "for date in date_unique:\n",
    "    docs[date] = \"\"\n",
    "    docs[date] += (app[app['date']==date]['category'].values)\n",
    "\n",
    "np.save('result/category_docs.npy', docs)\n"
   ]
  },
  {
   "cell_type": "code",
   "execution_count": 9,
   "metadata": {
    "ExecuteTime": {
     "end_time": "2020-02-20T04:20:22.045158Z",
     "start_time": "2020-02-20T04:20:22.029254Z"
    },
    "scrolled": true
   },
   "outputs": [
    {
     "data": {
      "text/html": [
       "<div>\n",
       "<style scoped>\n",
       "    .dataframe tbody tr th:only-of-type {\n",
       "        vertical-align: middle;\n",
       "    }\n",
       "\n",
       "    .dataframe tbody tr th {\n",
       "        vertical-align: top;\n",
       "    }\n",
       "\n",
       "    .dataframe thead th {\n",
       "        text-align: right;\n",
       "    }\n",
       "</style>\n",
       "<table border=\"1\" class=\"dataframe\">\n",
       "  <thead>\n",
       "    <tr style=\"text-align: right;\">\n",
       "      <th></th>\n",
       "      <th>date</th>\n",
       "      <th>category_docs</th>\n",
       "    </tr>\n",
       "  </thead>\n",
       "  <tbody>\n",
       "    <tr>\n",
       "      <th>0</th>\n",
       "      <td>2018-12-17</td>\n",
       "      <td>[Background, Background, Communication, Commun...</td>\n",
       "    </tr>\n",
       "    <tr>\n",
       "      <th>1</th>\n",
       "      <td>2018-12-07</td>\n",
       "      <td>[Communication, Communication, Communication, ...</td>\n",
       "    </tr>\n",
       "    <tr>\n",
       "      <th>2</th>\n",
       "      <td>2018-12-14</td>\n",
       "      <td>[Communication, Finance, Communication, Commun...</td>\n",
       "    </tr>\n",
       "    <tr>\n",
       "      <th>3</th>\n",
       "      <td>2018-12-13</td>\n",
       "      <td>[Communication, Communication, Communication, ...</td>\n",
       "    </tr>\n",
       "    <tr>\n",
       "      <th>4</th>\n",
       "      <td>2018-12-11</td>\n",
       "      <td>[Comics, Comics, Comics, Comics, Comics, Comic...</td>\n",
       "    </tr>\n",
       "  </tbody>\n",
       "</table>\n",
       "</div>"
      ],
      "text/plain": [
       "        date                                      category_docs\n",
       "0 2018-12-17  [Background, Background, Communication, Commun...\n",
       "1 2018-12-07  [Communication, Communication, Communication, ...\n",
       "2 2018-12-14  [Communication, Finance, Communication, Commun...\n",
       "3 2018-12-13  [Communication, Communication, Communication, ...\n",
       "4 2018-12-11  [Comics, Comics, Comics, Comics, Comics, Comic..."
      ]
     },
     "execution_count": 9,
     "metadata": {},
     "output_type": "execute_result"
    }
   ],
   "source": [
    "doc_df = pd.DataFrame(list(docs.items()),columns = ['date','category_docs']) \n",
    "\n",
    "doc_df.head()\n",
    "##이미 tokenize 형태로 되어 있음!\n"
   ]
  },
  {
   "cell_type": "markdown",
   "metadata": {},
   "source": [
    "# LDA 적용\n",
    "\n",
    "* 유저의 앱 사용 기록을 카테고리화 (google-play store)\n",
    "* 유저의 일별 모든 앱 사용의 카테고리를 하나의 문서로 취급\n",
    "* LDA 적용: 일별 앱 사용을 문서화 하여, 일별 앱 사용 패턴의 Topic 도출\n",
    "* ISSUE : Communication 카테고리의 사용 count 가 너무 많음\n",
    "  - ***Communication 제거 or 채팅/SNS 분리***\n",
    "\n",
    "* Result (정성적 평가)\n",
    "  - 🎑Take a Rest : Cluster 1 & 7\n",
    "  - 📑Studying : Cluster 2 & 3 & 6\n",
    "  - 🎬Shopping : Cluster 4 & 5\n",
    "      "
   ]
  },
  {
   "cell_type": "markdown",
   "metadata": {},
   "source": [
    "## Solution1"
   ]
  },
  {
   "cell_type": "code",
   "execution_count": 33,
   "metadata": {
    "ExecuteTime": {
     "end_time": "2020-02-20T04:25:10.961297Z",
     "start_time": "2020-02-20T04:25:10.953244Z"
    }
   },
   "outputs": [],
   "source": [
    "def LDA_ratsgo(documents, K):\n",
    "    print(\"LDA method\", documents.shape)\n",
    "    # 각 토픽이 각 문서에 할당되는 횟수\n",
    "    # Counter로 구성된 리스트\n",
    "    # 각 Counter는 각 문서를 의미\n",
    "    document_topic_counts = [Counter() for _ in documents]\n",
    "\n",
    "    # 각 단어가 각 토픽에 할당되는 횟수\n",
    "    # Counter로 구성된 리스트\n",
    "    # 각 Counter는 각 토픽을 의미\n",
    "    topic_word_counts = [Counter() for _ in range(K)]\n",
    "\n",
    "    # 각 토픽에 할당되는 총 단어수\n",
    "    # 숫자로 구성된 리스트\n",
    "    # 각각의 숫자는 각 토픽을 의미함\n",
    "    topic_counts = [0 for _ in range(K)]\n",
    "\n",
    "    # 각 문서에 포함되는 총 단어수\n",
    "    # 숫자로 구성된 리스트\n",
    "    # 각각의 숫자는 각 문서를 의미함\n",
    "    document_lengths = map(len, documents)\n",
    "\n",
    "    # 단어 종류의 수\n",
    "    distinct_words = set(word for document in documents for word in document)\n",
    "    V = len(distinct_words)\n",
    "\n",
    "    # 총 문서의 수\n",
    "    D = len(documents)\n",
    "\n",
    "\n",
    "    # 각 단어를 임의의 토픽에 랜덤 배정\n",
    "    document_topics = [[random.randrange(K) for word in document]\n",
    "                        for document in documents]\n",
    "\n",
    "    # 위와 같이 랜덤 초기화한 상태에서 \n",
    "    # AB를 구하는 데 필요한 숫자를 세어봄\n",
    "    for d in range(D):\n",
    "        for word, topic in zip(documents[d], document_topics[d]):\n",
    "            document_topic_counts[d][topic] += 1\n",
    "            topic_word_counts[topic][word] += 1\n",
    "            topic_counts[topic] += 1\n",
    "    return [document_topic_counts, topic_word_counts, topic_counts, document_lengths,distinct_words, V, D ]"
   ]
  },
  {
   "cell_type": "code",
   "execution_count": 38,
   "metadata": {
    "ExecuteTime": {
     "end_time": "2020-02-20T04:25:39.166095Z",
     "start_time": "2020-02-20T04:25:39.147275Z"
    }
   },
   "outputs": [
    {
     "name": "stdout",
     "output_type": "stream",
     "text": [
      "LDA method (22,)\n",
      "0  번째 문서의 토픽 비중 :  Counter({0: 85, 2: 76, 3: 65, 1: 65})\n",
      "0  번째 토픽의 단어 비중 :  Counter({'Communication': 626, 'Health & Fitness': 426, 'Background': 102, 'Comics': 41, 'Food & Drink': 37, 'Music': 29, 'Photography': 28, 'Entertainment': 21, 'Shopping': 20, 'Education': 19, 'Productivity': 17, 'Finance': 12, 'Travel & Local': 8, 'Business': 2, 'Books & Reference': 1})\n",
      "\n",
      "1  번째 문서의 토픽 비중 :  Counter({0: 77, 3: 71, 1: 64, 2: 60})\n",
      "1  번째 토픽의 단어 비중 :  Counter({'Communication': 655, 'Health & Fitness': 392, 'Background': 111, 'Food & Drink': 40, 'Comics': 37, 'Education': 31, 'Music': 30, 'Photography': 22, 'Shopping': 22, 'Finance': 18, 'Entertainment': 17, 'Productivity': 16, 'Travel & Local': 11, 'Books & Reference': 3, 'Lifestyle': 1})\n",
      "\n",
      "2  번째 문서의 토픽 비중 :  Counter({3: 104, 1: 103, 2: 100, 0: 98})\n",
      "2  번째 토픽의 단어 비중 :  Counter({'Communication': 664, 'Health & Fitness': 385, 'Background': 126, 'Food & Drink': 36, 'Music': 34, 'Comics': 30, 'Education': 27, 'Photography': 25, 'Productivity': 21, 'Shopping': 18, 'Entertainment': 17, 'Finance': 15, 'Travel & Local': 8, 'Business': 2, 'Books & Reference': 1})\n",
      "\n",
      "3  번째 문서의 토픽 비중 :  Counter({2: 54, 3: 46, 0: 42, 1: 40})\n",
      "3  번째 토픽의 단어 비중 :  Counter({'Communication': 659, 'Health & Fitness': 399, 'Background': 93, 'Food & Drink': 32, 'Comics': 31, 'Music': 31, 'Photography': 29, 'Education': 27, 'Productivity': 22, 'Entertainment': 21, 'Finance': 20, 'Shopping': 15, 'Travel & Local': 9, 'Lifestyle': 3, 'Business': 2, 'Books & Reference': 2})\n",
      "\n"
     ]
    }
   ],
   "source": [
    "random.seed(0)\n",
    "\n",
    "# topic 수 지정\n",
    "K=4\n",
    "documents = doc_df['category_docs'].values\n",
    "result = LDA_ratsgo(documents, K)\n",
    "\n",
    "for i in range(K):\n",
    "    print(i,\" 번째 문서의 토픽 비중 : \", result[0][i])\n",
    "    print(i,\" 번째 토픽의 단어 비중 : \" , result[1][i])\n",
    "    print()"
   ]
  },
  {
   "cell_type": "markdown",
   "metadata": {},
   "source": [
    "\n",
    "** 문제점 **\n",
    "- Communication 의 영향력이 너무 큼\n",
    "- 카테고리별 사용시간의 threshold 구하기!"
   ]
  },
  {
   "cell_type": "markdown",
   "metadata": {},
   "source": [
    "## Category threshold!"
   ]
  },
  {
   "cell_type": "code",
   "execution_count": 19,
   "metadata": {
    "ExecuteTime": {
     "end_time": "2020-02-20T04:22:35.769952Z",
     "start_time": "2020-02-20T04:22:35.754631Z"
    }
   },
   "outputs": [
    {
     "data": {
      "text/html": [
       "<div>\n",
       "<style scoped>\n",
       "    .dataframe tbody tr th:only-of-type {\n",
       "        vertical-align: middle;\n",
       "    }\n",
       "\n",
       "    .dataframe tbody tr th {\n",
       "        vertical-align: top;\n",
       "    }\n",
       "\n",
       "    .dataframe thead th {\n",
       "        text-align: right;\n",
       "    }\n",
       "</style>\n",
       "<table border=\"1\" class=\"dataframe\">\n",
       "  <thead>\n",
       "    <tr style=\"text-align: right;\">\n",
       "      <th></th>\n",
       "      <th>Unnamed: 0</th>\n",
       "      <th>_id</th>\n",
       "      <th>uid</th>\n",
       "      <th>date</th>\n",
       "      <th>stime</th>\n",
       "      <th>etime</th>\n",
       "      <th>packageName</th>\n",
       "      <th>total</th>\n",
       "      <th>isInUsable</th>\n",
       "      <th>packageFullName</th>\n",
       "      <th>category</th>\n",
       "    </tr>\n",
       "  </thead>\n",
       "  <tbody>\n",
       "    <tr>\n",
       "      <th>0</th>\n",
       "      <td>2</td>\n",
       "      <td>3</td>\n",
       "      <td>otfKOMf7VUaB5lxUARO0HNusxPB2</td>\n",
       "      <td>2018-12-03</td>\n",
       "      <td>2018-12-03 00:11:59</td>\n",
       "      <td>2018-12-03 00:12:10</td>\n",
       "      <td>캐시워크</td>\n",
       "      <td>11</td>\n",
       "      <td>True</td>\n",
       "      <td>com.cashwalk.cashwalk</td>\n",
       "      <td>Health &amp; Fitness</td>\n",
       "    </tr>\n",
       "    <tr>\n",
       "      <th>1</th>\n",
       "      <td>17</td>\n",
       "      <td>20</td>\n",
       "      <td>otfKOMf7VUaB5lxUARO0HNusxPB2</td>\n",
       "      <td>2018-12-03</td>\n",
       "      <td>2018-12-03 00:13:21</td>\n",
       "      <td>2018-12-03 00:13:24</td>\n",
       "      <td>카카오톡</td>\n",
       "      <td>3</td>\n",
       "      <td>True</td>\n",
       "      <td>com.kakao.talk</td>\n",
       "      <td>Communication</td>\n",
       "    </tr>\n",
       "    <tr>\n",
       "      <th>2</th>\n",
       "      <td>19</td>\n",
       "      <td>22</td>\n",
       "      <td>otfKOMf7VUaB5lxUARO0HNusxPB2</td>\n",
       "      <td>2018-12-03</td>\n",
       "      <td>2018-12-03 00:13:32</td>\n",
       "      <td>2018-12-03 00:13:33</td>\n",
       "      <td>카카오톡</td>\n",
       "      <td>1</td>\n",
       "      <td>True</td>\n",
       "      <td>com.kakao.talk</td>\n",
       "      <td>Communication</td>\n",
       "    </tr>\n",
       "  </tbody>\n",
       "</table>\n",
       "</div>"
      ],
      "text/plain": [
       "   Unnamed: 0  _id                           uid       date  \\\n",
       "0           2    3  otfKOMf7VUaB5lxUARO0HNusxPB2 2018-12-03   \n",
       "1          17   20  otfKOMf7VUaB5lxUARO0HNusxPB2 2018-12-03   \n",
       "2          19   22  otfKOMf7VUaB5lxUARO0HNusxPB2 2018-12-03   \n",
       "\n",
       "                 stime                etime packageName  total  isInUsable  \\\n",
       "0  2018-12-03 00:11:59  2018-12-03 00:12:10        캐시워크     11        True   \n",
       "1  2018-12-03 00:13:21  2018-12-03 00:13:24        카카오톡      3        True   \n",
       "2  2018-12-03 00:13:32  2018-12-03 00:13:33        카카오톡      1        True   \n",
       "\n",
       "         packageFullName          category  \n",
       "0  com.cashwalk.cashwalk  Health & Fitness  \n",
       "1         com.kakao.talk     Communication  \n",
       "2         com.kakao.talk     Communication  "
      ]
     },
     "execution_count": 19,
     "metadata": {},
     "output_type": "execute_result"
    }
   ],
   "source": [
    "app.head(3)"
   ]
  },
  {
   "cell_type": "markdown",
   "metadata": {},
   "source": [
    "### 앱 사용시간 기준"
   ]
  },
  {
   "cell_type": "code",
   "execution_count": 20,
   "metadata": {
    "ExecuteTime": {
     "end_time": "2020-02-20T04:22:36.982336Z",
     "start_time": "2020-02-20T04:22:36.762309Z"
    }
   },
   "outputs": [
    {
     "name": "stdout",
     "output_type": "stream",
     "text": [
      "9.0\n"
     ]
    },
    {
     "data": {
      "text/plain": [
       "<matplotlib.axes._subplots.AxesSubplot at 0x1211adcc0>"
      ]
     },
     "execution_count": 20,
     "metadata": {},
     "output_type": "execute_result"
    },
    {
     "data": {
      "image/png": "[encoded data removed]",
      "text/plain": [
       "<Figure size 720x288 with 1 Axes>"
      ]
     },
     "metadata": {
      "needs_background": "light"
     },
     "output_type": "display_data"
    }
   ],
   "source": [
    "app.head()\n",
    "print(app['total'].median())\n",
    "app['total'].plot()"
   ]
  },
  {
   "cell_type": "markdown",
   "metadata": {},
   "source": [
    "### 카테고리별 앱 사용시간 기준"
   ]
  },
  {
   "cell_type": "code",
   "execution_count": 21,
   "metadata": {
    "ExecuteTime": {
     "end_time": "2020-02-20T04:22:38.087632Z",
     "start_time": "2020-02-20T04:22:37.834117Z"
    }
   },
   "outputs": [
    {
     "data": {
      "text/plain": [
       "<matplotlib.axes._subplots.AxesSubplot at 0x1203329b0>"
      ]
     },
     "execution_count": 21,
     "metadata": {},
     "output_type": "execute_result"
    },
    {
     "data": {
      "image/png": "[encoded data removed]",
      "text/plain": [
       "<Figure size 720x288 with 1 Axes>"
      ]
     },
     "metadata": {
      "needs_background": "light"
     },
     "output_type": "display_data"
    }
   ],
   "source": [
    "app.groupby(['category'])['total'].median().plot()"
   ]
  },
  {
   "cell_type": "code",
   "execution_count": 22,
   "metadata": {
    "ExecuteTime": {
     "end_time": "2020-02-20T04:22:38.437653Z",
     "start_time": "2020-02-20T04:22:38.428704Z"
    }
   },
   "outputs": [
    {
     "data": {
      "text/plain": [
       "category\n",
       "Background            5.0\n",
       "Books & Reference     8.0\n",
       "Business              2.5\n",
       "Comics                7.0\n",
       "Communication         7.0\n",
       "Education             5.0\n",
       "Entertainment        36.0\n",
       "Finance               3.0\n",
       "Food & Drink          4.0\n",
       "Health & Fitness     11.0\n",
       "Lifestyle             2.5\n",
       "Music                11.0\n",
       "Photography          16.5\n",
       "Productivity          7.0\n",
       "Shopping              7.0\n",
       "Travel & Local       10.0\n",
       "Name: total, dtype: float64"
      ]
     },
     "execution_count": 22,
     "metadata": {},
     "output_type": "execute_result"
    }
   ],
   "source": [
    "app.groupby(['category'])['total'].median()"
   ]
  },
  {
   "cell_type": "markdown",
   "metadata": {},
   "source": [
    "## Solution2\n",
    "- 9초, 15초 이상 사용한 것만 사용"
   ]
  },
  {
   "cell_type": "markdown",
   "metadata": {},
   "source": [
    "https://towardsdatascience.com/topic-modeling-and-latent-dirichlet-allocation-in-python-9bf156893c24"
   ]
  },
  {
   "cell_type": "code",
   "execution_count": 30,
   "metadata": {
    "ExecuteTime": {
     "end_time": "2020-02-20T04:24:09.746343Z",
     "start_time": "2020-02-20T04:24:09.740786Z"
    }
   },
   "outputs": [
    {
     "name": "stdout",
     "output_type": "stream",
     "text": [
      "(5599, 11) (1471, 11)\n"
     ]
    }
   ],
   "source": [
    "print(app.shape, app[app['total']>15].shape)\n"
   ]
  },
  {
   "cell_type": "code",
   "execution_count": 23,
   "metadata": {
    "ExecuteTime": {
     "end_time": "2020-02-20T04:23:04.146811Z",
     "start_time": "2020-02-20T04:23:04.115242Z"
    }
   },
   "outputs": [],
   "source": [
    "app_ver2 = app[app['total']>15]\n",
    "docs_ver2 = {}\n",
    "\n",
    "for date in date_unique:\n",
    "    docs_ver2[date] = \"\"\n",
    "    docs_ver2[date] += (app_ver2[app_ver2['date']==date]['category'].values)\n",
    "\n",
    "doc_df_ver2 = pd.DataFrame(list(docs_ver2.items()),columns = ['date','category_docs']) \n"
   ]
  },
  {
   "cell_type": "code",
   "execution_count": 24,
   "metadata": {
    "ExecuteTime": {
     "end_time": "2020-02-20T04:23:04.581406Z",
     "start_time": "2020-02-20T04:23:04.567448Z"
    }
   },
   "outputs": [
    {
     "data": {
      "text/html": [
       "<div>\n",
       "<style scoped>\n",
       "    .dataframe tbody tr th:only-of-type {\n",
       "        vertical-align: middle;\n",
       "    }\n",
       "\n",
       "    .dataframe tbody tr th {\n",
       "        vertical-align: top;\n",
       "    }\n",
       "\n",
       "    .dataframe thead th {\n",
       "        text-align: right;\n",
       "    }\n",
       "</style>\n",
       "<table border=\"1\" class=\"dataframe\">\n",
       "  <thead>\n",
       "    <tr style=\"text-align: right;\">\n",
       "      <th></th>\n",
       "      <th>date</th>\n",
       "      <th>category_docs</th>\n",
       "    </tr>\n",
       "  </thead>\n",
       "  <tbody>\n",
       "    <tr>\n",
       "      <th>0</th>\n",
       "      <td>2018-12-17</td>\n",
       "      <td>[Communication, Communication, Communication, ...</td>\n",
       "    </tr>\n",
       "    <tr>\n",
       "      <th>1</th>\n",
       "      <td>2018-12-07</td>\n",
       "      <td>[Communication, Health &amp; Fitness, Communicatio...</td>\n",
       "    </tr>\n",
       "    <tr>\n",
       "      <th>2</th>\n",
       "      <td>2018-12-14</td>\n",
       "      <td>[Communication, Finance, Communication, Commun...</td>\n",
       "    </tr>\n",
       "    <tr>\n",
       "      <th>3</th>\n",
       "      <td>2018-12-13</td>\n",
       "      <td>[Communication, Communication, Communication, ...</td>\n",
       "    </tr>\n",
       "    <tr>\n",
       "      <th>4</th>\n",
       "      <td>2018-12-11</td>\n",
       "      <td>[Comics, Comics, Comics, Comics, Comics, Comic...</td>\n",
       "    </tr>\n",
       "  </tbody>\n",
       "</table>\n",
       "</div>"
      ],
      "text/plain": [
       "        date                                      category_docs\n",
       "0 2018-12-17  [Communication, Communication, Communication, ...\n",
       "1 2018-12-07  [Communication, Health & Fitness, Communicatio...\n",
       "2 2018-12-14  [Communication, Finance, Communication, Commun...\n",
       "3 2018-12-13  [Communication, Communication, Communication, ...\n",
       "4 2018-12-11  [Comics, Comics, Comics, Comics, Comics, Comic..."
      ]
     },
     "execution_count": 24,
     "metadata": {},
     "output_type": "execute_result"
    }
   ],
   "source": [
    "doc_df_ver2.head()"
   ]
  },
  {
   "cell_type": "code",
   "execution_count": 35,
   "metadata": {
    "ExecuteTime": {
     "end_time": "2020-02-20T04:25:21.211843Z",
     "start_time": "2020-02-20T04:25:21.208970Z"
    }
   },
   "outputs": [],
   "source": [
    "documents_ver2 = doc_df_ver2['category_docs'].values"
   ]
  },
  {
   "cell_type": "code",
   "execution_count": 39,
   "metadata": {
    "ExecuteTime": {
     "end_time": "2020-02-20T04:25:48.430832Z",
     "start_time": "2020-02-20T04:25:48.419950Z"
    }
   },
   "outputs": [
    {
     "name": "stdout",
     "output_type": "stream",
     "text": [
      "(22,)\n",
      "LDA method (22,)\n",
      "0  번째 문서의 토픽 비중 :  Counter({2: 28, 0: 26, 1: 24, 3: 22})\n",
      "0  번째 토픽의 단어 비중 :  Counter({'Communication': 204, 'Health & Fitness': 59, 'Background': 25, 'Entertainment': 20, 'Photography': 16, 'Comics': 14, 'Productivity': 11, 'Music': 8, 'Food & Drink': 8, 'Travel & Local': 6, 'Education': 6, 'Shopping': 5, 'Books & Reference': 3})\n",
      "\n",
      "1  번째 문서의 토픽 비중 :  Counter({0: 24, 1: 14, 2: 13, 3: 12})\n",
      "1  번째 토픽의 단어 비중 :  Counter({'Communication': 214, 'Health & Fitness': 59, 'Background': 14, 'Comics': 12, 'Education': 11, 'Music': 7, 'Productivity': 6, 'Photography': 6, 'Finance': 5, 'Shopping': 5, 'Entertainment': 5, 'Food & Drink': 5, 'Travel & Local': 3})\n",
      "\n",
      "2  번째 문서의 토픽 비중 :  Counter({0: 28, 2: 26, 1: 24, 3: 23})\n",
      "2  번째 토픽의 단어 비중 :  Counter({'Communication': 212, 'Health & Fitness': 56, 'Background': 17, 'Photography': 16, 'Comics': 13, 'Education': 8, 'Entertainment': 8, 'Shopping': 8, 'Music': 8, 'Food & Drink': 7, 'Productivity': 5, 'Travel & Local': 2, 'Finance': 1})\n",
      "\n",
      "3  번째 문서의 토픽 비중 :  Counter({3: 14, 0: 14, 2: 12, 1: 8})\n",
      "3  번째 토픽의 단어 비중 :  Counter({'Communication': 205, 'Health & Fitness': 60, 'Background': 19, 'Comics': 18, 'Photography': 15, 'Entertainment': 14, 'Shopping': 11, 'Education': 8, 'Food & Drink': 6, 'Productivity': 5, 'Finance': 4, 'Travel & Local': 4, 'Music': 3, 'Lifestyle': 1})\n",
      "\n"
     ]
    }
   ],
   "source": [
    "random.seed(0)\n",
    "\n",
    "# topic 수 지정\n",
    "K=4\n",
    "print(documents_ver2.shape)\n",
    "result = LDA_ratsgo(documents_ver2, K)\n",
    "\n",
    "for i in range(K):\n",
    "    print(i,\" 번째 문서의 토픽 비중 : \", result[0][i])\n",
    "    print(i,\" 번째 토픽의 단어 비중 : \" , result[1][i])\n",
    "    print()"
   ]
  },
  {
   "cell_type": "markdown",
   "metadata": {},
   "source": [
    "## Solution3 : health & fitness, background, communication 제거"
   ]
  },
  {
   "cell_type": "code",
   "execution_count": 40,
   "metadata": {
    "ExecuteTime": {
     "end_time": "2020-02-20T04:27:10.014210Z",
     "start_time": "2020-02-20T04:27:09.999920Z"
    }
   },
   "outputs": [
    {
     "data": {
      "text/html": [
       "<div>\n",
       "<style scoped>\n",
       "    .dataframe tbody tr th:only-of-type {\n",
       "        vertical-align: middle;\n",
       "    }\n",
       "\n",
       "    .dataframe tbody tr th {\n",
       "        vertical-align: top;\n",
       "    }\n",
       "\n",
       "    .dataframe thead th {\n",
       "        text-align: right;\n",
       "    }\n",
       "</style>\n",
       "<table border=\"1\" class=\"dataframe\">\n",
       "  <thead>\n",
       "    <tr style=\"text-align: right;\">\n",
       "      <th></th>\n",
       "      <th>Unnamed: 0</th>\n",
       "      <th>_id</th>\n",
       "      <th>uid</th>\n",
       "      <th>date</th>\n",
       "      <th>stime</th>\n",
       "      <th>etime</th>\n",
       "      <th>packageName</th>\n",
       "      <th>total</th>\n",
       "      <th>isInUsable</th>\n",
       "      <th>packageFullName</th>\n",
       "      <th>category</th>\n",
       "    </tr>\n",
       "  </thead>\n",
       "  <tbody>\n",
       "    <tr>\n",
       "      <th>0</th>\n",
       "      <td>2</td>\n",
       "      <td>3</td>\n",
       "      <td>otfKOMf7VUaB5lxUARO0HNusxPB2</td>\n",
       "      <td>2018-12-03</td>\n",
       "      <td>2018-12-03 00:11:59</td>\n",
       "      <td>2018-12-03 00:12:10</td>\n",
       "      <td>캐시워크</td>\n",
       "      <td>11</td>\n",
       "      <td>True</td>\n",
       "      <td>com.cashwalk.cashwalk</td>\n",
       "      <td>Health &amp; Fitness</td>\n",
       "    </tr>\n",
       "    <tr>\n",
       "      <th>1</th>\n",
       "      <td>17</td>\n",
       "      <td>20</td>\n",
       "      <td>otfKOMf7VUaB5lxUARO0HNusxPB2</td>\n",
       "      <td>2018-12-03</td>\n",
       "      <td>2018-12-03 00:13:21</td>\n",
       "      <td>2018-12-03 00:13:24</td>\n",
       "      <td>카카오톡</td>\n",
       "      <td>3</td>\n",
       "      <td>True</td>\n",
       "      <td>com.kakao.talk</td>\n",
       "      <td>Communication</td>\n",
       "    </tr>\n",
       "    <tr>\n",
       "      <th>2</th>\n",
       "      <td>19</td>\n",
       "      <td>22</td>\n",
       "      <td>otfKOMf7VUaB5lxUARO0HNusxPB2</td>\n",
       "      <td>2018-12-03</td>\n",
       "      <td>2018-12-03 00:13:32</td>\n",
       "      <td>2018-12-03 00:13:33</td>\n",
       "      <td>카카오톡</td>\n",
       "      <td>1</td>\n",
       "      <td>True</td>\n",
       "      <td>com.kakao.talk</td>\n",
       "      <td>Communication</td>\n",
       "    </tr>\n",
       "  </tbody>\n",
       "</table>\n",
       "</div>"
      ],
      "text/plain": [
       "   Unnamed: 0  _id                           uid       date  \\\n",
       "0           2    3  otfKOMf7VUaB5lxUARO0HNusxPB2 2018-12-03   \n",
       "1          17   20  otfKOMf7VUaB5lxUARO0HNusxPB2 2018-12-03   \n",
       "2          19   22  otfKOMf7VUaB5lxUARO0HNusxPB2 2018-12-03   \n",
       "\n",
       "                 stime                etime packageName  total  isInUsable  \\\n",
       "0  2018-12-03 00:11:59  2018-12-03 00:12:10        캐시워크     11        True   \n",
       "1  2018-12-03 00:13:21  2018-12-03 00:13:24        카카오톡      3        True   \n",
       "2  2018-12-03 00:13:32  2018-12-03 00:13:33        카카오톡      1        True   \n",
       "\n",
       "         packageFullName          category  \n",
       "0  com.cashwalk.cashwalk  Health & Fitness  \n",
       "1         com.kakao.talk     Communication  \n",
       "2         com.kakao.talk     Communication  "
      ]
     },
     "execution_count": 40,
     "metadata": {},
     "output_type": "execute_result"
    }
   ],
   "source": [
    "app.head(3)"
   ]
  },
  {
   "cell_type": "code",
   "execution_count": 41,
   "metadata": {
    "ExecuteTime": {
     "end_time": "2020-02-20T04:27:11.860751Z",
     "start_time": "2020-02-20T04:27:11.830438Z"
    }
   },
   "outputs": [],
   "source": [
    "app_ver3 = app[~app['category'].isin(['Health & Fitness', 'Communication', 'Background'])]\n",
    "docs_ver3 = {}\n",
    "\n",
    "for date in date_unique:\n",
    "    docs_ver3[date] = \"\"\n",
    "    docs_ver3[date] += (app_ver3[app_ver3['date']==date]['category'].values)\n",
    "\n",
    "doc_df_ver3 = pd.DataFrame(list(docs_ver3.items()),columns = ['date','category_docs']) \n"
   ]
  },
  {
   "cell_type": "code",
   "execution_count": 44,
   "metadata": {
    "ExecuteTime": {
     "end_time": "2020-02-20T04:27:24.628907Z",
     "start_time": "2020-02-20T04:27:24.620789Z"
    }
   },
   "outputs": [
    {
     "name": "stdout",
     "output_type": "stream",
     "text": [
      "LDA method (22,)\n",
      "0  번째 문서의 토픽 비중 :  Counter({2: 16, 0: 14, 3: 13, 1: 11})\n",
      "0  번째 토픽의 단어 비중 :  Counter({'Comics': 39, 'Food & Drink': 36, 'Photography': 32, 'Shopping': 31, 'Education': 25, 'Music': 25, 'Entertainment': 24, 'Productivity': 23, 'Travel & Local': 12, 'Finance': 10, 'Lifestyle': 1, 'Books & Reference': 1, 'Business': 1})\n",
      "\n",
      "1  번째 문서의 토픽 비중 :  Counter({1: 8, 2: 6, 0: 6, 3: 5})\n",
      "1  번째 토픽의 단어 비중 :  Counter({'Comics': 37, 'Food & Drink': 29, 'Education': 27, 'Music': 27, 'Photography': 25, 'Productivity': 21, 'Entertainment': 20, 'Finance': 16, 'Shopping': 15, 'Travel & Local': 8, 'Lifestyle': 2, 'Business': 1, 'Books & Reference': 1})\n",
      "\n",
      "2  번째 문서의 토픽 비중 :  Counter({0: 30, 2: 23, 1: 22, 3: 18})\n",
      "2  번째 토픽의 단어 비중 :  Counter({'Food & Drink': 36, 'Music': 34, 'Comics': 27, 'Education': 27, 'Photography': 26, 'Finance': 21, 'Productivity': 16, 'Entertainment': 15, 'Shopping': 14, 'Travel & Local': 11, 'Books & Reference': 3, 'Business': 3})\n",
      "\n",
      "3  번째 문서의 토픽 비중 :  Counter({3: 14, 0: 12, 1: 9, 2: 5})\n",
      "3  번째 토픽의 단어 비중 :  Counter({'Food & Drink': 44, 'Music': 38, 'Comics': 36, 'Education': 25, 'Photography': 21, 'Finance': 18, 'Entertainment': 17, 'Productivity': 16, 'Shopping': 15, 'Travel & Local': 5, 'Books & Reference': 2, 'Business': 1, 'Lifestyle': 1})\n",
      "\n"
     ]
    }
   ],
   "source": [
    "documents_ver3 = doc_df_ver3['category_docs'].values\n",
    "random.seed(0)\n",
    "\n",
    "# topic 수 지정\n",
    "K=4\n",
    "result = LDA_ratsgo(documents_ver3, K)\n",
    "\n",
    "for i in range(K):\n",
    "    print(i,\" 번째 문서의 토픽 비중 : \", result[0][i])\n",
    "    print(i,\" 번째 토픽의 단어 비중 : \" , result[1][i])\n",
    "    print()"
   ]
  },
  {
   "cell_type": "markdown",
   "metadata": {},
   "source": [
    "## Solution4\n",
    "Communication --> SNS/Chatting 분리"
   ]
  },
  {
   "cell_type": "code",
   "execution_count": 62,
   "metadata": {
    "ExecuteTime": {
     "end_time": "2020-02-20T06:53:50.525534Z",
     "start_time": "2020-02-20T06:53:50.510674Z"
    }
   },
   "outputs": [
    {
     "data": {
      "text/html": [
       "<div>\n",
       "<style scoped>\n",
       "    .dataframe tbody tr th:only-of-type {\n",
       "        vertical-align: middle;\n",
       "    }\n",
       "\n",
       "    .dataframe tbody tr th {\n",
       "        vertical-align: top;\n",
       "    }\n",
       "\n",
       "    .dataframe thead th {\n",
       "        text-align: right;\n",
       "    }\n",
       "</style>\n",
       "<table border=\"1\" class=\"dataframe\">\n",
       "  <thead>\n",
       "    <tr style=\"text-align: right;\">\n",
       "      <th></th>\n",
       "      <th>Unnamed: 0</th>\n",
       "      <th>_id</th>\n",
       "      <th>uid</th>\n",
       "      <th>date</th>\n",
       "      <th>stime</th>\n",
       "      <th>etime</th>\n",
       "      <th>packageName</th>\n",
       "      <th>total</th>\n",
       "      <th>isInUsable</th>\n",
       "      <th>packageFullName</th>\n",
       "      <th>category</th>\n",
       "    </tr>\n",
       "  </thead>\n",
       "  <tbody>\n",
       "    <tr>\n",
       "      <th>0</th>\n",
       "      <td>2</td>\n",
       "      <td>3</td>\n",
       "      <td>otfKOMf7VUaB5lxUARO0HNusxPB2</td>\n",
       "      <td>2018-12-03</td>\n",
       "      <td>2018-12-03 00:11:59</td>\n",
       "      <td>2018-12-03 00:12:10</td>\n",
       "      <td>캐시워크</td>\n",
       "      <td>11</td>\n",
       "      <td>True</td>\n",
       "      <td>com.cashwalk.cashwalk</td>\n",
       "      <td>Health &amp; Fitness</td>\n",
       "    </tr>\n",
       "    <tr>\n",
       "      <th>1</th>\n",
       "      <td>17</td>\n",
       "      <td>20</td>\n",
       "      <td>otfKOMf7VUaB5lxUARO0HNusxPB2</td>\n",
       "      <td>2018-12-03</td>\n",
       "      <td>2018-12-03 00:13:21</td>\n",
       "      <td>2018-12-03 00:13:24</td>\n",
       "      <td>카카오톡</td>\n",
       "      <td>3</td>\n",
       "      <td>True</td>\n",
       "      <td>com.kakao.talk</td>\n",
       "      <td>Chat</td>\n",
       "    </tr>\n",
       "    <tr>\n",
       "      <th>2</th>\n",
       "      <td>19</td>\n",
       "      <td>22</td>\n",
       "      <td>otfKOMf7VUaB5lxUARO0HNusxPB2</td>\n",
       "      <td>2018-12-03</td>\n",
       "      <td>2018-12-03 00:13:32</td>\n",
       "      <td>2018-12-03 00:13:33</td>\n",
       "      <td>카카오톡</td>\n",
       "      <td>1</td>\n",
       "      <td>True</td>\n",
       "      <td>com.kakao.talk</td>\n",
       "      <td>Chat</td>\n",
       "    </tr>\n",
       "    <tr>\n",
       "      <th>3</th>\n",
       "      <td>55</td>\n",
       "      <td>70</td>\n",
       "      <td>otfKOMf7VUaB5lxUARO0HNusxPB2</td>\n",
       "      <td>2018-12-03</td>\n",
       "      <td>2018-12-03 00:24:26</td>\n",
       "      <td>2018-12-03 00:24:53</td>\n",
       "      <td>카카오톡</td>\n",
       "      <td>27</td>\n",
       "      <td>True</td>\n",
       "      <td>com.kakao.talk</td>\n",
       "      <td>Chat</td>\n",
       "    </tr>\n",
       "    <tr>\n",
       "      <th>4</th>\n",
       "      <td>82</td>\n",
       "      <td>113</td>\n",
       "      <td>otfKOMf7VUaB5lxUARO0HNusxPB2</td>\n",
       "      <td>2018-12-03</td>\n",
       "      <td>2018-12-03 00:33:29</td>\n",
       "      <td>2018-12-03 00:42:48</td>\n",
       "      <td>Facebook</td>\n",
       "      <td>559</td>\n",
       "      <td>True</td>\n",
       "      <td>com.facebook.katana</td>\n",
       "      <td>Communication</td>\n",
       "    </tr>\n",
       "  </tbody>\n",
       "</table>\n",
       "</div>"
      ],
      "text/plain": [
       "   Unnamed: 0  _id                           uid       date  \\\n",
       "0           2    3  otfKOMf7VUaB5lxUARO0HNusxPB2 2018-12-03   \n",
       "1          17   20  otfKOMf7VUaB5lxUARO0HNusxPB2 2018-12-03   \n",
       "2          19   22  otfKOMf7VUaB5lxUARO0HNusxPB2 2018-12-03   \n",
       "3          55   70  otfKOMf7VUaB5lxUARO0HNusxPB2 2018-12-03   \n",
       "4          82  113  otfKOMf7VUaB5lxUARO0HNusxPB2 2018-12-03   \n",
       "\n",
       "                 stime                etime packageName  total  isInUsable  \\\n",
       "0  2018-12-03 00:11:59  2018-12-03 00:12:10        캐시워크     11        True   \n",
       "1  2018-12-03 00:13:21  2018-12-03 00:13:24        카카오톡      3        True   \n",
       "2  2018-12-03 00:13:32  2018-12-03 00:13:33        카카오톡      1        True   \n",
       "3  2018-12-03 00:24:26  2018-12-03 00:24:53        카카오톡     27        True   \n",
       "4  2018-12-03 00:33:29  2018-12-03 00:42:48    Facebook    559        True   \n",
       "\n",
       "         packageFullName          category  \n",
       "0  com.cashwalk.cashwalk  Health & Fitness  \n",
       "1         com.kakao.talk              Chat  \n",
       "2         com.kakao.talk              Chat  \n",
       "3         com.kakao.talk              Chat  \n",
       "4    com.facebook.katana     Communication  "
      ]
     },
     "execution_count": 62,
     "metadata": {},
     "output_type": "execute_result"
    }
   ],
   "source": [
    "app.head()"
   ]
  },
  {
   "cell_type": "code",
   "execution_count": null,
   "metadata": {},
   "outputs": [],
   "source": []
  },
  {
   "cell_type": "code",
   "execution_count": 60,
   "metadata": {
    "ExecuteTime": {
     "end_time": "2020-02-20T06:52:30.757215Z",
     "start_time": "2020-02-20T06:52:30.561001Z"
    }
   },
   "outputs": [
    {
     "data": {
      "text/html": [
       "<div>\n",
       "<style scoped>\n",
       "    .dataframe tbody tr th:only-of-type {\n",
       "        vertical-align: middle;\n",
       "    }\n",
       "\n",
       "    .dataframe tbody tr th {\n",
       "        vertical-align: top;\n",
       "    }\n",
       "\n",
       "    .dataframe thead th {\n",
       "        text-align: right;\n",
       "    }\n",
       "</style>\n",
       "<table border=\"1\" class=\"dataframe\">\n",
       "  <thead>\n",
       "    <tr style=\"text-align: right;\">\n",
       "      <th></th>\n",
       "      <th>Unnamed: 0</th>\n",
       "      <th>_id</th>\n",
       "      <th>uid</th>\n",
       "      <th>date</th>\n",
       "      <th>stime</th>\n",
       "      <th>etime</th>\n",
       "      <th>packageName</th>\n",
       "      <th>total</th>\n",
       "      <th>isInUsable</th>\n",
       "      <th>packageFullName</th>\n",
       "      <th>category</th>\n",
       "    </tr>\n",
       "  </thead>\n",
       "  <tbody>\n",
       "    <tr>\n",
       "      <th>0</th>\n",
       "      <td>2</td>\n",
       "      <td>3</td>\n",
       "      <td>otfKOMf7VUaB5lxUARO0HNusxPB2</td>\n",
       "      <td>2018-12-03</td>\n",
       "      <td>2018-12-03 00:11:59</td>\n",
       "      <td>2018-12-03 00:12:10</td>\n",
       "      <td>캐시워크</td>\n",
       "      <td>11</td>\n",
       "      <td>True</td>\n",
       "      <td>com.cashwalk.cashwalk</td>\n",
       "      <td>Health &amp; Fitness</td>\n",
       "    </tr>\n",
       "    <tr>\n",
       "      <th>1</th>\n",
       "      <td>17</td>\n",
       "      <td>20</td>\n",
       "      <td>otfKOMf7VUaB5lxUARO0HNusxPB2</td>\n",
       "      <td>2018-12-03</td>\n",
       "      <td>2018-12-03 00:13:21</td>\n",
       "      <td>2018-12-03 00:13:24</td>\n",
       "      <td>카카오톡</td>\n",
       "      <td>3</td>\n",
       "      <td>True</td>\n",
       "      <td>com.kakao.talk</td>\n",
       "      <td>Chat</td>\n",
       "    </tr>\n",
       "    <tr>\n",
       "      <th>2</th>\n",
       "      <td>19</td>\n",
       "      <td>22</td>\n",
       "      <td>otfKOMf7VUaB5lxUARO0HNusxPB2</td>\n",
       "      <td>2018-12-03</td>\n",
       "      <td>2018-12-03 00:13:32</td>\n",
       "      <td>2018-12-03 00:13:33</td>\n",
       "      <td>카카오톡</td>\n",
       "      <td>1</td>\n",
       "      <td>True</td>\n",
       "      <td>com.kakao.talk</td>\n",
       "      <td>Chat</td>\n",
       "    </tr>\n",
       "    <tr>\n",
       "      <th>3</th>\n",
       "      <td>55</td>\n",
       "      <td>70</td>\n",
       "      <td>otfKOMf7VUaB5lxUARO0HNusxPB2</td>\n",
       "      <td>2018-12-03</td>\n",
       "      <td>2018-12-03 00:24:26</td>\n",
       "      <td>2018-12-03 00:24:53</td>\n",
       "      <td>카카오톡</td>\n",
       "      <td>27</td>\n",
       "      <td>True</td>\n",
       "      <td>com.kakao.talk</td>\n",
       "      <td>Chat</td>\n",
       "    </tr>\n",
       "    <tr>\n",
       "      <th>4</th>\n",
       "      <td>82</td>\n",
       "      <td>113</td>\n",
       "      <td>otfKOMf7VUaB5lxUARO0HNusxPB2</td>\n",
       "      <td>2018-12-03</td>\n",
       "      <td>2018-12-03 00:33:29</td>\n",
       "      <td>2018-12-03 00:42:48</td>\n",
       "      <td>Facebook</td>\n",
       "      <td>559</td>\n",
       "      <td>True</td>\n",
       "      <td>com.facebook.katana</td>\n",
       "      <td>Communication</td>\n",
       "    </tr>\n",
       "  </tbody>\n",
       "</table>\n",
       "</div>"
      ],
      "text/plain": [
       "   Unnamed: 0  _id                           uid       date  \\\n",
       "0           2    3  otfKOMf7VUaB5lxUARO0HNusxPB2 2018-12-03   \n",
       "1          17   20  otfKOMf7VUaB5lxUARO0HNusxPB2 2018-12-03   \n",
       "2          19   22  otfKOMf7VUaB5lxUARO0HNusxPB2 2018-12-03   \n",
       "3          55   70  otfKOMf7VUaB5lxUARO0HNusxPB2 2018-12-03   \n",
       "4          82  113  otfKOMf7VUaB5lxUARO0HNusxPB2 2018-12-03   \n",
       "\n",
       "                 stime                etime packageName  total  isInUsable  \\\n",
       "0  2018-12-03 00:11:59  2018-12-03 00:12:10        캐시워크     11        True   \n",
       "1  2018-12-03 00:13:21  2018-12-03 00:13:24        카카오톡      3        True   \n",
       "2  2018-12-03 00:13:32  2018-12-03 00:13:33        카카오톡      1        True   \n",
       "3  2018-12-03 00:24:26  2018-12-03 00:24:53        카카오톡     27        True   \n",
       "4  2018-12-03 00:33:29  2018-12-03 00:42:48    Facebook    559        True   \n",
       "\n",
       "         packageFullName          category  \n",
       "0  com.cashwalk.cashwalk  Health & Fitness  \n",
       "1         com.kakao.talk              Chat  \n",
       "2         com.kakao.talk              Chat  \n",
       "3         com.kakao.talk              Chat  \n",
       "4    com.facebook.katana     Communication  "
      ]
     },
     "execution_count": 60,
     "metadata": {},
     "output_type": "execute_result"
    }
   ],
   "source": [
    "\n",
    "app['category'] =app.apply(lambda row : 'Chat' if row['packageName'] == '카카오톡' else row['category'], axis=1)\n",
    "app.head()"
   ]
  },
  {
   "cell_type": "code",
   "execution_count": 65,
   "metadata": {
    "ExecuteTime": {
     "end_time": "2020-02-20T06:55:00.518612Z",
     "start_time": "2020-02-20T06:55:00.497455Z"
    }
   },
   "outputs": [
    {
     "data": {
      "text/html": [
       "<div>\n",
       "<style scoped>\n",
       "    .dataframe tbody tr th:only-of-type {\n",
       "        vertical-align: middle;\n",
       "    }\n",
       "\n",
       "    .dataframe tbody tr th {\n",
       "        vertical-align: top;\n",
       "    }\n",
       "\n",
       "    .dataframe thead th {\n",
       "        text-align: right;\n",
       "    }\n",
       "</style>\n",
       "<table border=\"1\" class=\"dataframe\">\n",
       "  <thead>\n",
       "    <tr style=\"text-align: right;\">\n",
       "      <th></th>\n",
       "      <th>Unnamed: 0</th>\n",
       "      <th>_id</th>\n",
       "      <th>uid</th>\n",
       "      <th>date</th>\n",
       "      <th>stime</th>\n",
       "      <th>etime</th>\n",
       "      <th>total</th>\n",
       "      <th>isInUsable</th>\n",
       "      <th>packageFullName</th>\n",
       "      <th>category</th>\n",
       "    </tr>\n",
       "    <tr>\n",
       "      <th>packageName</th>\n",
       "      <th></th>\n",
       "      <th></th>\n",
       "      <th></th>\n",
       "      <th></th>\n",
       "      <th></th>\n",
       "      <th></th>\n",
       "      <th></th>\n",
       "      <th></th>\n",
       "      <th></th>\n",
       "      <th></th>\n",
       "    </tr>\n",
       "  </thead>\n",
       "  <tbody>\n",
       "    <tr>\n",
       "      <th>BAND</th>\n",
       "      <td>8</td>\n",
       "      <td>8</td>\n",
       "      <td>8</td>\n",
       "      <td>8</td>\n",
       "      <td>8</td>\n",
       "      <td>8</td>\n",
       "      <td>8</td>\n",
       "      <td>8</td>\n",
       "      <td>8</td>\n",
       "      <td>8</td>\n",
       "    </tr>\n",
       "    <tr>\n",
       "      <th>Between</th>\n",
       "      <td>1</td>\n",
       "      <td>1</td>\n",
       "      <td>1</td>\n",
       "      <td>1</td>\n",
       "      <td>1</td>\n",
       "      <td>1</td>\n",
       "      <td>1</td>\n",
       "      <td>1</td>\n",
       "      <td>1</td>\n",
       "      <td>1</td>\n",
       "    </tr>\n",
       "    <tr>\n",
       "      <th>Chrome</th>\n",
       "      <td>54</td>\n",
       "      <td>54</td>\n",
       "      <td>54</td>\n",
       "      <td>54</td>\n",
       "      <td>54</td>\n",
       "      <td>54</td>\n",
       "      <td>54</td>\n",
       "      <td>54</td>\n",
       "      <td>54</td>\n",
       "      <td>54</td>\n",
       "    </tr>\n",
       "    <tr>\n",
       "      <th>Facebook</th>\n",
       "      <td>572</td>\n",
       "      <td>572</td>\n",
       "      <td>572</td>\n",
       "      <td>572</td>\n",
       "      <td>572</td>\n",
       "      <td>572</td>\n",
       "      <td>572</td>\n",
       "      <td>572</td>\n",
       "      <td>572</td>\n",
       "      <td>572</td>\n",
       "    </tr>\n",
       "    <tr>\n",
       "      <th>Gmail</th>\n",
       "      <td>33</td>\n",
       "      <td>33</td>\n",
       "      <td>33</td>\n",
       "      <td>33</td>\n",
       "      <td>33</td>\n",
       "      <td>33</td>\n",
       "      <td>33</td>\n",
       "      <td>33</td>\n",
       "      <td>33</td>\n",
       "      <td>33</td>\n",
       "    </tr>\n",
       "    <tr>\n",
       "      <th>Instagram</th>\n",
       "      <td>13</td>\n",
       "      <td>13</td>\n",
       "      <td>13</td>\n",
       "      <td>13</td>\n",
       "      <td>13</td>\n",
       "      <td>13</td>\n",
       "      <td>13</td>\n",
       "      <td>13</td>\n",
       "      <td>13</td>\n",
       "      <td>13</td>\n",
       "    </tr>\n",
       "    <tr>\n",
       "      <th>Messenger</th>\n",
       "      <td>5</td>\n",
       "      <td>5</td>\n",
       "      <td>5</td>\n",
       "      <td>5</td>\n",
       "      <td>5</td>\n",
       "      <td>5</td>\n",
       "      <td>5</td>\n",
       "      <td>5</td>\n",
       "      <td>5</td>\n",
       "      <td>5</td>\n",
       "    </tr>\n",
       "    <tr>\n",
       "      <th>NAVER</th>\n",
       "      <td>171</td>\n",
       "      <td>171</td>\n",
       "      <td>171</td>\n",
       "      <td>171</td>\n",
       "      <td>171</td>\n",
       "      <td>171</td>\n",
       "      <td>171</td>\n",
       "      <td>171</td>\n",
       "      <td>171</td>\n",
       "      <td>171</td>\n",
       "    </tr>\n",
       "    <tr>\n",
       "      <th>아주톡톡</th>\n",
       "      <td>1</td>\n",
       "      <td>1</td>\n",
       "      <td>1</td>\n",
       "      <td>1</td>\n",
       "      <td>1</td>\n",
       "      <td>1</td>\n",
       "      <td>1</td>\n",
       "      <td>1</td>\n",
       "      <td>1</td>\n",
       "      <td>1</td>\n",
       "    </tr>\n",
       "    <tr>\n",
       "      <th>에브리타임</th>\n",
       "      <td>162</td>\n",
       "      <td>162</td>\n",
       "      <td>162</td>\n",
       "      <td>162</td>\n",
       "      <td>162</td>\n",
       "      <td>162</td>\n",
       "      <td>162</td>\n",
       "      <td>162</td>\n",
       "      <td>162</td>\n",
       "      <td>162</td>\n",
       "    </tr>\n",
       "  </tbody>\n",
       "</table>\n",
       "</div>"
      ],
      "text/plain": [
       "             Unnamed: 0  _id  uid  date  stime  etime  total  isInUsable  \\\n",
       "packageName                                                                \n",
       "BAND                  8    8    8     8      8      8      8           8   \n",
       "Between               1    1    1     1      1      1      1           1   \n",
       "Chrome               54   54   54    54     54     54     54          54   \n",
       "Facebook            572  572  572   572    572    572    572         572   \n",
       "Gmail                33   33   33    33     33     33     33          33   \n",
       "Instagram            13   13   13    13     13     13     13          13   \n",
       "Messenger             5    5    5     5      5      5      5           5   \n",
       "NAVER               171  171  171   171    171    171    171         171   \n",
       "아주톡톡                  1    1    1     1      1      1      1           1   \n",
       "에브리타임               162  162  162   162    162    162    162         162   \n",
       "\n",
       "             packageFullName  category  \n",
       "packageName                             \n",
       "BAND                       8         8  \n",
       "Between                    1         1  \n",
       "Chrome                    54        54  \n",
       "Facebook                 572       572  \n",
       "Gmail                     33        33  \n",
       "Instagram                 13        13  \n",
       "Messenger                  5         5  \n",
       "NAVER                    171       171  \n",
       "아주톡톡                       1         1  \n",
       "에브리타임                    162       162  "
      ]
     },
     "execution_count": 65,
     "metadata": {},
     "output_type": "execute_result"
    }
   ],
   "source": [
    "app[app['category']=='Communication'].groupby('packageName').count()\n"
   ]
  },
  {
   "cell_type": "code",
   "execution_count": 61,
   "metadata": {
    "ExecuteTime": {
     "end_time": "2020-02-20T06:53:21.529214Z",
     "start_time": "2020-02-20T06:53:21.488370Z"
    }
   },
   "outputs": [
    {
     "name": "stdout",
     "output_type": "stream",
     "text": [
      "LDA method (22,)\n",
      "0  번째 문서의 토픽 비중 :  Counter({0: 44, 2: 32, 1: 31, 3: 28})\n",
      "0  번째 토픽의 단어 비중 :  Counter({'Communication': 263, 'Comics': 38, 'Photography': 32, 'Food & Drink': 31, 'Music': 26, 'Education': 21, 'Entertainment': 21, 'Finance': 19, 'Productivity': 17, 'Shopping': 16, 'Travel & Local': 12, 'Business': 3, 'Books & Reference': 2, 'Lifestyle': 1})\n",
      "\n",
      "1  번째 문서의 토픽 비중 :  Counter({3: 22, 1: 19, 0: 19, 2: 18})\n",
      "1  번째 토픽의 단어 비중 :  Counter({'Communication': 254, 'Food & Drink': 37, 'Comics': 34, 'Entertainment': 27, 'Education': 27, 'Music': 24, 'Photography': 22, 'Productivity': 18, 'Shopping': 15, 'Finance': 12, 'Travel & Local': 11, 'Books & Reference': 3, 'Business': 3})\n",
      "\n",
      "2  번째 문서의 토픽 비중 :  Counter({0: 44, 2: 40, 1: 36, 3: 36})\n",
      "2  번째 토픽의 단어 비중 :  Counter({'Communication': 236, 'Music': 41, 'Comics': 35, 'Food & Drink': 34, 'Photography': 30, 'Education': 26, 'Shopping': 23, 'Finance': 18, 'Productivity': 17, 'Entertainment': 16, 'Travel & Local': 6})\n",
      "\n",
      "3  번째 문서의 토픽 비중 :  Counter({3: 27, 0: 25, 2: 20, 1: 16})\n",
      "3  번째 토픽의 단어 비중 :  Counter({'Communication': 267, 'Food & Drink': 43, 'Music': 33, 'Comics': 32, 'Education': 30, 'Productivity': 24, 'Shopping': 21, 'Photography': 20, 'Finance': 16, 'Entertainment': 12, 'Travel & Local': 7, 'Lifestyle': 3, 'Books & Reference': 2})\n",
      "\n"
     ]
    }
   ],
   "source": [
    "app_ver4 = app[~app['category'].isin(['Health & Fitness', 'Chat', 'Background'])]\n",
    "docs_ver4 = {}\n",
    "\n",
    "for date in date_unique:\n",
    "    docs_ver4[date] = \"\"\n",
    "    docs_ver4[date] += (app_ver4[app_ver4['date']==date]['category'].values)\n",
    "\n",
    "doc_df_ver4 = pd.DataFrame(list(docs_ver4.items()),columns = ['date','category_docs']) \n",
    "\n",
    "documents_ver4 = doc_df_ver4['category_docs'].values\n",
    "random.seed(0)\n",
    "\n",
    "# topic 수 지정\n",
    "K=4\n",
    "result = LDA_ratsgo(documents_ver4, K)\n",
    "\n",
    "for i in range(K):\n",
    "    print(i,\" 번째 문서의 토픽 비중 : \", result[0][i])\n",
    "    print(i,\" 번째 토픽의 단어 비중 : \" , result[1][i])\n",
    "    print()\n"
   ]
  },
  {
   "cell_type": "code",
   "execution_count": null,
   "metadata": {},
   "outputs": [],
   "source": []
  },
  {
   "cell_type": "markdown",
   "metadata": {
    "ExecuteTime": {
     "end_time": "2020-02-20T02:06:07.079156Z",
     "start_time": "2020-02-20T02:06:07.073610Z"
    }
   },
   "source": [
    "# Gensim 활용 시각화\n",
    "http://www.engear.net/wp/topic-modeling-gensimpython/"
   ]
  },
  {
   "cell_type": "code",
   "execution_count": 46,
   "metadata": {
    "ExecuteTime": {
     "end_time": "2020-02-20T04:27:41.632849Z",
     "start_time": "2020-02-20T04:27:40.841854Z"
    }
   },
   "outputs": [],
   "source": [
    "# Gensim\n",
    "import gensim\n",
    "import gensim.corpora as corpora\n",
    "from gensim.utils import simple_preprocess\n",
    "from gensim.models import CoherenceModel\n",
    " \n",
    "# spacy for lemmatization\n",
    "import spacy\n",
    " \n",
    "# Plotting tools\n",
    "import pyLDAvis\n",
    "import pyLDAvis.gensim # don't skip this\n",
    "import matplotlib.pyplot as plt\n",
    "%matplotlib inline\n",
    " "
   ]
  },
  {
   "cell_type": "markdown",
   "metadata": {},
   "source": [
    "## 단어 토큰화\n",
    "\n",
    "(현재 데이터에선 bigranm, trigram, stopwords 제거 불필요)"
   ]
  },
  {
   "cell_type": "code",
   "execution_count": 47,
   "metadata": {
    "ExecuteTime": {
     "end_time": "2020-02-20T04:27:41.864731Z",
     "start_time": "2020-02-20T04:27:41.852666Z"
    }
   },
   "outputs": [
    {
     "name": "stdout",
     "output_type": "stream",
     "text": [
      "[['education', 'education', 'photography', 'photography', 'photography', 'photography', 'photography', 'photography', 'photography', 'photography', 'photography', 'entertainment', 'entertainment', 'photography', 'comics', 'photography', 'photography', 'photography', 'photography', 'photography', 'photography', 'education', 'photography', 'productivity', 'productivity', 'productivity', 'productivity', 'productivity', 'productivity', 'productivity', 'productivity', 'productivity', 'productivity', 'productivity', 'productivity', 'productivity', 'productivity', 'productivity', 'travel', 'local', 'travel', 'local', 'travel', 'local', 'travel', 'local', 'travel', 'local', 'photography', 'productivity', 'entertainment', 'education', 'education', 'entertainment', 'photography', 'travel', 'local', 'travel', 'local', 'travel', 'local', 'travel', 'local'], ['comics', 'comics', 'music', 'music', 'finance', 'finance', 'finance', 'finance', 'productivity', 'travel', 'local', 'travel', 'local', 'books', 'reference', 'travel', 'local', 'comics', 'photography', 'lifestyle', 'lifestyle', 'finance', 'finance', 'productivity', 'productivity', 'finance', 'finance', 'books', 'reference', 'finance'], ['finance', 'shopping', 'shopping', 'shopping', 'shopping', 'shopping', 'shopping', 'shopping', 'shopping', 'shopping', 'finance', 'shopping', 'shopping', 'shopping', 'shopping', 'shopping', 'photography', 'photography', 'shopping', 'comics', 'comics', 'shopping', 'shopping', 'shopping', 'shopping', 'shopping', 'finance', 'productivity', 'shopping', 'shopping', 'education', 'shopping', 'shopping', 'shopping', 'shopping', 'shopping', 'shopping', 'shopping', 'shopping', 'entertainment', 'entertainment', 'education', 'shopping', 'shopping', 'comics', 'comics', 'travel', 'local', 'entertainment', 'entertainment', 'entertainment', 'shopping', 'shopping', 'shopping', 'shopping', 'shopping', 'shopping', 'shopping', 'education', 'education', 'education', 'education', 'productivity', 'shopping', 'entertainment', 'comics', 'comics', 'shopping', 'music', 'music', 'music', 'photography', 'photography', 'finance', 'shopping', 'shopping', 'shopping', 'shopping', 'shopping', 'shopping', 'shopping', 'lifestyle', 'photography', 'photography', 'education', 'education', 'finance', 'finance', 'shopping', 'finance', 'business', 'business', 'business', 'business'], ['comics', 'comics', 'travel', 'local', 'travel', 'local', 'music', 'music', 'music', 'music', 'finance', 'finance', 'shopping', 'shopping', 'shopping', 'education', 'productivity', 'productivity', 'productivity', 'education', 'education', 'food', 'drink', 'entertainment', 'comics', 'comics', 'comics', 'comics', 'shopping', 'shopping', 'shopping', 'shopping', 'shopping', 'shopping', 'shopping', 'shopping', 'shopping', 'shopping', 'finance', 'finance', 'shopping', 'shopping', 'shopping'], ['comics', 'comics', 'comics', 'comics', 'comics', 'comics', 'comics', 'comics', 'comics', 'comics', 'comics', 'comics', 'comics', 'comics', 'comics', 'comics', 'comics', 'comics', 'comics', 'comics', 'comics', 'comics', 'comics', 'comics', 'comics', 'comics', 'comics', 'comics', 'comics', 'comics', 'comics', 'comics', 'comics', 'comics', 'comics', 'comics', 'education', 'finance', 'finance', 'finance', 'finance', 'finance', 'finance', 'comics', 'education', 'education', 'travel', 'local', 'photography', 'entertainment', 'entertainment', 'entertainment', 'entertainment', 'entertainment', 'finance', 'finance'], ['productivity', 'music', 'productivity', 'productivity', 'productivity', 'productivity', 'productivity', 'productivity', 'productivity', 'education', 'productivity', 'productivity', 'productivity', 'shopping', 'shopping', 'travel', 'local', 'lifestyle', 'music', 'music', 'travel', 'local', 'travel', 'local', 'music', 'music', 'education', 'finance', 'shopping', 'travel', 'local', 'comics', 'comics', 'entertainment', 'entertainment', 'entertainment', 'entertainment', 'education', 'entertainment', 'shopping'], ['music', 'music', 'music', 'music', 'music', 'music', 'music', 'music', 'comics', 'comics', 'books', 'reference', 'books', 'reference', 'music', 'music', 'entertainment', 'comics', 'comics', 'entertainment', 'photography', 'productivity', 'comics', 'comics', 'comics', 'entertainment', 'education', 'education', 'education', 'entertainment', 'entertainment', 'entertainment'], ['comics', 'comics', 'comics', 'entertainment', 'entertainment', 'entertainment', 'comics', 'comics', 'comics', 'education', 'finance', 'entertainment', 'photography', 'finance', 'books', 'reference', 'education', 'comics', 'comics', 'comics', 'music', 'music', 'music', 'comics', 'education', 'education', 'education', 'education', 'education', 'entertainment'], ['comics', 'entertainment', 'entertainment', 'productivity', 'photography', 'photography', 'photography', 'productivity', 'music', 'education', 'travel', 'local', 'education', 'education', 'education', 'education', 'education', 'photography', 'photography', 'photography', 'finance', 'finance', 'photography', 'productivity', 'photography', 'comics'], ['entertainment', 'productivity', 'entertainment', 'entertainment', 'entertainment', 'education', 'entertainment', 'music', 'music', 'music', 'music', 'music', 'music', 'music', 'music', 'music', 'music', 'music', 'music', 'comics', 'comics', 'comics', 'comics', 'photography', 'comics', 'education', 'photography', 'photography', 'photography', 'productivity', 'productivity', 'productivity', 'music', 'comics'], ['photography', 'productivity', 'productivity', 'productivity', 'productivity', 'entertainment', 'education', 'education', 'photography', 'photography', 'productivity', 'photography', 'education', 'food', 'drink', 'entertainment', 'entertainment', 'business', 'business', 'finance', 'education'], ['music', 'music', 'music', 'music', 'music', 'music', 'music', 'music', 'music', 'music', 'shopping', 'shopping', 'finance', 'comics', 'comics', 'comics', 'entertainment', 'entertainment', 'entertainment', 'education', 'photography', 'photography', 'entertainment', 'education', 'education', 'music', 'music', 'music', 'music', 'music', 'music', 'music', 'music', 'education', 'education', 'music', 'travel', 'local', 'travel', 'local', 'travel', 'local', 'travel', 'local', 'travel', 'local', 'travel', 'local', 'travel', 'local', 'travel', 'local', 'photography', 'finance', 'finance', 'photography', 'photography', 'photography', 'travel', 'local', 'photography', 'photography', 'photography', 'education', 'productivity', 'education', 'photography', 'photography', 'photography', 'photography'], ['productivity', 'comics', 'comics', 'comics', 'comics', 'comics', 'productivity', 'productivity', 'productivity', 'productivity', 'productivity', 'productivity'], ['books', 'reference', 'books', 'reference', 'entertainment', 'entertainment', 'comics', 'comics', 'comics', 'comics', 'comics', 'comics', 'comics', 'comics', 'comics', 'comics', 'comics', 'comics', 'comics', 'comics', 'comics', 'comics', 'comics', 'comics', 'comics', 'comics', 'comics', 'comics', 'comics', 'entertainment', 'entertainment', 'entertainment', 'entertainment', 'entertainment', 'entertainment', 'finance', 'finance', 'food', 'drink', 'food', 'drink', 'food', 'drink', 'food', 'drink', 'food', 'drink', 'food', 'drink', 'food', 'drink', 'food', 'drink', 'food', 'drink', 'food', 'drink', 'food', 'drink', 'food', 'drink', 'food', 'drink', 'food', 'drink', 'food', 'drink', 'food', 'drink', 'food', 'drink', 'food', 'drink', 'food', 'drink', 'food', 'drink', 'food', 'drink', 'food', 'drink', 'food', 'drink', 'food', 'drink', 'food', 'drink', 'food', 'drink', 'food', 'drink', 'food', 'drink', 'food', 'drink', 'food', 'drink', 'food', 'drink', 'food', 'drink', 'food', 'drink', 'food', 'drink', 'food', 'drink', 'food', 'drink', 'food', 'drink', 'food', 'drink', 'food', 'drink', 'food', 'drink', 'food', 'drink', 'food', 'drink', 'food', 'drink', 'food', 'drink', 'food', 'drink', 'food', 'drink', 'food', 'drink', 'food', 'drink', 'food', 'drink', 'food', 'drink', 'food', 'drink', 'food', 'drink', 'food', 'drink', 'food', 'drink', 'food', 'drink', 'food', 'drink', 'food', 'drink', 'food', 'drink', 'food', 'drink', 'food', 'drink', 'food', 'drink', 'food', 'drink', 'food', 'drink', 'food', 'drink', 'food', 'drink', 'food', 'drink', 'food', 'drink', 'food', 'drink', 'food', 'drink', 'food', 'drink', 'food', 'drink', 'food', 'drink', 'food', 'drink', 'food', 'drink', 'food', 'drink', 'food', 'drink', 'food', 'drink', 'food', 'drink', 'food', 'drink', 'food', 'drink', 'food', 'drink', 'food', 'drink', 'food', 'drink', 'food', 'drink', 'food', 'drink', 'food', 'drink', 'food', 'drink', 'food', 'drink', 'food', 'drink', 'food', 'drink', 'food', 'drink', 'food', 'drink', 'food', 'drink', 'food', 'drink', 'food', 'drink', 'food', 'drink', 'food', 'drink', 'food', 'drink', 'food', 'drink', 'food', 'drink', 'food', 'drink', 'food', 'drink', 'food', 'drink', 'food', 'drink', 'food', 'drink', 'food', 'drink', 'food', 'drink', 'food', 'drink', 'food', 'drink', 'food', 'drink', 'food', 'drink', 'food', 'drink', 'food', 'drink', 'food', 'drink', 'food', 'drink', 'food', 'drink', 'food', 'drink', 'food', 'drink', 'food', 'drink', 'food', 'drink', 'food', 'drink', 'food', 'drink', 'food', 'drink', 'food', 'drink', 'food', 'drink', 'food', 'drink', 'food', 'drink', 'food', 'drink', 'food', 'drink', 'food', 'drink', 'food', 'drink', 'food', 'drink', 'finance', 'finance', 'food', 'drink', 'finance', 'food', 'drink', 'finance', 'food', 'drink', 'finance', 'food', 'drink', 'food', 'drink', 'food', 'drink', 'finance', 'food', 'drink', 'food', 'drink', 'food', 'drink', 'food', 'drink', 'comics', 'comics', 'entertainment', 'music', 'finance', 'finance', 'music', 'music', 'music', 'music', 'music', 'music', 'education', 'comics', 'comics', 'comics', 'comics', 'comics', 'entertainment', 'photography', 'photography', 'music', 'music', 'music', 'music', 'music', 'music', 'music', 'music', 'music', 'music', 'music', 'music', 'music'], ['education', 'education', 'education', 'education', 'education', 'education', 'education', 'education', 'education', 'education', 'education', 'education', 'education', 'education', 'education', 'education', 'education', 'education', 'education', 'education', 'education', 'education', 'education', 'education', 'entertainment', 'entertainment', 'photography', 'photography', 'education', 'education', 'productivity', 'productivity', 'productivity', 'productivity', 'productivity', 'productivity', 'finance', 'finance', 'finance', 'finance', 'finance', 'photography', 'photography', 'photography', 'photography', 'photography', 'photography', 'photography', 'comics', 'comics', 'comics', 'finance', 'comics', 'comics', 'comics', 'comics', 'education'], ['productivity', 'education', 'productivity', 'education', 'productivity', 'finance', 'finance', 'education', 'education', 'education', 'productivity', 'productivity', 'productivity', 'productivity', 'productivity', 'productivity', 'education', 'music', 'music', 'music', 'comics', 'comics', 'music', 'music', 'music', 'music', 'music'], ['music', 'music', 'music', 'entertainment', 'entertainment', 'entertainment', 'photography', 'photography', 'photography', 'photography', 'photography'], ['comics', 'finance', 'finance', 'music', 'music', 'music', 'music', 'education', 'education', 'education', 'education', 'finance', 'productivity'], ['photography', 'photography', 'education', 'photography', 'photography', 'photography', 'photography', 'photography', 'education', 'education', 'productivity', 'photography', 'photography', 'photography', 'photography', 'photography', 'travel', 'local', 'entertainment', 'music', 'music', 'music', 'music', 'music', 'music', 'music', 'music', 'photography', 'photography', 'photography', 'photography', 'travel', 'local'], ['comics', 'comics', 'comics', 'shopping', 'entertainment', 'entertainment', 'entertainment', 'entertainment', 'finance', 'finance', 'education', 'food', 'drink', 'education', 'education', 'finance', 'finance', 'music', 'education', 'education', 'education', 'education', 'entertainment'], ['music', 'music', 'music', 'music', 'music', 'music', 'music', 'comics', 'comics', 'music', 'music', 'music', 'music', 'music', 'music', 'education', 'music', 'music', 'comics', 'photography', 'photography', 'photography', 'photography', 'productivity', 'photography', 'photography', 'photography', 'photography', 'photography', 'education', 'music'], ['entertainment', 'travel', 'local', 'travel', 'local', 'travel', 'local', 'comics', 'comics', 'comics', 'entertainment', 'entertainment', 'shopping', 'shopping', 'shopping', 'travel', 'local', 'education', 'photography', 'photography', 'photography', 'photography', 'education', 'education', 'entertainment', 'productivity', 'productivity', 'entertainment', 'music', 'music', 'photography', 'music', 'finance', 'finance', 'finance', 'music', 'comics', 'comics', 'entertainment', 'entertainment', 'entertainment', 'entertainment']]\n"
     ]
    }
   ],
   "source": [
    "def sent_to_words(sentences):\n",
    "    for sentence in sentences:\n",
    "        yield(gensim.utils.simple_preprocess(str(sentence), deacc=True)) # deacc=True removes punctuations\n",
    "\n",
    "data_sample = doc_df_ver3['category_docs'].values       \n",
    "data_words = list(sent_to_words(data_sample))\n",
    " \n",
    "print(data_words)"
   ]
  },
  {
   "cell_type": "code",
   "execution_count": null,
   "metadata": {},
   "outputs": [],
   "source": []
  },
  {
   "cell_type": "code",
   "execution_count": null,
   "metadata": {},
   "outputs": [],
   "source": []
  },
  {
   "cell_type": "code",
   "execution_count": null,
   "metadata": {},
   "outputs": [],
   "source": []
  },
  {
   "cell_type": "markdown",
   "metadata": {},
   "source": [
    "## Topic 모델에 필요한 사전, 코퍼스 생성\n",
    "\n",
    "- 문서 안의 각 단어에 대해 유니크한 ID 생성\n",
    "- output : (word_id, word_freqeuncy)"
   ]
  },
  {
   "cell_type": "code",
   "execution_count": 48,
   "metadata": {
    "ExecuteTime": {
     "end_time": "2020-02-20T04:27:43.993928Z",
     "start_time": "2020-02-20T04:27:43.982353Z"
    }
   },
   "outputs": [
    {
     "name": "stdout",
     "output_type": "stream",
     "text": [
      "[[(0, 1), (1, 5), (2, 4), (3, 9), (4, 19), (5, 16), (6, 9)]]\n",
      "comics\n"
     ]
    },
    {
     "data": {
      "text/plain": [
       "[[('comics', 1),\n",
       "  ('education', 5),\n",
       "  ('entertainment', 4),\n",
       "  ('local', 9),\n",
       "  ('photography', 19),\n",
       "  ('productivity', 16),\n",
       "  ('travel', 9)]]"
      ]
     },
     "execution_count": 48,
     "metadata": {},
     "output_type": "execute_result"
    }
   ],
   "source": [
    "# Create Dictionary\n",
    "id2word = corpora.Dictionary(data_words)\n",
    " \n",
    "# Create Corpus\n",
    "texts = data_words\n",
    " \n",
    "# Term Document Frequency\n",
    "corpus = [id2word.doc2bow(text) for text in texts]\n",
    " \n",
    "# View\n",
    "print(corpus[:1])\n",
    "print(id2word[0])\n",
    "\n",
    "# Human readable format of corpus (term-frequency)\n",
    "[[(id2word[id], freq) for id, freq in cp] for cp in corpus[:1]]"
   ]
  },
  {
   "cell_type": "markdown",
   "metadata": {},
   "source": [
    "## Topic model"
   ]
  },
  {
   "cell_type": "code",
   "execution_count": 49,
   "metadata": {
    "ExecuteTime": {
     "end_time": "2020-02-20T04:27:45.194839Z",
     "start_time": "2020-02-20T04:27:44.968756Z"
    }
   },
   "outputs": [],
   "source": [
    "# Build LDA model\n",
    "lda_model = gensim.models.ldamodel.LdaModel(corpus=corpus,\n",
    "id2word=id2word,\n",
    "num_topics=10,\n",
    "random_state=100,\n",
    "update_every=1,\n",
    "chunksize=100,\n",
    "passes=10,\n",
    "alpha='auto',\n",
    "per_word_topics=True)"
   ]
  },
  {
   "cell_type": "code",
   "execution_count": 50,
   "metadata": {
    "ExecuteTime": {
     "end_time": "2020-02-20T04:27:45.421696Z",
     "start_time": "2020-02-20T04:27:45.414951Z"
    },
    "scrolled": true
   },
   "outputs": [
    {
     "name": "stdout",
     "output_type": "stream",
     "text": [
      "[(0,\n",
      "  '0.488*\"education\" + 0.174*\"photography\" + 0.137*\"productivity\" + '\n",
      "  '0.088*\"entertainment\" + 0.076*\"finance\" + 0.023*\"business\" + 0.003*\"drink\" '\n",
      "  '+ 0.003*\"food\" + 0.001*\"travel\" + 0.001*\"music\"'),\n",
      " (1,\n",
      "  '0.063*\"education\" + 0.063*\"photography\" + 0.063*\"comics\" + 0.063*\"music\" + '\n",
      "  '0.063*\"productivity\" + 0.063*\"finance\" + 0.063*\"entertainment\" + '\n",
      "  '0.062*\"local\" + 0.062*\"travel\" + 0.062*\"shopping\"'),\n",
      " (2,\n",
      "  '0.387*\"music\" + 0.208*\"productivity\" + 0.150*\"comics\" + 0.122*\"education\" + '\n",
      "  '0.066*\"entertainment\" + 0.044*\"finance\" + 0.006*\"local\" + 0.006*\"travel\" + '\n",
      "  '0.005*\"lifestyle\" + 0.001*\"shopping\"'),\n",
      " (3,\n",
      "  '0.070*\"entertainment\" + 0.066*\"productivity\" + 0.064*\"music\" + '\n",
      "  '0.064*\"local\" + 0.064*\"comics\" + 0.063*\"travel\" + 0.063*\"photography\" + '\n",
      "  '0.062*\"education\" + 0.062*\"shopping\" + 0.062*\"finance\"'),\n",
      " (4,\n",
      "  '0.508*\"comics\" + 0.190*\"finance\" + 0.115*\"entertainment\" + '\n",
      "  '0.044*\"education\" + 0.037*\"reference\" + 0.037*\"books\" + 0.018*\"photography\" '\n",
      "  '+ 0.015*\"lifestyle\" + 0.015*\"travel\" + 0.015*\"local\"'),\n",
      " (5,\n",
      "  '0.322*\"photography\" + 0.152*\"music\" + 0.124*\"local\" + 0.124*\"travel\" + '\n",
      "  '0.113*\"productivity\" + 0.083*\"entertainment\" + 0.067*\"education\" + '\n",
      "  '0.011*\"comics\" + 0.001*\"finance\" + 0.000*\"food\"'),\n",
      " (6,\n",
      "  '0.063*\"comics\" + 0.063*\"music\" + 0.063*\"photography\" + 0.063*\"productivity\" '\n",
      "  '+ 0.063*\"education\" + 0.063*\"entertainment\" + 0.063*\"finance\" + '\n",
      "  '0.062*\"local\" + 0.062*\"shopping\" + 0.062*\"travel\"'),\n",
      " (7,\n",
      "  '0.452*\"shopping\" + 0.102*\"education\" + 0.091*\"finance\" + 0.081*\"comics\" + '\n",
      "  '0.073*\"entertainment\" + 0.044*\"photography\" + 0.042*\"music\" + '\n",
      "  '0.027*\"productivity\" + 0.025*\"travel\" + 0.025*\"local\"'),\n",
      " (8,\n",
      "  '0.424*\"food\" + 0.424*\"drink\" + 0.062*\"comics\" + 0.041*\"music\" + '\n",
      "  '0.026*\"finance\" + 0.018*\"entertainment\" + 0.001*\"books\" + 0.001*\"reference\" '\n",
      "  '+ 0.000*\"photography\" + 0.000*\"education\"'),\n",
      " (9,\n",
      "  '0.239*\"drink\" + 0.238*\"food\" + 0.173*\"comics\" + 0.122*\"music\" + '\n",
      "  '0.078*\"entertainment\" + 0.037*\"finance\" + 0.030*\"photography\" + '\n",
      "  '0.028*\"reference\" + 0.028*\"books\" + 0.018*\"education\"')]\n"
     ]
    }
   ],
   "source": [
    "pprint(lda_model.print_topics())\n",
    "doc_lda = lda_model[corpus]"
   ]
  },
  {
   "cell_type": "markdown",
   "metadata": {},
   "source": [
    "## Model 난이도, 일관성 점수"
   ]
  },
  {
   "cell_type": "code",
   "execution_count": 51,
   "metadata": {
    "ExecuteTime": {
     "end_time": "2020-02-20T04:27:46.660104Z",
     "start_time": "2020-02-20T04:27:46.393822Z"
    }
   },
   "outputs": [
    {
     "name": "stdout",
     "output_type": "stream",
     "text": [
      "\n",
      "Perplexity:  -2.0341301983444455\n",
      "\n",
      "Coherence Score:  0.6233007150076897\n"
     ]
    }
   ],
   "source": [
    "# Compute Perplexity\n",
    "print('\\nPerplexity: ', lda_model.log_perplexity(corpus)) # a measure of how good the model is. lower the better.\n",
    " \n",
    "# Compute Coherence Score\n",
    "coherence_model_lda = CoherenceModel(model=lda_model, texts=data_words, dictionary=id2word, coherence='c_v')\n",
    "coherence_lda = coherence_model_lda.get_coherence()\n",
    "print('\\nCoherence Score: ', coherence_lda)"
   ]
  },
  {
   "cell_type": "code",
   "execution_count": 52,
   "metadata": {
    "ExecuteTime": {
     "end_time": "2020-02-20T04:27:49.804502Z",
     "start_time": "2020-02-20T04:27:47.426762Z"
    }
   },
   "outputs": [
    {
     "data": {
      "text/html": [
       "\n",
       "<link rel=\"stylesheet\" type=\"text/css\" href=\"https://cdn.rawgit.com/bmabey/pyLDAvis/files/ldavis.v1.0.0.css\">\n",
       "\n",
       "\n",
       "<div id=\"ldavis_el6963549182100166716454412\"></div>\n",
       "<script type=\"text/javascript\">\n",
       "\n",
       "var ldavis_el6963549182100166716454412_data = {\"mdsDat\": {\"x\": [0.37441809387596453, -0.19313508835476514, -0.08365440298211509, -0.12264669091868918, 0.008590349330968758, -0.2294572685050977, 0.22024478460617966, 0.0053652967037727695, 0.010137429148131823, 0.010137497095649489], \"y\": [-0.09185547654697958, -0.15931772231796443, 0.004831273577050587, 0.09247425784689524, 0.24692831380671962, -0.05599133123995389, 0.0033982182319149856, -0.012847199529806565, -0.013810225172254297, -0.013810108655621411], \"topics\": [1, 2, 3, 4, 5, 6, 7, 8, 9, 10], \"cluster\": [1, 1, 1, 1, 1, 1, 1, 1, 1, 1], \"Freq\": [26.83144187927246, 20.603668212890625, 13.512553215026855, 13.054534912109375, 11.923005104064941, 8.48660945892334, 5.437073707580566, 0.052852481603622437, 0.049134913831949234, 0.04913466423749924]}, \"tinfo\": {\"Term\": [\"drink\", \"food\", \"shopping\", \"comics\", \"music\", \"photography\", \"education\", \"productivity\", \"local\", \"travel\", \"finance\", \"entertainment\", \"reference\", \"books\", \"business\", \"lifestyle\", \"food\", \"drink\", \"comics\", \"finance\", \"music\", \"entertainment\", \"lifestyle\", \"books\", \"reference\", \"business\", \"travel\", \"local\", \"shopping\", \"productivity\", \"photography\", \"education\", \"local\", \"travel\", \"photography\", \"productivity\", \"music\", \"entertainment\", \"education\", \"lifestyle\", \"comics\", \"business\", \"books\", \"reference\", \"finance\", \"shopping\", \"food\", \"drink\", \"music\", \"productivity\", \"education\", \"comics\", \"lifestyle\", \"entertainment\", \"finance\", \"local\", \"travel\", \"books\", \"reference\", \"business\", \"shopping\", \"photography\", \"drink\", \"food\", \"shopping\", \"business\", \"lifestyle\", \"finance\", \"education\", \"entertainment\", \"travel\", \"local\", \"comics\", \"photography\", \"productivity\", \"music\", \"reference\", \"books\", \"food\", \"drink\", \"reference\", \"books\", \"comics\", \"lifestyle\", \"finance\", \"entertainment\", \"education\", \"travel\", \"local\", \"photography\", \"business\", \"productivity\", \"music\", \"shopping\", \"drink\", \"food\", \"education\", \"business\", \"productivity\", \"photography\", \"finance\", \"entertainment\", \"lifestyle\", \"reference\", \"books\", \"travel\", \"local\", \"drink\", \"food\", \"shopping\", \"music\", \"comics\", \"reference\", \"books\", \"drink\", \"food\", \"comics\", \"entertainment\", \"music\", \"finance\", \"photography\", \"lifestyle\", \"business\", \"education\", \"travel\", \"local\", \"productivity\", \"shopping\", \"lifestyle\", \"business\", \"reference\", \"books\", \"local\", \"travel\", \"finance\", \"entertainment\", \"shopping\", \"productivity\", \"photography\", \"education\", \"music\", \"comics\", \"drink\", \"food\", \"lifestyle\", \"business\", \"reference\", \"books\", \"travel\", \"local\", \"finance\", \"shopping\", \"entertainment\", \"productivity\", \"photography\", \"education\", \"music\", \"comics\", \"drink\", \"food\", \"lifestyle\", \"business\", \"reference\", \"books\", \"travel\", \"local\", \"finance\", \"shopping\", \"entertainment\", \"productivity\", \"photography\", \"education\", \"music\", \"comics\", \"drink\", \"food\"], \"Freq\": [146.0, 146.0, 68.0, 137.0, 123.0, 104.0, 105.0, 76.0, 36.0, 36.0, 64.0, 75.0, 7.0, 7.0, 6.0, 4.0, 130.86196899414062, 130.84288024902344, 19.201120376586914, 8.079615592956543, 12.72390079498291, 5.435332775115967, 0.10274533927440643, 0.16135743260383606, 0.1605955809354782, 0.1027461439371109, 0.10274578630924225, 0.10274581611156464, 0.10274569690227509, 0.1027464047074318, 0.10605810582637787, 0.10392516851425171, 29.321929931640625, 29.304750442504883, 76.32193756103516, 26.720870971679688, 35.952667236328125, 19.60161781311035, 15.977324485778809, 0.10008733719587326, 2.501185894012451, 0.10312211513519287, 0.10012663900852203, 0.10011901706457138, 0.31701523065567017, 0.10102974623441696, 0.10687313973903656, 0.10546927154064178, 60.070858001708984, 32.33259201049805, 19.005455017089844, 23.2891902923584, 0.735500693321228, 10.262369155883789, 6.8357391357421875, 0.9186301827430725, 0.8910903334617615, 0.15405350923538208, 0.1471000611782074, 0.10009364783763885, 0.2071869969367981, 0.10916602611541748, 0.10009511560201645, 0.10009513795375824, 67.84967041015625, 3.70998477935791, 1.34347665309906, 13.690579414367676, 15.354842185974121, 10.936092376708984, 3.770169496536255, 3.7356185913085938, 12.196901321411133, 6.618106842041016, 4.03741979598999, 6.335601806640625, 0.0904882401227951, 0.0904882475733757, 0.11858535557985306, 0.11856929957866669, 5.06687068939209, 5.060319900512695, 69.63827514648438, 2.1021292209625244, 26.040035247802734, 15.712394714355469, 5.967857360839844, 2.0605626106262207, 2.054488182067871, 2.431157112121582, 0.10115007311105728, 0.20968633890151978, 0.24693341553211212, 0.10115344077348709, 0.10115163028240204, 0.10115164518356323, 47.562931060791016, 2.1948447227478027, 13.336296081542969, 17.00107192993164, 7.442763805389404, 8.556272506713867, 0.10615629702806473, 0.1046738401055336, 0.10467386245727539, 0.11171123385429382, 0.11080100387334824, 0.2750708758831024, 0.27502310276031494, 0.1108533963561058, 0.11092755198478699, 0.10706061124801636, 1.7620484828948975, 1.7610191106796265, 14.902972221374512, 14.886123657226562, 10.813663482666016, 4.859765529632568, 7.607127666473389, 2.2808678150177, 1.8978281021118164, 0.08441756665706635, 0.08441755920648575, 1.1222164630889893, 0.09001269191503525, 0.089276984333992, 0.145792618393898, 0.08441886305809021, 0.03656430169939995, 0.03630758076906204, 0.03630758449435234, 0.03630758076906204, 0.03895927593111992, 0.038506634533405304, 0.03763670474290848, 0.04236001521348953, 0.03780495002865791, 0.03995534032583237, 0.03802892193198204, 0.037855811417102814, 0.03915097564458847, 0.038914039731025696, 0.03630760684609413, 0.03630760684609413, 0.035284899175167084, 0.03528490290045738, 0.03528491407632828, 0.03528490662574768, 0.03528496250510216, 0.03528497368097305, 0.03528505936264992, 0.03528495132923126, 0.03528505191206932, 0.03528507426381111, 0.03528514876961708, 0.03528515622019768, 0.035285111516714096, 0.03528513386845589, 0.03528493270277977, 0.035284943878650665, 0.035284724086523056, 0.03528473153710365, 0.035284727811813354, 0.03528473153710365, 0.03528478369116783, 0.03528480976819992, 0.0352848581969738, 0.03528478741645813, 0.035284895449876785, 0.03528490662574768, 0.03528491407632828, 0.03528490290045738, 0.035284969955682755, 0.03528498113155365, 0.035284753888845444, 0.03528476879000664], \"Total\": [146.0, 146.0, 68.0, 137.0, 123.0, 104.0, 105.0, 76.0, 36.0, 36.0, 64.0, 75.0, 7.0, 7.0, 6.0, 4.0, 146.5566864013672, 146.55307006835938, 137.85687255859375, 64.7948226928711, 123.15773010253906, 75.47677612304688, 4.681646823883057, 7.538916110992432, 7.538773536682129, 6.503236293792725, 36.44011688232422, 36.443023681640625, 68.66543579101562, 76.99592590332031, 104.59394073486328, 105.2029800415039, 36.443023681640625, 36.44011688232422, 104.59394073486328, 76.99592590332031, 123.15773010253906, 75.47677612304688, 105.2029800415039, 4.681646823883057, 137.85687255859375, 6.503236293792725, 7.538916110992432, 7.538773536682129, 64.7948226928711, 68.66543579101562, 146.5566864013672, 146.55307006835938, 123.15773010253906, 76.99592590332031, 105.2029800415039, 137.85687255859375, 4.681646823883057, 75.47677612304688, 64.7948226928711, 36.443023681640625, 36.44011688232422, 7.538916110992432, 7.538773536682129, 6.503236293792725, 68.66543579101562, 104.59394073486328, 146.55307006835938, 146.5566864013672, 68.66543579101562, 6.503236293792725, 4.681646823883057, 64.7948226928711, 105.2029800415039, 75.47677612304688, 36.44011688232422, 36.443023681640625, 137.85687255859375, 104.59394073486328, 76.99592590332031, 123.15773010253906, 7.538773536682129, 7.538916110992432, 146.5566864013672, 146.55307006835938, 7.538773536682129, 7.538916110992432, 137.85687255859375, 4.681646823883057, 64.7948226928711, 75.47677612304688, 105.2029800415039, 36.44011688232422, 36.443023681640625, 104.59394073486328, 6.503236293792725, 76.99592590332031, 123.15773010253906, 68.66543579101562, 146.55307006835938, 146.5566864013672, 105.2029800415039, 6.503236293792725, 76.99592590332031, 104.59394073486328, 64.7948226928711, 75.47677612304688, 4.681646823883057, 7.538773536682129, 7.538916110992432, 36.44011688232422, 36.443023681640625, 146.55307006835938, 146.5566864013672, 68.66543579101562, 123.15773010253906, 137.85687255859375, 7.538773536682129, 7.538916110992432, 146.55307006835938, 146.5566864013672, 137.85687255859375, 75.47677612304688, 123.15773010253906, 64.7948226928711, 104.59394073486328, 4.681646823883057, 6.503236293792725, 105.2029800415039, 36.44011688232422, 36.443023681640625, 76.99592590332031, 68.66543579101562, 4.681646823883057, 6.503236293792725, 7.538773536682129, 7.538916110992432, 36.443023681640625, 36.44011688232422, 64.7948226928711, 75.47677612304688, 68.66543579101562, 76.99592590332031, 104.59394073486328, 105.2029800415039, 123.15773010253906, 137.85687255859375, 146.55307006835938, 146.5566864013672, 4.681646823883057, 6.503236293792725, 7.538773536682129, 7.538916110992432, 36.44011688232422, 36.443023681640625, 64.7948226928711, 68.66543579101562, 75.47677612304688, 76.99592590332031, 104.59394073486328, 105.2029800415039, 123.15773010253906, 137.85687255859375, 146.55307006835938, 146.5566864013672, 4.681646823883057, 6.503236293792725, 7.538773536682129, 7.538916110992432, 36.44011688232422, 36.443023681640625, 64.7948226928711, 68.66543579101562, 75.47677612304688, 76.99592590332031, 104.59394073486328, 105.2029800415039, 123.15773010253906, 137.85687255859375, 146.55307006835938, 146.5566864013672], \"Category\": [\"Default\", \"Default\", \"Default\", \"Default\", \"Default\", \"Default\", \"Default\", \"Default\", \"Default\", \"Default\", \"Default\", \"Default\", \"Default\", \"Default\", \"Default\", \"Default\", \"Topic1\", \"Topic1\", \"Topic1\", \"Topic1\", \"Topic1\", \"Topic1\", \"Topic1\", \"Topic1\", \"Topic1\", \"Topic1\", \"Topic1\", \"Topic1\", \"Topic1\", \"Topic1\", \"Topic1\", \"Topic1\", \"Topic2\", \"Topic2\", \"Topic2\", \"Topic2\", \"Topic2\", \"Topic2\", \"Topic2\", \"Topic2\", \"Topic2\", \"Topic2\", \"Topic2\", \"Topic2\", \"Topic2\", \"Topic2\", \"Topic2\", \"Topic2\", \"Topic3\", \"Topic3\", \"Topic3\", \"Topic3\", \"Topic3\", \"Topic3\", \"Topic3\", \"Topic3\", \"Topic3\", \"Topic3\", \"Topic3\", \"Topic3\", \"Topic3\", \"Topic3\", \"Topic3\", \"Topic3\", \"Topic4\", \"Topic4\", \"Topic4\", \"Topic4\", \"Topic4\", \"Topic4\", \"Topic4\", \"Topic4\", \"Topic4\", \"Topic4\", \"Topic4\", \"Topic4\", \"Topic4\", \"Topic4\", \"Topic4\", \"Topic4\", \"Topic5\", \"Topic5\", \"Topic5\", \"Topic5\", \"Topic5\", \"Topic5\", \"Topic5\", \"Topic5\", \"Topic5\", \"Topic5\", \"Topic5\", \"Topic5\", \"Topic5\", \"Topic5\", \"Topic5\", \"Topic5\", \"Topic6\", \"Topic6\", \"Topic6\", \"Topic6\", \"Topic6\", \"Topic6\", \"Topic6\", \"Topic6\", \"Topic6\", \"Topic6\", \"Topic6\", \"Topic6\", \"Topic6\", \"Topic6\", \"Topic6\", \"Topic6\", \"Topic7\", \"Topic7\", \"Topic7\", \"Topic7\", \"Topic7\", \"Topic7\", \"Topic7\", \"Topic7\", \"Topic7\", \"Topic7\", \"Topic7\", \"Topic7\", \"Topic7\", \"Topic7\", \"Topic7\", \"Topic7\", \"Topic8\", \"Topic8\", \"Topic8\", \"Topic8\", \"Topic8\", \"Topic8\", \"Topic8\", \"Topic8\", \"Topic8\", \"Topic8\", \"Topic8\", \"Topic8\", \"Topic8\", \"Topic8\", \"Topic8\", \"Topic8\", \"Topic9\", \"Topic9\", \"Topic9\", \"Topic9\", \"Topic9\", \"Topic9\", \"Topic9\", \"Topic9\", \"Topic9\", \"Topic9\", \"Topic9\", \"Topic9\", \"Topic9\", \"Topic9\", \"Topic9\", \"Topic9\", \"Topic10\", \"Topic10\", \"Topic10\", \"Topic10\", \"Topic10\", \"Topic10\", \"Topic10\", \"Topic10\", \"Topic10\", \"Topic10\", \"Topic10\", \"Topic10\", \"Topic10\", \"Topic10\", \"Topic10\", \"Topic10\"], \"logprob\": [16.0, 15.0, 14.0, 13.0, 12.0, 11.0, 10.0, 9.0, 8.0, 7.0, 6.0, 5.0, 4.0, 3.0, 2.0, 1.0, -0.8568999767303467, -0.8571000099182129, -2.776099920272827, -3.641700029373169, -3.1875998973846436, -4.038099765777588, -8.006600379943848, -7.555200099945068, -7.559899806976318, -8.006500244140625, -8.006500244140625, -8.006500244140625, -8.006600379943848, -8.006500244140625, -7.974800109863281, -7.995100021362305, -2.088599920272827, -2.089200019836426, -1.1319999694824219, -2.18149995803833, -1.8846999406814575, -2.491300106048584, -2.6958000659942627, -7.768700122833252, -4.55019998550415, -7.738800048828125, -7.7683000564575195, -7.7683000564575195, -6.615799903869629, -7.759300231933594, -7.703100204467773, -7.716300010681152, -0.9495999813079834, -1.569000005722046, -2.100399971008301, -1.8970999717712402, -5.35230016708374, -2.716599941253662, -3.1229000091552734, -5.130000114440918, -5.160399913787842, -6.915599822998047, -6.961699962615967, -7.346700191497803, -6.619200229644775, -7.260000228881836, -7.346700191497803, -7.346700191497803, -0.7932999730110168, -3.6995999813079834, -4.715400218963623, -2.393899917602539, -2.2792000770568848, -2.618499994277954, -3.683500051498413, -3.692699909210205, -2.509399890899658, -3.120800018310547, -3.615000009536743, -3.164400100708008, -7.413099765777588, -7.413099765777588, -7.1427001953125, -7.142899990081787, -3.2971999645233154, -3.2985000610351562, -0.6765999794006348, -4.177000045776367, -1.6603000164031982, -2.1654999256134033, -3.1335999965667725, -4.197000026702881, -4.199900150299072, -4.031599998474121, -7.211100101470947, -6.482100009918213, -6.318600177764893, -7.211100101470947, -7.211100101470947, -7.211100101470947, -0.7178999781608582, -3.7939000129699707, -1.9895000457763672, -1.7467000484466553, -2.572700023651123, -2.433300018310547, -6.822800159454346, -6.836900234222412, -6.836900234222412, -6.7718000411987305, -6.78000020980835, -5.870699882507324, -5.8709001541137695, -6.7795000076293945, -6.778800010681152, -6.814300060272217, -3.56820011138916, -3.5687999725341797, -1.4332000017166138, -1.4342999458312988, -1.7539000511169434, -2.5536999702453613, -2.105600118637085, -3.3101999759674072, -3.49399995803833, -6.6066999435424805, -6.6066999435424805, -4.019400119781494, -6.542500019073486, -6.5507001876831055, -6.060299873352051, -6.6066999435424805, -2.8099000453948975, -2.816999912261963, -2.816999912261963, -2.816999912261963, -2.746500015258789, -2.75819993019104, -2.7809998989105225, -2.6628000736236572, -2.7764999866485596, -2.7211999893188477, -2.7706000804901123, -2.7751998901367188, -2.7416000366210938, -2.7476000785827637, -2.816999912261963, -2.816999912261963, -2.772599935531616, -2.772599935531616, -2.772599935531616, -2.772599935531616, -2.772599935531616, -2.772599935531616, -2.772599935531616, -2.772599935531616, -2.772599935531616, -2.772599935531616, -2.772599935531616, -2.772599935531616, -2.772599935531616, -2.772599935531616, -2.772599935531616, -2.772599935531616, -2.772599935531616, -2.772599935531616, -2.772599935531616, -2.772599935531616, -2.772599935531616, -2.772599935531616, -2.772599935531616, -2.772599935531616, -2.772599935531616, -2.772599935531616, -2.772599935531616, -2.772599935531616, -2.772599935531616, -2.772599935531616, -2.772599935531616, -2.772599935531616], \"loglift\": [16.0, 15.0, 14.0, 13.0, 12.0, 11.0, 10.0, 9.0, 8.0, 7.0, 6.0, 5.0, 4.0, 3.0, 2.0, 1.0, 1.202299952507019, 1.2022000551223755, -0.6557000279426575, -0.7663000226020813, -0.9544000029563904, -1.3152999877929688, -2.5035998821258545, -2.528599977493286, -2.5332999229431152, -2.832200050354004, -4.555600166320801, -4.555699825286865, -5.1890997886657715, -5.303599834442139, -5.5782999992370605, -5.604400157928467, 1.3623000383377075, 1.361799955368042, 1.2646000385284424, 0.521399974822998, 0.3483999967575073, 0.23149999976158142, -0.3050000071525574, -2.265700101852417, -2.429800033569336, -2.5643999576568604, -2.7416999340057373, -2.74180006980896, -3.740299940109253, -4.94189977645874, -5.643799781799316, -5.6570000648498535, 1.2835999727249146, 1.1339000463485718, 0.2903999984264374, 0.2232999950647354, 0.15070000290870667, 0.006200000178068876, -0.2475000023841858, -1.6791000366210938, -1.7094000577926636, -1.8890000581741333, -1.9351999759674072, -2.1723999977111816, -3.801800012588501, -4.863399982452393, -5.287499904632568, -5.287499904632568, 2.0241000652313232, 1.4747999906539917, 0.7875999808311462, 0.4814999997615814, 0.11159999668598175, 0.10429999977350235, -0.23250000178813934, -0.241799995303154, -0.3889999985694885, -0.7242000102996826, -0.9121000170707703, -0.9312000274658203, -2.3866000175476074, -2.3866000175476074, -5.083499908447266, -5.083600044250488, 1.7294000387191772, 1.7280999422073364, 1.4437999725341797, 1.3259999752044678, 1.2151000499725342, 0.5572999715805054, -0.7427999973297119, -0.7459999918937683, -0.7490000128746033, -1.6349999904632568, -2.0367000102996826, -3.7792000770568848, -4.085400104522705, -4.393700122833252, -5.151800155639648, -5.151800155639648, 1.6727999448776245, 1.3804999589920044, 0.7134000062942505, 0.6499000191688538, 0.302700012922287, 0.28949999809265137, -1.3198000192642212, -1.8102999925613403, -1.8102999925613403, -3.3208000659942627, -3.3290998935699463, -3.8113999366760254, -3.8115999698638916, -3.962100028991699, -4.5457000732421875, -4.693900108337402, 1.458299994468689, 1.4577000141143799, 0.6261000037193298, 0.6248999834060669, 0.36649999022483826, 0.16910000145435333, 0.1274999976158142, -0.43470001220703125, -1.0973999500274658, -1.103700041770935, -1.4323999881744385, -1.6287000179290771, -3.0915000438690186, -3.0998001098632812, -3.3573999404907227, -3.789299964904785, 2.6930999755859375, 2.3573999404907227, 2.2095999717712402, 2.2095999717712402, 0.7044000029563904, 0.692799985408783, 0.09440000355243683, 0.05999999865889549, 0.04089999943971634, -0.018300000578165054, -0.374099999666214, -0.38440001010894775, -0.508400022983551, -0.6272000074386597, -0.7577000260353088, -0.7577000260353088, 2.7304000854492188, 2.4017999172210693, 2.253999948501587, 2.253999948501587, 0.6783999800682068, 0.6783000230789185, 0.10279999673366547, 0.04479999840259552, -0.049800001084804535, -0.06970000267028809, -0.37599998712539673, -0.38179999589920044, -0.5393999814987183, -0.6521999835968018, -0.7132999897003174, -0.7134000062942505, 2.7304000854492188, 2.4017999172210693, 2.253999948501587, 2.253999948501587, 0.6783999800682068, 0.6783000230789185, 0.10279999673366547, 0.04479999840259552, -0.049800001084804535, -0.06970000267028809, -0.37599998712539673, -0.38179999589920044, -0.5393999814987183, -0.6521999835968018, -0.7132999897003174, -0.7134000062942505]}, \"token.table\": {\"Topic\": [5, 7, 4, 6, 1, 2, 3, 4, 5, 7, 1, 7, 2, 3, 4, 5, 6, 7, 1, 2, 3, 4, 5, 6, 7, 1, 3, 4, 5, 6, 7, 1, 7, 3, 4, 5, 2, 3, 4, 5, 1, 2, 3, 4, 7, 2, 4, 5, 6, 7, 2, 3, 4, 6, 5, 7, 4, 2, 3, 4, 5], \"Freq\": [0.6632252931594849, 0.26529011130332947, 0.6150783896446228, 0.3075391948223114, 0.13782410323619843, 0.0217617005109787, 0.16683970391750336, 0.0870468020439148, 0.5077730417251587, 0.07979290187358856, 0.8938741683959961, 0.10235200077295303, 0.15208694338798523, 0.1806032508611679, 0.142581507563591, 0.05703260377049446, 0.4562608301639557, 0.009505433961749077, 0.06624554097652435, 0.2649821639060974, 0.1324910819530487, 0.14574019610881805, 0.2119857370853424, 0.11924197524785995, 0.06624554097652435, 0.12346665561199188, 0.10803332179784775, 0.2160666435956955, 0.4012666344642639, 0.10803332179784775, 0.03086666390299797, 0.8938521146774292, 0.10234947502613068, 0.2136000543832779, 0.2136000543832779, 0.4272001087665558, 0.7957627177238464, 0.027440093457698822, 0.10976037383079529, 0.054880186915397644, 0.1055556982755661, 0.29230809211730957, 0.4871801435947418, 0.04871801286935806, 0.06495735049247742, 0.72661954164505, 0.06692548096179962, 0.0191215667873621, 0.16253331303596497, 0.0191215667873621, 0.35066789388656616, 0.41560640931129456, 0.05195080116391182, 0.16884009540081024, 0.6632378697395325, 0.265295147895813, 0.9903090000152588, 0.7958261966705322, 0.027442283928394318, 0.10976913571357727, 0.054884567856788635], \"Term\": [\"books\", \"books\", \"business\", \"business\", \"comics\", \"comics\", \"comics\", \"comics\", \"comics\", \"comics\", \"drink\", \"drink\", \"education\", \"education\", \"education\", \"education\", \"education\", \"education\", \"entertainment\", \"entertainment\", \"entertainment\", \"entertainment\", \"entertainment\", \"entertainment\", \"entertainment\", \"finance\", \"finance\", \"finance\", \"finance\", \"finance\", \"finance\", \"food\", \"food\", \"lifestyle\", \"lifestyle\", \"lifestyle\", \"local\", \"local\", \"local\", \"local\", \"music\", \"music\", \"music\", \"music\", \"music\", \"photography\", \"photography\", \"photography\", \"photography\", \"photography\", \"productivity\", \"productivity\", \"productivity\", \"productivity\", \"reference\", \"reference\", \"shopping\", \"travel\", \"travel\", \"travel\", \"travel\"]}, \"R\": 16, \"lambda.step\": 0.01, \"plot.opts\": {\"xlab\": \"PC1\", \"ylab\": \"PC2\"}, \"topic.order\": [9, 6, 3, 8, 5, 1, 10, 4, 2, 7]};\n",
       "\n",
       "function LDAvis_load_lib(url, callback){\n",
       "  var s = document.createElement('script');\n",
       "  s.src = url;\n",
       "  s.async = true;\n",
       "  s.onreadystatechange = s.onload = callback;\n",
       "  s.onerror = function(){console.warn(\"failed to load library \" + url);};\n",
       "  document.getElementsByTagName(\"head\")[0].appendChild(s);\n",
       "}\n",
       "\n",
       "if(typeof(LDAvis) !== \"undefined\"){\n",
       "   // already loaded: just create the visualization\n",
       "   !function(LDAvis){\n",
       "       new LDAvis(\"#\" + \"ldavis_el6963549182100166716454412\", ldavis_el6963549182100166716454412_data);\n",
       "   }(LDAvis);\n",
       "}else if(typeof define === \"function\" && define.amd){\n",
       "   // require.js is available: use it to load d3/LDAvis\n",
       "   require.config({paths: {d3: \"https://cdnjs.cloudflare.com/ajax/libs/d3/3.5.5/d3.min\"}});\n",
       "   require([\"d3\"], function(d3){\n",
       "      window.d3 = d3;\n",
       "      LDAvis_load_lib(\"https://cdn.rawgit.com/bmabey/pyLDAvis/files/ldavis.v1.0.0.js\", function(){\n",
       "        new LDAvis(\"#\" + \"ldavis_el6963549182100166716454412\", ldavis_el6963549182100166716454412_data);\n",
       "      });\n",
       "    });\n",
       "}else{\n",
       "    // require.js not available: dynamically load d3 & LDAvis\n",
       "    LDAvis_load_lib(\"https://cdnjs.cloudflare.com/ajax/libs/d3/3.5.5/d3.min.js\", function(){\n",
       "         LDAvis_load_lib(\"https://cdn.rawgit.com/bmabey/pyLDAvis/files/ldavis.v1.0.0.js\", function(){\n",
       "                 new LDAvis(\"#\" + \"ldavis_el6963549182100166716454412\", ldavis_el6963549182100166716454412_data);\n",
       "            })\n",
       "         });\n",
       "}\n",
       "</script>"
      ],
      "text/plain": [
       "PreparedData(topic_coordinates=              x         y  topics  cluster       Freq\n",
       "topic                                                \n",
       "8      0.374418 -0.091855       1        1  26.831442\n",
       "5     -0.193135 -0.159318       2        1  20.603668\n",
       "2     -0.083654  0.004831       3        1  13.512553\n",
       "7     -0.122647  0.092474       4        1  13.054535\n",
       "4      0.008590  0.246928       5        1  11.923005\n",
       "0     -0.229457 -0.055991       6        1   8.486609\n",
       "9      0.220245  0.003398       7        1   5.437074\n",
       "3      0.005365 -0.012847       8        1   0.052852\n",
       "1      0.010137 -0.013810       9        1   0.049135\n",
       "6      0.010137 -0.013810      10        1   0.049135, topic_info=         Term        Freq       Total Category  logprob  loglift\n",
       "14      drink  146.000000  146.000000  Default  16.0000  16.0000\n",
       "15       food  146.000000  146.000000  Default  15.0000  15.0000\n",
       "13   shopping   68.000000   68.000000  Default  14.0000  14.0000\n",
       "0      comics  137.000000  137.000000  Default  13.0000  13.0000\n",
       "10      music  123.000000  123.000000  Default  12.0000  12.0000\n",
       "..        ...         ...         ...      ...      ...      ...\n",
       "1   education    0.035285  105.202980  Topic10  -2.7726  -0.3818\n",
       "10      music    0.035285  123.157730  Topic10  -2.7726  -0.5394\n",
       "0      comics    0.035285  137.856873  Topic10  -2.7726  -0.6522\n",
       "14      drink    0.035285  146.553070  Topic10  -2.7726  -0.7133\n",
       "15       food    0.035285  146.556686  Topic10  -2.7726  -0.7134\n",
       "\n",
       "[176 rows x 6 columns], token_table=      Topic      Freq      Term\n",
       "term                           \n",
       "7         5  0.663225     books\n",
       "7         7  0.265290     books\n",
       "12        4  0.615078  business\n",
       "12        6  0.307539  business\n",
       "0         1  0.137824    comics\n",
       "...     ...       ...       ...\n",
       "13        4  0.990309  shopping\n",
       "6         2  0.795826    travel\n",
       "6         3  0.027442    travel\n",
       "6         4  0.109769    travel\n",
       "6         5  0.054885    travel\n",
       "\n",
       "[61 rows x 3 columns], R=16, lambda_step=0.01, plot_opts={'xlab': 'PC1', 'ylab': 'PC2'}, topic_order=[9, 6, 3, 8, 5, 1, 10, 4, 2, 7])"
      ]
     },
     "execution_count": 52,
     "metadata": {},
     "output_type": "execute_result"
    }
   ],
   "source": [
    "# Visualize the topics\n",
    "pyLDAvis.enable_notebook()\n",
    "vis = pyLDAvis.gensim.prepare(lda_model, corpus, id2word)\n",
    "vis"
   ]
  },
  {
   "cell_type": "markdown",
   "metadata": {},
   "source": [
    "# LDA 해석\n",
    "\n",
    "🎑🍚Take a Rest : Cluster 1 & 7\n",
    "\n",
    "- Food & drink, comics, music\n",
    "- Food & drink, food, comics\n",
    "\n",
    "📑Studying : Cluster 2 & 3 & 6\n",
    "(2) photography, music, \n",
    "(3) music, productivity, \n",
    "(6) education, photography, \n",
    "\n",
    "🎬Shopping : Cluster 4 & 5\n",
    "(4) Shopping, education, \n",
    "(5) Comic, finance, "
   ]
  },
  {
   "cell_type": "markdown",
   "metadata": {},
   "source": [
    "# Next Step : Gaussian LDA\n",
    "\n",
    "- 각 앱의 사용시간을 가중치로 한 LDA\n",
    "https://bab2min.tistory.com/608"
   ]
  },
  {
   "cell_type": "code",
   "execution_count": null,
   "metadata": {},
   "outputs": [],
   "source": []
  }
 ],
 "metadata": {
  "kernelspec": {
   "display_name": "Python 3",
   "language": "python",
   "name": "python3"
  },
  "language_info": {
   "codemirror_mode": {
    "name": "ipython",
    "version": 3
   },
   "file_extension": ".py",
   "mimetype": "text/x-python",
   "name": "python",
   "nbconvert_exporter": "python",
   "pygments_lexer": "ipython3",
   "version": "3.6.10"
  },
  "toc": {
   "base_numbering": 1,
   "nav_menu": {},
   "number_sections": true,
   "sideBar": true,
   "skip_h1_title": false,
   "title_cell": "Table of Contents",
   "title_sidebar": "Contents",
   "toc_cell": false,
   "toc_position": {
    "height": "calc(100% - 180px)",
    "left": "10px",
    "top": "150px",
    "width": "253px"
   },
   "toc_section_display": true,
   "toc_window_display": true
  },
  "varInspector": {
   "cols": {
    "lenName": 16,
    "lenType": 16,
    "lenVar": 40
   },
   "kernels_config": {
    "python": {
     "delete_cmd_postfix": "",
     "delete_cmd_prefix": "del ",
     "library": "var_list.py",
     "varRefreshCmd": "print(var_dic_list())"
    },
    "r": {
     "delete_cmd_postfix": ") ",
     "delete_cmd_prefix": "rm(",
     "library": "var_list.r",
     "varRefreshCmd": "cat(var_dic_list()) "
    }
   },
   "types_to_exclude": [
    "module",
    "function",
    "builtin_function_or_method",
    "instance",
    "_Feature"
   ],
   "window_display": false
  }
 },
 "nbformat": 4,
 "nbformat_minor": 4
}
