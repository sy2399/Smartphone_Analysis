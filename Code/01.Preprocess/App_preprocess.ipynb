{
 "cells": [
  {
   "cell_type": "code",
   "execution_count": 1,
   "metadata": {
    "ExecuteTime": {
     "end_time": "2020-02-19T09:04:34.955475Z",
     "start_time": "2020-02-19T09:04:34.043412Z"
    }
   },
   "outputs": [],
   "source": [
    "import pandas as pd\n",
    "import os, sys\n",
    "file_dir = '/Users/imsoyoung/Soyoung/Ajou/Project/DigitalPhenotype/DigitalPhenotype_overall/Code/Util'\n",
    "sys.path.append(os.path.dirname(os.path.abspath\n",
    "                                (os.path.abspath(file_dir))))\n",
    "\n",
    "import Util.Utility as util\n",
    "import datetime"
   ]
  },
  {
   "cell_type": "markdown",
   "metadata": {},
   "source": [
    "# App Data"
   ]
  },
  {
   "cell_type": "markdown",
   "metadata": {},
   "source": [
    "## App Sample1 (A)\n",
    "- uid\n",
    "- date (YYYY-mm-dd)\n",
    "- stime, etime (YYYY-mm-dd HH:MM:SS) \n",
    "- packageName\n",
    "- total : total app usage time\n",
    "- isInUsable : if user is using or not (foreground or background)\n",
    "- packageFullName : we can find category of app with this (+ google play store crawling)"
   ]
  },
  {
   "cell_type": "code",
   "execution_count": 2,
   "metadata": {
    "ExecuteTime": {
     "end_time": "2020-02-19T09:04:35.734218Z",
     "start_time": "2020-02-19T09:04:35.629663Z"
    },
    "scrolled": true
   },
   "outputs": [
    {
     "name": "stdout",
     "output_type": "stream",
     "text": [
      "(35002, 9)\n"
     ]
    },
    {
     "data": {
      "text/html": [
       "<div>\n",
       "<style scoped>\n",
       "    .dataframe tbody tr th:only-of-type {\n",
       "        vertical-align: middle;\n",
       "    }\n",
       "\n",
       "    .dataframe tbody tr th {\n",
       "        vertical-align: top;\n",
       "    }\n",
       "\n",
       "    .dataframe thead th {\n",
       "        text-align: right;\n",
       "    }\n",
       "</style>\n",
       "<table border=\"1\" class=\"dataframe\">\n",
       "  <thead>\n",
       "    <tr style=\"text-align: right;\">\n",
       "      <th></th>\n",
       "      <th>_id</th>\n",
       "      <th>uid</th>\n",
       "      <th>date</th>\n",
       "      <th>stime</th>\n",
       "      <th>etime</th>\n",
       "      <th>packageName</th>\n",
       "      <th>total</th>\n",
       "      <th>isInUsable</th>\n",
       "      <th>packageFullName</th>\n",
       "    </tr>\n",
       "  </thead>\n",
       "  <tbody>\n",
       "    <tr>\n",
       "      <th>0</th>\n",
       "      <td>1</td>\n",
       "      <td>otfKOMf7VUaB5lxUARO0HNusxPB2</td>\n",
       "      <td>2018-12-03</td>\n",
       "      <td>2018-12-03 00:11:26</td>\n",
       "      <td>NaN</td>\n",
       "      <td>캐시워크</td>\n",
       "      <td>0</td>\n",
       "      <td>False</td>\n",
       "      <td>com.cashwalk.cashwalk</td>\n",
       "    </tr>\n",
       "    <tr>\n",
       "      <th>1</th>\n",
       "      <td>2</td>\n",
       "      <td>otfKOMf7VUaB5lxUARO0HNusxPB2</td>\n",
       "      <td>2018-12-03</td>\n",
       "      <td>2018-12-03 00:11:37</td>\n",
       "      <td>NaN</td>\n",
       "      <td>캐시워크</td>\n",
       "      <td>0</td>\n",
       "      <td>False</td>\n",
       "      <td>com.cashwalk.cashwalk</td>\n",
       "    </tr>\n",
       "    <tr>\n",
       "      <th>2</th>\n",
       "      <td>3</td>\n",
       "      <td>otfKOMf7VUaB5lxUARO0HNusxPB2</td>\n",
       "      <td>2018-12-03</td>\n",
       "      <td>2018-12-03 00:11:59</td>\n",
       "      <td>2018-12-03 00:12:10</td>\n",
       "      <td>캐시워크</td>\n",
       "      <td>11</td>\n",
       "      <td>True</td>\n",
       "      <td>com.cashwalk.cashwalk</td>\n",
       "    </tr>\n",
       "    <tr>\n",
       "      <th>3</th>\n",
       "      <td>4</td>\n",
       "      <td>otfKOMf7VUaB5lxUARO0HNusxPB2</td>\n",
       "      <td>2018-12-03</td>\n",
       "      <td>2018-12-03 00:12:11</td>\n",
       "      <td>NaN</td>\n",
       "      <td>캐시워크</td>\n",
       "      <td>0</td>\n",
       "      <td>False</td>\n",
       "      <td>com.cashwalk.cashwalk</td>\n",
       "    </tr>\n",
       "    <tr>\n",
       "      <th>4</th>\n",
       "      <td>5</td>\n",
       "      <td>otfKOMf7VUaB5lxUARO0HNusxPB2</td>\n",
       "      <td>2018-12-03</td>\n",
       "      <td>2018-12-03 00:12:20</td>\n",
       "      <td>NaN</td>\n",
       "      <td>캐시워크</td>\n",
       "      <td>0</td>\n",
       "      <td>False</td>\n",
       "      <td>com.cashwalk.cashwalk</td>\n",
       "    </tr>\n",
       "  </tbody>\n",
       "</table>\n",
       "</div>"
      ],
      "text/plain": [
       "   _id                           uid        date                stime  \\\n",
       "0    1  otfKOMf7VUaB5lxUARO0HNusxPB2  2018-12-03  2018-12-03 00:11:26   \n",
       "1    2  otfKOMf7VUaB5lxUARO0HNusxPB2  2018-12-03  2018-12-03 00:11:37   \n",
       "2    3  otfKOMf7VUaB5lxUARO0HNusxPB2  2018-12-03  2018-12-03 00:11:59   \n",
       "3    4  otfKOMf7VUaB5lxUARO0HNusxPB2  2018-12-03  2018-12-03 00:12:11   \n",
       "4    5  otfKOMf7VUaB5lxUARO0HNusxPB2  2018-12-03  2018-12-03 00:12:20   \n",
       "\n",
       "                 etime packageName  total  isInUsable        packageFullName  \n",
       "0                  NaN        캐시워크      0       False  com.cashwalk.cashwalk  \n",
       "1                  NaN        캐시워크      0       False  com.cashwalk.cashwalk  \n",
       "2  2018-12-03 00:12:10        캐시워크     11        True  com.cashwalk.cashwalk  \n",
       "3                  NaN        캐시워크      0       False  com.cashwalk.cashwalk  \n",
       "4                  NaN        캐시워크      0       False  com.cashwalk.cashwalk  "
      ]
     },
     "execution_count": 2,
     "metadata": {},
     "output_type": "execute_result"
    }
   ],
   "source": [
    "app_sample1 = pd.read_csv('../../Sample_Data/A/App.csv', encoding='utf-8')\n",
    "print(app_sample1.shape)\n",
    "app_sample1.head()\n"
   ]
  },
  {
   "cell_type": "markdown",
   "metadata": {},
   "source": [
    "## Data Preprocessing\n",
    "\n",
    "1. to Datetime\n",
    "2. Drop Background(e.g.,backround app - cashwalk)\n",
    "3. App Categorizing (with Crawling)\n",
    "    - Result : [uid, date, stime, etime, packageName, Category]\n",
    "4. Time Mapping : to count total duration of app usage\n",
    "    - Result : [timestamp, package, Category]"
   ]
  },
  {
   "cell_type": "markdown",
   "metadata": {},
   "source": [
    "### To Datetime\n",
    "\n",
    "util.toDatetime()\n",
    "\n",
    " - df : dataframe \n",
    " - timeCol : columns of timestamp (ex, [timestamp] or [stime, etime])\n",
    " - format : data format (format without any space, reg)\n",
    " - usage : toDatetime(df, ['stime', 'etime'], '%Y-%m-%d %H:%M:%S')\n",
    "\n"
   ]
  },
  {
   "cell_type": "code",
   "execution_count": 3,
   "metadata": {
    "ExecuteTime": {
     "end_time": "2020-02-19T09:04:38.455297Z",
     "start_time": "2020-02-19T09:04:38.104198Z"
    }
   },
   "outputs": [],
   "source": [
    "app_sample1 = util.toDatetime(app_sample1, ['date'], '%Y%m%d')\n",
    "app_sample1 = util.toDatetime(app_sample1, ['stime', 'etime'], '%Y%m%d%H%M%S')"
   ]
  },
  {
   "cell_type": "markdown",
   "metadata": {},
   "source": [
    "### Drop background\n",
    "\n",
    "\n",
    "check if background or not\n",
    "- total == 0\n",
    "- isInUsable == False"
   ]
  },
  {
   "cell_type": "code",
   "execution_count": 4,
   "metadata": {
    "ExecuteTime": {
     "end_time": "2020-02-19T09:04:38.603766Z",
     "start_time": "2020-02-19T09:04:38.594177Z"
    }
   },
   "outputs": [
    {
     "data": {
      "text/plain": [
       "(1271, 9)"
      ]
     },
     "execution_count": 4,
     "metadata": {},
     "output_type": "execute_result"
    }
   ],
   "source": [
    "app_sample1 = app_sample1[app_sample1['total'] != 0]\n",
    "app_sample1 = app_sample1[app_sample1['isInUsable'] == False]\n",
    "app_sample1.shape"
   ]
  },
  {
   "cell_type": "markdown",
   "metadata": {},
   "source": [
    "### App Categorizing (with Crawling)"
   ]
  },
  {
   "cell_type": "code",
   "execution_count": 6,
   "metadata": {
    "ExecuteTime": {
     "end_time": "2020-02-19T09:05:00.794473Z",
     "start_time": "2020-02-19T09:04:52.630213Z"
    },
    "scrolled": true
   },
   "outputs": [
    {
     "data": {
      "text/plain": [
       "'Entertainment & Music'"
      ]
     },
     "execution_count": 6,
     "metadata": {},
     "output_type": "execute_result"
    }
   ],
   "source": [
    "cat_list = pd.read_csv('App_category/Cat_group.csv') #grouped category list\n",
    "\n",
    "# ex.\n",
    "util.getGoogleCategory('com.no.color', cat_list)"
   ]
  },
  {
   "cell_type": "code",
   "execution_count": 7,
   "metadata": {
    "ExecuteTime": {
     "end_time": "2020-02-19T09:05:02.207003Z",
     "start_time": "2020-02-19T09:05:02.204772Z"
    }
   },
   "outputs": [],
   "source": [
    "app_sample1['App_category'] = app_sample1['packageFullName'].apply(lambda x : util.getGoogleCategory(x, cat_list))\n",
    "app_sample1.to_csv('result/A_categorized.csv')"
   ]
  },
  {
   "cell_type": "code",
   "execution_count": 8,
   "metadata": {
    "ExecuteTime": {
     "end_time": "2020-02-19T09:05:03.289722Z",
     "start_time": "2020-02-19T09:05:03.247729Z"
    }
   },
   "outputs": [
    {
     "data": {
      "text/html": [
       "<div>\n",
       "<style scoped>\n",
       "    .dataframe tbody tr th:only-of-type {\n",
       "        vertical-align: middle;\n",
       "    }\n",
       "\n",
       "    .dataframe tbody tr th {\n",
       "        vertical-align: top;\n",
       "    }\n",
       "\n",
       "    .dataframe thead th {\n",
       "        text-align: right;\n",
       "    }\n",
       "</style>\n",
       "<table border=\"1\" class=\"dataframe\">\n",
       "  <thead>\n",
       "    <tr style=\"text-align: right;\">\n",
       "      <th></th>\n",
       "      <th>Unnamed: 0</th>\n",
       "      <th>_id</th>\n",
       "      <th>uid</th>\n",
       "      <th>date</th>\n",
       "      <th>stime</th>\n",
       "      <th>etime</th>\n",
       "      <th>packageName</th>\n",
       "      <th>total</th>\n",
       "      <th>isInUsable</th>\n",
       "      <th>packageFullName</th>\n",
       "      <th>category</th>\n",
       "    </tr>\n",
       "  </thead>\n",
       "  <tbody>\n",
       "    <tr>\n",
       "      <th>0</th>\n",
       "      <td>2</td>\n",
       "      <td>3</td>\n",
       "      <td>otfKOMf7VUaB5lxUARO0HNusxPB2</td>\n",
       "      <td>2018-12-03</td>\n",
       "      <td>2018-12-03 00:11:59</td>\n",
       "      <td>2018-12-03 00:12:10</td>\n",
       "      <td>캐시워크</td>\n",
       "      <td>11</td>\n",
       "      <td>True</td>\n",
       "      <td>com.cashwalk.cashwalk</td>\n",
       "      <td>Health &amp; Fitness</td>\n",
       "    </tr>\n",
       "    <tr>\n",
       "      <th>1</th>\n",
       "      <td>17</td>\n",
       "      <td>20</td>\n",
       "      <td>otfKOMf7VUaB5lxUARO0HNusxPB2</td>\n",
       "      <td>2018-12-03</td>\n",
       "      <td>2018-12-03 00:13:21</td>\n",
       "      <td>2018-12-03 00:13:24</td>\n",
       "      <td>카카오톡</td>\n",
       "      <td>3</td>\n",
       "      <td>True</td>\n",
       "      <td>com.kakao.talk</td>\n",
       "      <td>Communication</td>\n",
       "    </tr>\n",
       "    <tr>\n",
       "      <th>2</th>\n",
       "      <td>19</td>\n",
       "      <td>22</td>\n",
       "      <td>otfKOMf7VUaB5lxUARO0HNusxPB2</td>\n",
       "      <td>2018-12-03</td>\n",
       "      <td>2018-12-03 00:13:32</td>\n",
       "      <td>2018-12-03 00:13:33</td>\n",
       "      <td>카카오톡</td>\n",
       "      <td>1</td>\n",
       "      <td>True</td>\n",
       "      <td>com.kakao.talk</td>\n",
       "      <td>Communication</td>\n",
       "    </tr>\n",
       "  </tbody>\n",
       "</table>\n",
       "</div>"
      ],
      "text/plain": [
       "   Unnamed: 0  _id                           uid        date  \\\n",
       "0           2    3  otfKOMf7VUaB5lxUARO0HNusxPB2  2018-12-03   \n",
       "1          17   20  otfKOMf7VUaB5lxUARO0HNusxPB2  2018-12-03   \n",
       "2          19   22  otfKOMf7VUaB5lxUARO0HNusxPB2  2018-12-03   \n",
       "\n",
       "                 stime                etime packageName  total  isInUsable  \\\n",
       "0  2018-12-03 00:11:59  2018-12-03 00:12:10        캐시워크     11        True   \n",
       "1  2018-12-03 00:13:21  2018-12-03 00:13:24        카카오톡      3        True   \n",
       "2  2018-12-03 00:13:32  2018-12-03 00:13:33        카카오톡      1        True   \n",
       "\n",
       "         packageFullName          category  \n",
       "0  com.cashwalk.cashwalk  Health & Fitness  \n",
       "1         com.kakao.talk     Communication  \n",
       "2         com.kakao.talk     Communication  "
      ]
     },
     "execution_count": 8,
     "metadata": {},
     "output_type": "execute_result"
    }
   ],
   "source": [
    "pd.read_csv('result/A_categorized.csv').head(3)"
   ]
  },
  {
   "cell_type": "markdown",
   "metadata": {},
   "source": [
    "### Time Mapping\n",
    "- mapping minutes\n",
    "\n",
    "    - ex. Category1 stime : 10:00:00 , etime 10:05:00\n",
    "    - 10:00, 10:01, 10:02, 10:03, 10:04, 10:05 ==> Category1\n",
    "    \n",
    "    util.appTimeMapping(app_sample1, columns):\n",
    "    params : columns\n",
    "    - columns[0] = timestamp\n",
    "    - columns[1] = packageFullName\n",
    "    - columns[2] = category\n",
    "\n",
    "    - columns[3] = stime\n",
    "    - columns[4] = etime\n",
    "    - columns[5] = uid\n",
    "    \n",
    "    \n",
    "- drop dupilicate\n",
    "    - 10:00:01, 10:00:02 --> one row\n",
    "    1. second to 0\n",
    "    2. drop same timestamp\n"
   ]
  },
  {
   "cell_type": "code",
   "execution_count": null,
   "metadata": {
    "ExecuteTime": {
     "end_time": "2020-02-19T08:34:26.945999Z",
     "start_time": "2020-02-19T08:34:26.943629Z"
    }
   },
   "outputs": [],
   "source": [
    "colums = ['date', 'packageFullName', 'App_category', 'stime', 'etime', 'uid']\n",
    "app_sample1_time = util.appTimeMapping(app_sample1, columns):"
   ]
  },
  {
   "cell_type": "code",
   "execution_count": null,
   "metadata": {
    "ExecuteTime": {
     "end_time": "2020-02-19T08:34:28.569969Z",
     "start_time": "2020-02-19T08:34:28.567400Z"
    }
   },
   "outputs": [],
   "source": [
    "app_sample_result = util.removeDuplicate(sample, timeColName, pkColName):\n",
    "\n",
    "\n",
    "app_sample1_time['timestamp'] = pd.to_datetime(app_sample1_time['timestamp'], format='%Y-%m-%d %H:%M:%S')\n",
    "app_sample1_time['timestamp'] = app_sample1_time['timestamp'].apply(lambda t: t.replace(second=0))\n",
    "\n",
    "delDup = removeDuplicate(app_sample1_time, 'timestamp', 'packageFullName')\n",
    "delDup.to_csv('result/A_timeMapped.csv')"
   ]
  },
  {
   "cell_type": "code",
   "execution_count": 9,
   "metadata": {
    "ExecuteTime": {
     "end_time": "2020-02-19T09:05:09.606409Z",
     "start_time": "2020-02-19T09:05:09.580687Z"
    }
   },
   "outputs": [
    {
     "data": {
      "text/html": [
       "<div>\n",
       "<style scoped>\n",
       "    .dataframe tbody tr th:only-of-type {\n",
       "        vertical-align: middle;\n",
       "    }\n",
       "\n",
       "    .dataframe tbody tr th {\n",
       "        vertical-align: top;\n",
       "    }\n",
       "\n",
       "    .dataframe thead th {\n",
       "        text-align: right;\n",
       "    }\n",
       "</style>\n",
       "<table border=\"1\" class=\"dataframe\">\n",
       "  <thead>\n",
       "    <tr style=\"text-align: right;\">\n",
       "      <th></th>\n",
       "      <th>Unnamed: 0</th>\n",
       "      <th>Unnamed: 0.1</th>\n",
       "      <th>timestamp</th>\n",
       "      <th>packageName</th>\n",
       "      <th>category</th>\n",
       "      <th>uid</th>\n",
       "    </tr>\n",
       "  </thead>\n",
       "  <tbody>\n",
       "    <tr>\n",
       "      <th>0</th>\n",
       "      <td>0</td>\n",
       "      <td>0</td>\n",
       "      <td>2018-12-03 00:14:00</td>\n",
       "      <td>카카오톡</td>\n",
       "      <td>Communication</td>\n",
       "      <td>otfKOMf7VUaB5lxUARO0HNusxPB2</td>\n",
       "    </tr>\n",
       "    <tr>\n",
       "      <th>1</th>\n",
       "      <td>1</td>\n",
       "      <td>1</td>\n",
       "      <td>2018-12-03 00:25:00</td>\n",
       "      <td>카카오톡</td>\n",
       "      <td>Communication</td>\n",
       "      <td>otfKOMf7VUaB5lxUARO0HNusxPB2</td>\n",
       "    </tr>\n",
       "    <tr>\n",
       "      <th>2</th>\n",
       "      <td>2</td>\n",
       "      <td>2</td>\n",
       "      <td>2018-12-03 00:34:00</td>\n",
       "      <td>Facebook</td>\n",
       "      <td>Communication</td>\n",
       "      <td>otfKOMf7VUaB5lxUARO0HNusxPB2</td>\n",
       "    </tr>\n",
       "    <tr>\n",
       "      <th>3</th>\n",
       "      <td>3</td>\n",
       "      <td>3</td>\n",
       "      <td>2018-12-03 00:35:00</td>\n",
       "      <td>Facebook</td>\n",
       "      <td>Communication</td>\n",
       "      <td>otfKOMf7VUaB5lxUARO0HNusxPB2</td>\n",
       "    </tr>\n",
       "    <tr>\n",
       "      <th>4</th>\n",
       "      <td>4</td>\n",
       "      <td>4</td>\n",
       "      <td>2018-12-03 00:36:00</td>\n",
       "      <td>Facebook</td>\n",
       "      <td>Communication</td>\n",
       "      <td>otfKOMf7VUaB5lxUARO0HNusxPB2</td>\n",
       "    </tr>\n",
       "    <tr>\n",
       "      <th>5</th>\n",
       "      <td>5</td>\n",
       "      <td>5</td>\n",
       "      <td>2018-12-03 00:37:00</td>\n",
       "      <td>Facebook</td>\n",
       "      <td>Communication</td>\n",
       "      <td>otfKOMf7VUaB5lxUARO0HNusxPB2</td>\n",
       "    </tr>\n",
       "    <tr>\n",
       "      <th>6</th>\n",
       "      <td>6</td>\n",
       "      <td>6</td>\n",
       "      <td>2018-12-03 00:38:00</td>\n",
       "      <td>Facebook</td>\n",
       "      <td>Communication</td>\n",
       "      <td>otfKOMf7VUaB5lxUARO0HNusxPB2</td>\n",
       "    </tr>\n",
       "    <tr>\n",
       "      <th>7</th>\n",
       "      <td>7</td>\n",
       "      <td>7</td>\n",
       "      <td>2018-12-03 00:39:00</td>\n",
       "      <td>Facebook</td>\n",
       "      <td>Communication</td>\n",
       "      <td>otfKOMf7VUaB5lxUARO0HNusxPB2</td>\n",
       "    </tr>\n",
       "    <tr>\n",
       "      <th>8</th>\n",
       "      <td>8</td>\n",
       "      <td>8</td>\n",
       "      <td>2018-12-03 00:40:00</td>\n",
       "      <td>Facebook</td>\n",
       "      <td>Communication</td>\n",
       "      <td>otfKOMf7VUaB5lxUARO0HNusxPB2</td>\n",
       "    </tr>\n",
       "    <tr>\n",
       "      <th>9</th>\n",
       "      <td>9</td>\n",
       "      <td>9</td>\n",
       "      <td>2018-12-03 00:41:00</td>\n",
       "      <td>Facebook</td>\n",
       "      <td>Communication</td>\n",
       "      <td>otfKOMf7VUaB5lxUARO0HNusxPB2</td>\n",
       "    </tr>\n",
       "  </tbody>\n",
       "</table>\n",
       "</div>"
      ],
      "text/plain": [
       "   Unnamed: 0  Unnamed: 0.1            timestamp packageName       category  \\\n",
       "0           0             0  2018-12-03 00:14:00        카카오톡  Communication   \n",
       "1           1             1  2018-12-03 00:25:00        카카오톡  Communication   \n",
       "2           2             2  2018-12-03 00:34:00    Facebook  Communication   \n",
       "3           3             3  2018-12-03 00:35:00    Facebook  Communication   \n",
       "4           4             4  2018-12-03 00:36:00    Facebook  Communication   \n",
       "5           5             5  2018-12-03 00:37:00    Facebook  Communication   \n",
       "6           6             6  2018-12-03 00:38:00    Facebook  Communication   \n",
       "7           7             7  2018-12-03 00:39:00    Facebook  Communication   \n",
       "8           8             8  2018-12-03 00:40:00    Facebook  Communication   \n",
       "9           9             9  2018-12-03 00:41:00    Facebook  Communication   \n",
       "\n",
       "                            uid  \n",
       "0  otfKOMf7VUaB5lxUARO0HNusxPB2  \n",
       "1  otfKOMf7VUaB5lxUARO0HNusxPB2  \n",
       "2  otfKOMf7VUaB5lxUARO0HNusxPB2  \n",
       "3  otfKOMf7VUaB5lxUARO0HNusxPB2  \n",
       "4  otfKOMf7VUaB5lxUARO0HNusxPB2  \n",
       "5  otfKOMf7VUaB5lxUARO0HNusxPB2  \n",
       "6  otfKOMf7VUaB5lxUARO0HNusxPB2  \n",
       "7  otfKOMf7VUaB5lxUARO0HNusxPB2  \n",
       "8  otfKOMf7VUaB5lxUARO0HNusxPB2  \n",
       "9  otfKOMf7VUaB5lxUARO0HNusxPB2  "
      ]
     },
     "execution_count": 9,
     "metadata": {},
     "output_type": "execute_result"
    }
   ],
   "source": [
    "pd.read_csv('result/A_timeMapped.csv').head(10)"
   ]
  },
  {
   "cell_type": "code",
   "execution_count": null,
   "metadata": {},
   "outputs": [],
   "source": []
  }
 ],
 "metadata": {
  "kernelspec": {
   "display_name": "Python 3",
   "language": "python",
   "name": "python3"
  },
  "language_info": {
   "codemirror_mode": {
    "name": "ipython",
    "version": 3
   },
   "file_extension": ".py",
   "mimetype": "text/x-python",
   "name": "python",
   "nbconvert_exporter": "python",
   "pygments_lexer": "ipython3",
   "version": "3.6.10"
  },
  "toc": {
   "base_numbering": 1,
   "nav_menu": {},
   "number_sections": true,
   "sideBar": true,
   "skip_h1_title": false,
   "title_cell": "Table of Contents",
   "title_sidebar": "Contents",
   "toc_cell": false,
   "toc_position": {},
   "toc_section_display": true,
   "toc_window_display": false
  },
  "varInspector": {
   "cols": {
    "lenName": 16,
    "lenType": 16,
    "lenVar": 40
   },
   "kernels_config": {
    "python": {
     "delete_cmd_postfix": "",
     "delete_cmd_prefix": "del ",
     "library": "var_list.py",
     "varRefreshCmd": "print(var_dic_list())"
    },
    "r": {
     "delete_cmd_postfix": ") ",
     "delete_cmd_prefix": "rm(",
     "library": "var_list.r",
     "varRefreshCmd": "cat(var_dic_list()) "
    }
   },
   "types_to_exclude": [
    "module",
    "function",
    "builtin_function_or_method",
    "instance",
    "_Feature"
   ],
   "window_display": false
  }
 },
 "nbformat": 4,
 "nbformat_minor": 4
}
