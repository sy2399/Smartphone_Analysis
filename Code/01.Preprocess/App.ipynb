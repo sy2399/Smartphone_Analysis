{
 "cells": [
  {
   "cell_type": "code",
   "execution_count": 9,
   "metadata": {
    "ExecuteTime": {
     "end_time": "2020-02-19T07:48:17.565612Z",
     "start_time": "2020-02-19T07:48:17.562883Z"
    }
   },
   "outputs": [],
   "source": [
    "import pandas as pd\n",
    "import Util as util\n",
    "import datetime"
   ]
  },
  {
   "cell_type": "markdown",
   "metadata": {},
   "source": [
    "# App Data"
   ]
  },
  {
   "cell_type": "markdown",
   "metadata": {},
   "source": [
    "## App Sample1 (A)\n",
    "- uid\n",
    "- date (YYYY-mm-dd)\n",
    "- stime, etime (YYYY-mm-dd HH:MM:SS) \n",
    "- packageName\n",
    "- total : total app usage time\n",
    "- isInUsable : if user is using or not (foreground or background)\n",
    "- packageFullName : we can find category of app with this (+ google play store crawling)"
   ]
  },
  {
   "cell_type": "code",
   "execution_count": 22,
   "metadata": {
    "ExecuteTime": {
     "end_time": "2020-02-19T07:51:07.385534Z",
     "start_time": "2020-02-19T07:51:07.282482Z"
    },
    "scrolled": true
   },
   "outputs": [
    {
     "name": "stdout",
     "output_type": "stream",
     "text": [
      "(35002, 9)\n"
     ]
    },
    {
     "data": {
      "text/html": [
       "<div>\n",
       "<style scoped>\n",
       "    .dataframe tbody tr th:only-of-type {\n",
       "        vertical-align: middle;\n",
       "    }\n",
       "\n",
       "    .dataframe tbody tr th {\n",
       "        vertical-align: top;\n",
       "    }\n",
       "\n",
       "    .dataframe thead th {\n",
       "        text-align: right;\n",
       "    }\n",
       "</style>\n",
       "<table border=\"1\" class=\"dataframe\">\n",
       "  <thead>\n",
       "    <tr style=\"text-align: right;\">\n",
       "      <th></th>\n",
       "      <th>_id</th>\n",
       "      <th>uid</th>\n",
       "      <th>date</th>\n",
       "      <th>stime</th>\n",
       "      <th>etime</th>\n",
       "      <th>packageName</th>\n",
       "      <th>total</th>\n",
       "      <th>isInUsable</th>\n",
       "      <th>packageFullName</th>\n",
       "    </tr>\n",
       "  </thead>\n",
       "  <tbody>\n",
       "    <tr>\n",
       "      <th>0</th>\n",
       "      <td>1</td>\n",
       "      <td>otfKOMf7VUaB5lxUARO0HNusxPB2</td>\n",
       "      <td>2018-12-03</td>\n",
       "      <td>2018-12-03 00:11:26</td>\n",
       "      <td>NaN</td>\n",
       "      <td>캐시워크</td>\n",
       "      <td>0</td>\n",
       "      <td>False</td>\n",
       "      <td>com.cashwalk.cashwalk</td>\n",
       "    </tr>\n",
       "    <tr>\n",
       "      <th>1</th>\n",
       "      <td>2</td>\n",
       "      <td>otfKOMf7VUaB5lxUARO0HNusxPB2</td>\n",
       "      <td>2018-12-03</td>\n",
       "      <td>2018-12-03 00:11:37</td>\n",
       "      <td>NaN</td>\n",
       "      <td>캐시워크</td>\n",
       "      <td>0</td>\n",
       "      <td>False</td>\n",
       "      <td>com.cashwalk.cashwalk</td>\n",
       "    </tr>\n",
       "    <tr>\n",
       "      <th>2</th>\n",
       "      <td>3</td>\n",
       "      <td>otfKOMf7VUaB5lxUARO0HNusxPB2</td>\n",
       "      <td>2018-12-03</td>\n",
       "      <td>2018-12-03 00:11:59</td>\n",
       "      <td>2018-12-03 00:12:10</td>\n",
       "      <td>캐시워크</td>\n",
       "      <td>11</td>\n",
       "      <td>True</td>\n",
       "      <td>com.cashwalk.cashwalk</td>\n",
       "    </tr>\n",
       "    <tr>\n",
       "      <th>3</th>\n",
       "      <td>4</td>\n",
       "      <td>otfKOMf7VUaB5lxUARO0HNusxPB2</td>\n",
       "      <td>2018-12-03</td>\n",
       "      <td>2018-12-03 00:12:11</td>\n",
       "      <td>NaN</td>\n",
       "      <td>캐시워크</td>\n",
       "      <td>0</td>\n",
       "      <td>False</td>\n",
       "      <td>com.cashwalk.cashwalk</td>\n",
       "    </tr>\n",
       "    <tr>\n",
       "      <th>4</th>\n",
       "      <td>5</td>\n",
       "      <td>otfKOMf7VUaB5lxUARO0HNusxPB2</td>\n",
       "      <td>2018-12-03</td>\n",
       "      <td>2018-12-03 00:12:20</td>\n",
       "      <td>NaN</td>\n",
       "      <td>캐시워크</td>\n",
       "      <td>0</td>\n",
       "      <td>False</td>\n",
       "      <td>com.cashwalk.cashwalk</td>\n",
       "    </tr>\n",
       "  </tbody>\n",
       "</table>\n",
       "</div>"
      ],
      "text/plain": [
       "   _id                           uid        date                stime  \\\n",
       "0    1  otfKOMf7VUaB5lxUARO0HNusxPB2  2018-12-03  2018-12-03 00:11:26   \n",
       "1    2  otfKOMf7VUaB5lxUARO0HNusxPB2  2018-12-03  2018-12-03 00:11:37   \n",
       "2    3  otfKOMf7VUaB5lxUARO0HNusxPB2  2018-12-03  2018-12-03 00:11:59   \n",
       "3    4  otfKOMf7VUaB5lxUARO0HNusxPB2  2018-12-03  2018-12-03 00:12:11   \n",
       "4    5  otfKOMf7VUaB5lxUARO0HNusxPB2  2018-12-03  2018-12-03 00:12:20   \n",
       "\n",
       "                 etime packageName  total  isInUsable        packageFullName  \n",
       "0                  NaN        캐시워크      0       False  com.cashwalk.cashwalk  \n",
       "1                  NaN        캐시워크      0       False  com.cashwalk.cashwalk  \n",
       "2  2018-12-03 00:12:10        캐시워크     11        True  com.cashwalk.cashwalk  \n",
       "3                  NaN        캐시워크      0       False  com.cashwalk.cashwalk  \n",
       "4                  NaN        캐시워크      0       False  com.cashwalk.cashwalk  "
      ]
     },
     "execution_count": 22,
     "metadata": {},
     "output_type": "execute_result"
    }
   ],
   "source": [
    "app_sample1 = pd.read_csv('../../Sample Data/A/App.csv', encoding='utf-8')\n",
    "print(app_sample1.shape)\n",
    "app_sample1.head()\n"
   ]
  },
  {
   "cell_type": "markdown",
   "metadata": {},
   "source": [
    "## Data Preprocessing\n",
    "\n",
    "1. to Datetime\n",
    "2. Drop Background(e.g.,backround app - cashwalk) \n",
    "2. App Categorizing (with Crawling)\n",
    "\n",
    "Result : [uid, date, stime, etime, packageName, Category]\n",
    "\n",
    "- we will use this data to extract Feature\n",
    "    - count of each category in a day\n",
    "    - duration of each category in a day\n",
    "    - transition count of category\n"
   ]
  },
  {
   "cell_type": "markdown",
   "metadata": {},
   "source": [
    "### To Datetime\n",
    "\n",
    "util.toDatetime()\n",
    "\n",
    " - df : dataframe \n",
    " - timeCol : columns of timestamp (ex, [timestamp] or [stime, etime])\n",
    " - format : data format (format without any space, reg)\n",
    " - usage : toDatetime(df, ['stime', 'etime'], '%Y-%m-%d %H:%M:%S')\n",
    "\n"
   ]
  },
  {
   "cell_type": "code",
   "execution_count": 23,
   "metadata": {
    "ExecuteTime": {
     "end_time": "2020-02-19T07:51:14.318359Z",
     "start_time": "2020-02-19T07:51:13.989525Z"
    }
   },
   "outputs": [],
   "source": [
    "app_sample1 = util.toDatetime(app_sample1, ['date'], '%Y%m%d')\n",
    "app_sample1 = util.toDatetime(app_sample1, ['stime', 'etime'], '%Y%m%d%H%M%S')"
   ]
  },
  {
   "cell_type": "markdown",
   "metadata": {},
   "source": [
    "### Drop background\n",
    "\n",
    "\n",
    "check if background or not\n",
    "- total == 0\n",
    "- isInUsable == False"
   ]
  },
  {
   "cell_type": "code",
   "execution_count": 24,
   "metadata": {
    "ExecuteTime": {
     "end_time": "2020-02-19T07:51:15.365355Z",
     "start_time": "2020-02-19T07:51:15.354535Z"
    }
   },
   "outputs": [
    {
     "data": {
      "text/plain": [
       "(1271, 9)"
      ]
     },
     "execution_count": 24,
     "metadata": {},
     "output_type": "execute_result"
    }
   ],
   "source": [
    "app_sample1 = app_sample1[app_sample1['total'] != 0]\n",
    "app_sample1 = app_sample1[app_sample1['isInUsable'] == False]\n",
    "app_sample1.shape"
   ]
  },
  {
   "cell_type": "markdown",
   "metadata": {},
   "source": [
    "### App Categorizing (with Crawling)"
   ]
  },
  {
   "cell_type": "code",
   "execution_count": 25,
   "metadata": {
    "ExecuteTime": {
     "end_time": "2020-02-19T07:51:24.985215Z",
     "start_time": "2020-02-19T07:51:17.425734Z"
    }
   },
   "outputs": [
    {
     "data": {
      "text/plain": [
       "'Entertainment & Music'"
      ]
     },
     "execution_count": 25,
     "metadata": {},
     "output_type": "execute_result"
    }
   ],
   "source": [
    "# ex.\n",
    "util.getGoogleCategory('com.no.color')"
   ]
  },
  {
   "cell_type": "code",
   "execution_count": 28,
   "metadata": {
    "ExecuteTime": {
     "end_time": "2020-02-19T08:04:18.507748Z",
     "start_time": "2020-02-19T08:04:18.505333Z"
    }
   },
   "outputs": [],
   "source": [
    "app_sample1['App_category'] = app_sample1['packageFullName'].apply(lambda x : util.getGoogleCategory(x))\n",
    "app_sample1.to_csv('result/app_categorized.csv')"
   ]
  },
  {
   "cell_type": "code",
   "execution_count": null,
   "metadata": {},
   "outputs": [],
   "source": []
  }
 ],
 "metadata": {
  "kernelspec": {
   "display_name": "Python 3",
   "language": "python",
   "name": "python3"
  },
  "language_info": {
   "codemirror_mode": {
    "name": "ipython",
    "version": 3
   },
   "file_extension": ".py",
   "mimetype": "text/x-python",
   "name": "python",
   "nbconvert_exporter": "python",
   "pygments_lexer": "ipython3",
   "version": "3.6.10"
  },
  "toc": {
   "base_numbering": 1,
   "nav_menu": {},
   "number_sections": true,
   "sideBar": true,
   "skip_h1_title": false,
   "title_cell": "Table of Contents",
   "title_sidebar": "Contents",
   "toc_cell": false,
   "toc_position": {},
   "toc_section_display": true,
   "toc_window_display": false
  },
  "varInspector": {
   "cols": {
    "lenName": 16,
    "lenType": 16,
    "lenVar": 40
   },
   "kernels_config": {
    "python": {
     "delete_cmd_postfix": "",
     "delete_cmd_prefix": "del ",
     "library": "var_list.py",
     "varRefreshCmd": "print(var_dic_list())"
    },
    "r": {
     "delete_cmd_postfix": ") ",
     "delete_cmd_prefix": "rm(",
     "library": "var_list.r",
     "varRefreshCmd": "cat(var_dic_list()) "
    }
   },
   "types_to_exclude": [
    "module",
    "function",
    "builtin_function_or_method",
    "instance",
    "_Feature"
   ],
   "window_display": false
  }
 },
 "nbformat": 4,
 "nbformat_minor": 4
}
