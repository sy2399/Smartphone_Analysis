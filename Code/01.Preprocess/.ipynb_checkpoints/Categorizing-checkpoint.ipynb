{
 "cells": [
  {
   "cell_type": "code",
   "execution_count": 52,
   "metadata": {
    "ExecuteTime": {
     "end_time": "2020-01-23T05:40:20.704139Z",
     "start_time": "2020-01-23T05:40:20.701449Z"
    }
   },
   "outputs": [],
   "source": [
    "# !pip install bs4"
   ]
  },
  {
   "cell_type": "code",
   "execution_count": 17,
   "metadata": {
    "ExecuteTime": {
     "end_time": "2020-01-23T04:48:34.152378Z",
     "start_time": "2020-01-23T04:48:34.149767Z"
    }
   },
   "outputs": [],
   "source": [
    "import pandas as pd"
   ]
  },
  {
   "cell_type": "code",
   "execution_count": 57,
   "metadata": {
    "ExecuteTime": {
     "end_time": "2020-01-23T05:44:06.513534Z",
     "start_time": "2020-01-23T05:44:06.504199Z"
    }
   },
   "outputs": [],
   "source": [
    "sample = pd.read_csv('app_crawling.csv')\n",
    "group = pd.read_csv('Cat_group.csv')"
   ]
  },
  {
   "cell_type": "code",
   "execution_count": 58,
   "metadata": {
    "ExecuteTime": {
     "end_time": "2020-01-23T05:44:08.064454Z",
     "start_time": "2020-01-23T05:44:08.056435Z"
    }
   },
   "outputs": [
    {
     "data": {
      "text/html": [
       "<div>\n",
       "<style scoped>\n",
       "    .dataframe tbody tr th:only-of-type {\n",
       "        vertical-align: middle;\n",
       "    }\n",
       "\n",
       "    .dataframe tbody tr th {\n",
       "        vertical-align: top;\n",
       "    }\n",
       "\n",
       "    .dataframe thead th {\n",
       "        text-align: right;\n",
       "    }\n",
       "</style>\n",
       "<table border=\"1\" class=\"dataframe\">\n",
       "  <thead>\n",
       "    <tr style=\"text-align: right;\">\n",
       "      <th></th>\n",
       "      <th>ID</th>\n",
       "      <th>App Category</th>\n",
       "      <th>Grouped Category</th>\n",
       "    </tr>\n",
       "  </thead>\n",
       "  <tbody>\n",
       "    <tr>\n",
       "      <th>0</th>\n",
       "      <td>1.0</td>\n",
       "      <td>Music &amp; Audio</td>\n",
       "      <td>Entertainment &amp; Music</td>\n",
       "    </tr>\n",
       "    <tr>\n",
       "      <th>1</th>\n",
       "      <td>2.0</td>\n",
       "      <td>Productivity</td>\n",
       "      <td>Utilities</td>\n",
       "    </tr>\n",
       "    <tr>\n",
       "      <th>2</th>\n",
       "      <td>3.0</td>\n",
       "      <td>Shopping</td>\n",
       "      <td>Shopping</td>\n",
       "    </tr>\n",
       "    <tr>\n",
       "      <th>3</th>\n",
       "      <td>4.0</td>\n",
       "      <td>Game</td>\n",
       "      <td>Games &amp; Comics</td>\n",
       "    </tr>\n",
       "    <tr>\n",
       "      <th>4</th>\n",
       "      <td>5.0</td>\n",
       "      <td>Comics</td>\n",
       "      <td>Games &amp; Comics</td>\n",
       "    </tr>\n",
       "  </tbody>\n",
       "</table>\n",
       "</div>"
      ],
      "text/plain": [
       "    ID   App Category       Grouped Category\n",
       "0  1.0  Music & Audio  Entertainment & Music\n",
       "1  2.0   Productivity              Utilities\n",
       "2  3.0       Shopping               Shopping\n",
       "3  4.0           Game         Games & Comics\n",
       "4  5.0         Comics         Games & Comics"
      ]
     },
     "execution_count": 58,
     "metadata": {},
     "output_type": "execute_result"
    }
   ],
   "source": [
    "group.head()"
   ]
  },
  {
   "cell_type": "code",
   "execution_count": 5,
   "metadata": {
    "ExecuteTime": {
     "end_time": "2020-01-23T03:32:10.930766Z",
     "start_time": "2020-01-23T03:32:10.473385Z"
    }
   },
   "outputs": [],
   "source": [
    "import requests\n",
    "from bs4 import BeautifulSoup\n",
    "from urllib.request import urlopen\n",
    "from urllib.request import HTTPError\n",
    "\n",
    "import os\n",
    "import pandas as pd\n",
    "import numpy as np\n",
    "from pandas import DataFrame as df\n",
    "from datetime import date, time, datetime, timedelta\n",
    "\n"
   ]
  },
  {
   "cell_type": "code",
   "execution_count": 62,
   "metadata": {
    "ExecuteTime": {
     "end_time": "2020-01-23T05:44:50.474801Z",
     "start_time": "2020-01-23T05:44:50.464769Z"
    }
   },
   "outputs": [
    {
     "data": {
      "text/html": [
       "<div>\n",
       "<style scoped>\n",
       "    .dataframe tbody tr th:only-of-type {\n",
       "        vertical-align: middle;\n",
       "    }\n",
       "\n",
       "    .dataframe tbody tr th {\n",
       "        vertical-align: top;\n",
       "    }\n",
       "\n",
       "    .dataframe thead th {\n",
       "        text-align: right;\n",
       "    }\n",
       "</style>\n",
       "<table border=\"1\" class=\"dataframe\">\n",
       "  <thead>\n",
       "    <tr style=\"text-align: right;\">\n",
       "      <th></th>\n",
       "      <th>ID</th>\n",
       "      <th>App Category</th>\n",
       "      <th>Grouped Category</th>\n",
       "    </tr>\n",
       "  </thead>\n",
       "  <tbody>\n",
       "    <tr>\n",
       "      <th>0</th>\n",
       "      <td>1.0</td>\n",
       "      <td>Music &amp; Audio</td>\n",
       "      <td>Entertainment &amp; Music</td>\n",
       "    </tr>\n",
       "    <tr>\n",
       "      <th>1</th>\n",
       "      <td>2.0</td>\n",
       "      <td>Productivity</td>\n",
       "      <td>Utilities</td>\n",
       "    </tr>\n",
       "    <tr>\n",
       "      <th>2</th>\n",
       "      <td>3.0</td>\n",
       "      <td>Shopping</td>\n",
       "      <td>Shopping</td>\n",
       "    </tr>\n",
       "    <tr>\n",
       "      <th>3</th>\n",
       "      <td>4.0</td>\n",
       "      <td>Game</td>\n",
       "      <td>Games &amp; Comics</td>\n",
       "    </tr>\n",
       "    <tr>\n",
       "      <th>4</th>\n",
       "      <td>5.0</td>\n",
       "      <td>Comics</td>\n",
       "      <td>Games &amp; Comics</td>\n",
       "    </tr>\n",
       "  </tbody>\n",
       "</table>\n",
       "</div>"
      ],
      "text/plain": [
       "    ID   App Category       Grouped Category\n",
       "0  1.0  Music & Audio  Entertainment & Music\n",
       "1  2.0   Productivity              Utilities\n",
       "2  3.0       Shopping               Shopping\n",
       "3  4.0           Game         Games & Comics\n",
       "4  5.0         Comics         Games & Comics"
      ]
     },
     "execution_count": 62,
     "metadata": {},
     "output_type": "execute_result"
    }
   ],
   "source": []
  },
  {
   "cell_type": "code",
   "execution_count": 68,
   "metadata": {
    "ExecuteTime": {
     "end_time": "2020-01-23T05:48:25.296956Z",
     "start_time": "2020-01-23T05:48:25.288569Z"
    }
   },
   "outputs": [],
   "source": [
    "def getGoogleCategory(App):\n",
    "    cat_list = pd.read_csv('Cat_group.csv') #grouped category list\n",
    "    cat_list.head()\n",
    "\n",
    "    url = \"https://play.google.com/store/apps/details?id=\"+App\n",
    "    google_Category = \"\"\n",
    "    grouped_Category = \"\"\n",
    "    try:\n",
    "        html = urlopen(url)\n",
    "\n",
    "    except HTTPError as e:\n",
    "\n",
    "        google_Category = 'Unknown or Background'\n",
    "        grouped_Category = 'Unknown or Background'\n",
    "        \n",
    "    else:\n",
    "        source = html.read()\n",
    "        html.close() \n",
    "\n",
    "        soup = BeautifulSoup(source,'html.parser')\n",
    "        table=soup.find_all(\"a\",{'itemprop':'genre'})\n",
    "        name=soup.find_all(\"h1\",{'itemprop':'name'})\n",
    "\n",
    "        if(len(table)==0):\n",
    "            google_Category = 'Unknown or Background'\n",
    "\n",
    "        genre=table[0].get_text()\n",
    "        appName = name[0].get_text()\n",
    "        \n",
    "        google_Category = genre\n",
    "        \n",
    "        grouped = cat_list[cat_list['App Category'] == genre]['Grouped Category'].values\n",
    "        print(grouped)\n",
    "        \n",
    "        if len(grouped)>0:\n",
    "            grouped_Category = grouped[0]\n",
    "        else:\n",
    "            grouped_Category = 'NotMapped'\n",
    "\n",
    "        print(appName, \"/ google: \", google_Category, \"/category: \", grouped_Category)\n",
    "\n",
    "getGoogleCategory('com.no.color')"
   ]
  },
  {
   "cell_type": "code",
   "execution_count": 69,
   "metadata": {
    "ExecuteTime": {
     "end_time": "2020-01-23T05:48:32.387998Z",
     "start_time": "2020-01-23T05:48:25.447809Z"
    }
   },
   "outputs": [
    {
     "name": "stdout",
     "output_type": "stream",
     "text": [
      "['Entertainment & Music']\n",
      "No.Pix - Color by Number, Pixel Art Coloring Book / google:  Entertainment category:  Entertainment & Music\n"
     ]
    }
   ],
   "source": [
    "getGoogleCategory('com.no.color')"
   ]
  },
  {
   "cell_type": "code",
   "execution_count": null,
   "metadata": {},
   "outputs": [],
   "source": []
  }
 ],
 "metadata": {
  "kernelspec": {
   "display_name": "Python 3",
   "language": "python",
   "name": "python3"
  },
  "language_info": {
   "codemirror_mode": {
    "name": "ipython",
    "version": 3
   },
   "file_extension": ".py",
   "mimetype": "text/x-python",
   "name": "python",
   "nbconvert_exporter": "python",
   "pygments_lexer": "ipython3",
   "version": "3.6.10"
  },
  "toc": {
   "base_numbering": 1,
   "nav_menu": {},
   "number_sections": true,
   "sideBar": true,
   "skip_h1_title": false,
   "title_cell": "Table of Contents",
   "title_sidebar": "Contents",
   "toc_cell": false,
   "toc_position": {},
   "toc_section_display": true,
   "toc_window_display": false
  },
  "varInspector": {
   "cols": {
    "lenName": 16,
    "lenType": 16,
    "lenVar": 40
   },
   "kernels_config": {
    "python": {
     "delete_cmd_postfix": "",
     "delete_cmd_prefix": "del ",
     "library": "var_list.py",
     "varRefreshCmd": "print(var_dic_list())"
    },
    "r": {
     "delete_cmd_postfix": ") ",
     "delete_cmd_prefix": "rm(",
     "library": "var_list.r",
     "varRefreshCmd": "cat(var_dic_list()) "
    }
   },
   "types_to_exclude": [
    "module",
    "function",
    "builtin_function_or_method",
    "instance",
    "_Feature"
   ],
   "window_display": false
  }
 },
 "nbformat": 4,
 "nbformat_minor": 2
}
