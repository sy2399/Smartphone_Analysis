{
 "cells": [
  {
   "cell_type": "code",
   "execution_count": 2,
   "metadata": {
    "ExecuteTime": {
     "end_time": "2020-01-16T01:58:43.864922Z",
     "start_time": "2020-01-16T01:58:42.699031Z"
    }
   },
   "outputs": [],
   "source": [
    "%matplotlib inline\n",
    "import matplotlib.pyplot as plt\n",
    "import seaborn as sns; sns.set()\n",
    "import numpy as np\n",
    "import pandas as pd"
   ]
  },
  {
   "cell_type": "code",
   "execution_count": 2,
   "metadata": {
    "collapsed": true
   },
   "outputs": [],
   "source": [
    "# Generate some data\n",
    "from sklearn.datasets.samples_generator import make_blobs\n",
    "X, y_true = make_blobs(n_samples=400, centers=4,\n",
    "                       cluster_std=0.60, random_state=0)\n",
    "X = X[:, ::-1] # flip axes for better plotting"
   ]
  },
  {
   "cell_type": "code",
   "execution_count": 1,
   "metadata": {
    "ExecuteTime": {
     "end_time": "2020-03-30T06:35:56.482816Z",
     "start_time": "2020-03-30T06:35:56.480477Z"
    }
   },
   "outputs": [],
   "source": [
    "# locs_1 = pd.read_csv(\"../Data/Loc_Sample/GPS_20946596.csv\")\n",
    "\n",
    "# locs_2 = pd.read_csv(\"../Data/Loc_Sample/GPS_28878128.csv\")\n",
    "\n",
    "# locs_3 = pd.read_csv(\"../Data/Loc_Sample/GPS_89242282.csv\")\n",
    "\n",
    "# locs_4 = pd.read_csv(\"../Data/Loc_Sample/GPS_95983626.csv\")\n"
   ]
  },
  {
   "cell_type": "code",
   "execution_count": 6,
   "metadata": {},
   "outputs": [
    {
     "data": {
      "text/html": [
       "<div>\n",
       "<style scoped>\n",
       "    .dataframe tbody tr th:only-of-type {\n",
       "        vertical-align: middle;\n",
       "    }\n",
       "\n",
       "    .dataframe tbody tr th {\n",
       "        vertical-align: top;\n",
       "    }\n",
       "\n",
       "    .dataframe thead th {\n",
       "        text-align: right;\n",
       "    }\n",
       "</style>\n",
       "<table border=\"1\" class=\"dataframe\">\n",
       "  <thead>\n",
       "    <tr style=\"text-align: right;\">\n",
       "      <th></th>\n",
       "      <th>timestamp</th>\n",
       "      <th>latitude</th>\n",
       "      <th>longitude</th>\n",
       "    </tr>\n",
       "  </thead>\n",
       "  <tbody>\n",
       "    <tr>\n",
       "      <th>0</th>\n",
       "      <td>2017.09.05_17.36.27</td>\n",
       "      <td>36.367136</td>\n",
       "      <td>127.364432</td>\n",
       "    </tr>\n",
       "    <tr>\n",
       "      <th>1</th>\n",
       "      <td>2017.09.05_17.36.40</td>\n",
       "      <td>36.367136</td>\n",
       "      <td>127.364432</td>\n",
       "    </tr>\n",
       "    <tr>\n",
       "      <th>2</th>\n",
       "      <td>2017.09.05_17.37.11</td>\n",
       "      <td>36.367153</td>\n",
       "      <td>127.364536</td>\n",
       "    </tr>\n",
       "    <tr>\n",
       "      <th>3</th>\n",
       "      <td>2017.09.05_17.38.09</td>\n",
       "      <td>36.367153</td>\n",
       "      <td>127.364536</td>\n",
       "    </tr>\n",
       "    <tr>\n",
       "      <th>4</th>\n",
       "      <td>2017.09.05_17.39.17</td>\n",
       "      <td>36.367153</td>\n",
       "      <td>127.364536</td>\n",
       "    </tr>\n",
       "  </tbody>\n",
       "</table>\n",
       "</div>"
      ],
      "text/plain": [
       "              timestamp   latitude   longitude\n",
       "0   2017.09.05_17.36.27  36.367136  127.364432\n",
       "1   2017.09.05_17.36.40  36.367136  127.364432\n",
       "2   2017.09.05_17.37.11  36.367153  127.364536\n",
       "3   2017.09.05_17.38.09  36.367153  127.364536\n",
       "4   2017.09.05_17.39.17  36.367153  127.364536"
      ]
     },
     "execution_count": 6,
     "metadata": {},
     "output_type": "execute_result"
    }
   ],
   "source": [
    "locs.head()"
   ]
  },
  {
   "cell_type": "code",
   "execution_count": 7,
   "metadata": {
    "collapsed": true
   },
   "outputs": [],
   "source": [
    "#locs[' latitude']"
   ]
  },
  {
   "cell_type": "code",
   "execution_count": 8,
   "metadata": {
    "collapsed": true
   },
   "outputs": [],
   "source": [
    "#locs[' longitude']"
   ]
  },
  {
   "cell_type": "code",
   "execution_count": 9,
   "metadata": {
    "collapsed": true
   },
   "outputs": [],
   "source": [
    "loc_array = locs[['timestamp', ' latitude',' longitude']]"
   ]
  },
  {
   "cell_type": "code",
   "execution_count": 10,
   "metadata": {},
   "outputs": [
    {
     "data": {
      "text/html": [
       "<div>\n",
       "<style scoped>\n",
       "    .dataframe tbody tr th:only-of-type {\n",
       "        vertical-align: middle;\n",
       "    }\n",
       "\n",
       "    .dataframe tbody tr th {\n",
       "        vertical-align: top;\n",
       "    }\n",
       "\n",
       "    .dataframe thead th {\n",
       "        text-align: right;\n",
       "    }\n",
       "</style>\n",
       "<table border=\"1\" class=\"dataframe\">\n",
       "  <thead>\n",
       "    <tr style=\"text-align: right;\">\n",
       "      <th></th>\n",
       "      <th>timestamp</th>\n",
       "      <th>latitude</th>\n",
       "      <th>longitude</th>\n",
       "    </tr>\n",
       "  </thead>\n",
       "  <tbody>\n",
       "    <tr>\n",
       "      <th>0</th>\n",
       "      <td>2017.09.05_17.36.27</td>\n",
       "      <td>36.367136</td>\n",
       "      <td>127.364432</td>\n",
       "    </tr>\n",
       "    <tr>\n",
       "      <th>1</th>\n",
       "      <td>2017.09.05_17.36.40</td>\n",
       "      <td>36.367136</td>\n",
       "      <td>127.364432</td>\n",
       "    </tr>\n",
       "    <tr>\n",
       "      <th>2</th>\n",
       "      <td>2017.09.05_17.37.11</td>\n",
       "      <td>36.367153</td>\n",
       "      <td>127.364536</td>\n",
       "    </tr>\n",
       "    <tr>\n",
       "      <th>3</th>\n",
       "      <td>2017.09.05_17.38.09</td>\n",
       "      <td>36.367153</td>\n",
       "      <td>127.364536</td>\n",
       "    </tr>\n",
       "    <tr>\n",
       "      <th>4</th>\n",
       "      <td>2017.09.05_17.39.17</td>\n",
       "      <td>36.367153</td>\n",
       "      <td>127.364536</td>\n",
       "    </tr>\n",
       "  </tbody>\n",
       "</table>\n",
       "</div>"
      ],
      "text/plain": [
       "              timestamp   latitude   longitude\n",
       "0   2017.09.05_17.36.27  36.367136  127.364432\n",
       "1   2017.09.05_17.36.40  36.367136  127.364432\n",
       "2   2017.09.05_17.37.11  36.367153  127.364536\n",
       "3   2017.09.05_17.38.09  36.367153  127.364536\n",
       "4   2017.09.05_17.39.17  36.367153  127.364536"
      ]
     },
     "execution_count": 10,
     "metadata": {},
     "output_type": "execute_result"
    }
   ],
   "source": [
    "loc_array.head()"
   ]
  },
  {
   "cell_type": "code",
   "execution_count": 11,
   "metadata": {},
   "outputs": [
    {
     "data": {
      "text/plain": [
       "<function matplotlib.pyplot.show>"
      ]
     },
     "execution_count": 11,
     "metadata": {},
     "output_type": "execute_result"
    },
    {
     "data": {
      "image/png": "[encoded data removed]",
      "text/plain": [
       "<matplotlib.figure.Figure at 0x16e1a05ae48>"
      ]
     },
     "metadata": {},
     "output_type": "display_data"
    }
   ],
   "source": [
    "sns.lmplot(' latitude', ' longitude', data = loc_array, fit_reg = False, scatter_kws = {'s':100})\n",
    "plt.title('k-mean plot')\n",
    "plt.xlabel('latitude')\n",
    "plt.ylabel('longitude')\n",
    "plt.show"
   ]
  },
  {
   "cell_type": "markdown",
   "metadata": {},
   "source": [
    "#### K-mean clustering"
   ]
  },
  {
   "cell_type": "code",
   "execution_count": 16,
   "metadata": {
    "collapsed": true
   },
   "outputs": [],
   "source": [
    "from sklearn.cluster import KMeans"
   ]
  },
  {
   "cell_type": "code",
   "execution_count": 17,
   "metadata": {
    "collapsed": true
   },
   "outputs": [],
   "source": [
    "data_points = loc_array[[' latitude',' longitude']].values"
   ]
  },
  {
   "cell_type": "code",
   "execution_count": 18,
   "metadata": {},
   "outputs": [
    {
     "data": {
      "text/plain": [
       "array([[ 36.3671361, 127.3644319],\n",
       "       [ 36.3671361, 127.3644319],\n",
       "       [ 36.3671528, 127.3645363],\n",
       "       ...,\n",
       "       [ 35.2691449, 128.8665492],\n",
       "       [ 35.268824 , 128.8654108],\n",
       "       [ 35.268789 , 128.8654258]])"
      ]
     },
     "execution_count": 18,
     "metadata": {},
     "output_type": "execute_result"
    }
   ],
   "source": [
    "data_points"
   ]
  },
  {
   "cell_type": "code",
   "execution_count": 19,
   "metadata": {},
   "outputs": [],
   "source": [
    "kmeans = KMeans(n_clusters=4).fit(data_points)"
   ]
  },
  {
   "cell_type": "code",
   "execution_count": 20,
   "metadata": {},
   "outputs": [
    {
     "data": {
      "text/plain": [
       "array([0, 0, 0, ..., 1, 1, 1])"
      ]
     },
     "execution_count": 20,
     "metadata": {},
     "output_type": "execute_result"
    }
   ],
   "source": [
    "kmeans.labels_"
   ]
  },
  {
   "cell_type": "code",
   "execution_count": 21,
   "metadata": {},
   "outputs": [
    {
     "data": {
      "text/plain": [
       "array([[ 36.37488027, 127.3702027 ],\n",
       "       [ 35.35145068, 128.74607091],\n",
       "       [ 36.00460498, 128.23693906],\n",
       "       [ 37.07615939, 127.59428951]])"
      ]
     },
     "execution_count": 21,
     "metadata": {},
     "output_type": "execute_result"
    }
   ],
   "source": [
    "kmeans.cluster_centers_"
   ]
  },
  {
   "cell_type": "code",
   "execution_count": 22,
   "metadata": {
    "collapsed": true
   },
   "outputs": [],
   "source": [
    "loc_array['cluster_id'] = kmeans.labels_"
   ]
  },
  {
   "cell_type": "code",
   "execution_count": 23,
   "metadata": {},
   "outputs": [
    {
     "data": {
      "text/html": [
       "<div>\n",
       "<style scoped>\n",
       "    .dataframe tbody tr th:only-of-type {\n",
       "        vertical-align: middle;\n",
       "    }\n",
       "\n",
       "    .dataframe tbody tr th {\n",
       "        vertical-align: top;\n",
       "    }\n",
       "\n",
       "    .dataframe thead th {\n",
       "        text-align: right;\n",
       "    }\n",
       "</style>\n",
       "<table border=\"1\" class=\"dataframe\">\n",
       "  <thead>\n",
       "    <tr style=\"text-align: right;\">\n",
       "      <th></th>\n",
       "      <th>timestamp</th>\n",
       "      <th>latitude</th>\n",
       "      <th>longitude</th>\n",
       "      <th>cluster_id</th>\n",
       "    </tr>\n",
       "  </thead>\n",
       "  <tbody>\n",
       "    <tr>\n",
       "      <th>0</th>\n",
       "      <td>2017.09.05_17.36.27</td>\n",
       "      <td>36.367136</td>\n",
       "      <td>127.364432</td>\n",
       "      <td>0</td>\n",
       "    </tr>\n",
       "    <tr>\n",
       "      <th>1</th>\n",
       "      <td>2017.09.05_17.36.40</td>\n",
       "      <td>36.367136</td>\n",
       "      <td>127.364432</td>\n",
       "      <td>0</td>\n",
       "    </tr>\n",
       "    <tr>\n",
       "      <th>2</th>\n",
       "      <td>2017.09.05_17.37.11</td>\n",
       "      <td>36.367153</td>\n",
       "      <td>127.364536</td>\n",
       "      <td>0</td>\n",
       "    </tr>\n",
       "    <tr>\n",
       "      <th>3</th>\n",
       "      <td>2017.09.05_17.38.09</td>\n",
       "      <td>36.367153</td>\n",
       "      <td>127.364536</td>\n",
       "      <td>0</td>\n",
       "    </tr>\n",
       "    <tr>\n",
       "      <th>4</th>\n",
       "      <td>2017.09.05_17.39.17</td>\n",
       "      <td>36.367153</td>\n",
       "      <td>127.364536</td>\n",
       "      <td>0</td>\n",
       "    </tr>\n",
       "  </tbody>\n",
       "</table>\n",
       "</div>"
      ],
      "text/plain": [
       "              timestamp   latitude   longitude  cluster_id\n",
       "0   2017.09.05_17.36.27  36.367136  127.364432           0\n",
       "1   2017.09.05_17.36.40  36.367136  127.364432           0\n",
       "2   2017.09.05_17.37.11  36.367153  127.364536           0\n",
       "3   2017.09.05_17.38.09  36.367153  127.364536           0\n",
       "4   2017.09.05_17.39.17  36.367153  127.364536           0"
      ]
     },
     "execution_count": 23,
     "metadata": {},
     "output_type": "execute_result"
    }
   ],
   "source": [
    "loc_array.head()"
   ]
  },
  {
   "cell_type": "code",
   "execution_count": 24,
   "metadata": {},
   "outputs": [
    {
     "data": {
      "text/plain": [
       "<matplotlib.text.Text at 0x16e1b3e4550>"
      ]
     },
     "execution_count": 24,
     "metadata": {},
     "output_type": "execute_result"
    },
    {
     "data": {
      "image/png": "[encoded data removed]",
      "text/plain": [
       "<matplotlib.figure.Figure at 0x16e1b322550>"
      ]
     },
     "metadata": {},
     "output_type": "display_data"
    }
   ],
   "source": [
    "sns.lmplot(' latitude', ' longitude', data = loc_array, fit_reg = False, scatter_kws={'s':100}, hue='cluster_id')\n",
    "plt.title('Kmeans clustering')"
   ]
  },
  {
   "cell_type": "code",
   "execution_count": 25,
   "metadata": {
    "collapsed": true
   },
   "outputs": [],
   "source": [
    "from sklearn.cluster import KMeans\n",
    "from scipy.spatial.distance import cdist\n",
    "\n",
    "def plot_kmeans(kmeans, X, n_clusters=4, rseed=0, ax=None):\n",
    "    labels = kmeans.fit_predict(X)\n",
    "\n",
    "    # plot the input data\n",
    "    ax = ax or plt.gca()\n",
    "    ax.axis('equal')\n",
    "    ax.scatter(X[:, 0], X[:, 1], c=labels, s=40, cmap='viridis', zorder=2)\n",
    "\n",
    "    # plot the representation of the KMeans model\n",
    "    centers = kmeans.cluster_centers_\n",
    "    radii = [cdist(X[labels == i], [center]).max()\n",
    "             for i, center in enumerate(centers)]\n",
    "    for c, r in zip(centers, radii):\n",
    "        ax.add_patch(plt.Circle(c, r, fc='#CCCCCC', lw=3, alpha=0.5, zorder=1))"
   ]
  },
  {
   "cell_type": "code",
   "execution_count": 26,
   "metadata": {},
   "outputs": [
    {
     "data": {
      "image/png": "[encoded data removed]",
      "text/plain": [
       "<matplotlib.figure.Figure at 0x16e1f8926a0>"
      ]
     },
     "metadata": {},
     "output_type": "display_data"
    }
   ],
   "source": [
    "plot_kmeans(kmeans, data_points)"
   ]
  },
  {
   "cell_type": "code",
   "execution_count": 27,
   "metadata": {},
   "outputs": [
    {
     "data": {
      "image/png": "[encoded data removed]",
      "text/plain": [
       "<matplotlib.figure.Figure at 0x16e1ad7f048>"
      ]
     },
     "metadata": {},
     "output_type": "display_data"
    }
   ],
   "source": [
    "rng = np.random.RandomState(13)\n",
    "X_stretched = np.dot(data_points, rng.randn(2, 2))\n",
    "\n",
    "kmeans = KMeans(n_clusters=4, random_state=0)\n",
    "plot_kmeans(kmeans, X_stretched)"
   ]
  },
  {
   "cell_type": "markdown",
   "metadata": {},
   "source": [
    "#### GMM"
   ]
  },
  {
   "cell_type": "code",
   "execution_count": 28,
   "metadata": {
    "collapsed": true
   },
   "outputs": [],
   "source": [
    "from sklearn.mixture import GaussianMixture"
   ]
  },
  {
   "cell_type": "code",
   "execution_count": 29,
   "metadata": {
    "collapsed": true
   },
   "outputs": [],
   "source": [
    "gmm = GaussianMixture(n_components=4).fit(data_points)\n",
    "labels = gmm.predict(data_points)\n"
   ]
  },
  {
   "cell_type": "code",
   "execution_count": 30,
   "metadata": {
    "collapsed": true
   },
   "outputs": [],
   "source": [
    "loc_array['cluster_id'] = labels"
   ]
  },
  {
   "cell_type": "code",
   "execution_count": 31,
   "metadata": {},
   "outputs": [
    {
     "data": {
      "text/plain": [
       "<matplotlib.text.Text at 0x16e1bf708d0>"
      ]
     },
     "execution_count": 31,
     "metadata": {},
     "output_type": "execute_result"
    },
    {
     "data": {
      "image/png": "[encoded data removed]",
      "text/plain": [
       "<matplotlib.figure.Figure at 0x16e1bed06d8>"
      ]
     },
     "metadata": {},
     "output_type": "display_data"
    }
   ],
   "source": [
    "sns.lmplot(' latitude', ' longitude', data = loc_array, fit_reg = False, scatter_kws={'s':100}, hue='cluster_id')\n",
    "plt.title('GMM clustering')"
   ]
  },
  {
   "cell_type": "code",
   "execution_count": 64,
   "metadata": {},
   "outputs": [
    {
     "name": "stdout",
     "output_type": "stream",
     "text": [
      "[[1. 0. 0. 0.]\n",
      " [1. 0. 0. 0.]\n",
      " [1. 0. 0. 0.]\n",
      " [1. 0. 0. 0.]\n",
      " [1. 0. 0. 0.]]\n"
     ]
    }
   ],
   "source": [
    "probs = gmm.predict_proba(data_points)\n",
    "print(probs[:5].round(3))"
   ]
  },
  {
   "cell_type": "code",
   "execution_count": 32,
   "metadata": {
    "collapsed": true
   },
   "outputs": [],
   "source": [
    "from matplotlib.patches import Ellipse\n",
    "\n",
    "def draw_ellipse(position, covariance, ax=None, **kwargs):\n",
    "    \"\"\"Draw an ellipse with a given position and covariance\"\"\"\n",
    "    ax = ax or plt.gca()\n",
    "    \n",
    "    # Convert covariance to principal axes\n",
    "    if covariance.shape == (2, 2):\n",
    "        U, s, Vt = np.linalg.svd(covariance)\n",
    "        angle = np.degrees(np.arctan2(U[1, 0], U[0, 0]))\n",
    "        width, height = 2 * np.sqrt(s)\n",
    "    else:\n",
    "        angle = 0\n",
    "        width, height = 2 * np.sqrt(covariance)\n",
    "    \n",
    "    # Draw the Ellipse\n",
    "    for nsig in range(1, 4):\n",
    "        ax.add_patch(Ellipse(position, nsig * width, nsig * height,\n",
    "                             angle, **kwargs))\n",
    "        \n",
    "def plot_gmm(gmm, X, label=True, ax=None):\n",
    "    ax = ax or plt.gca()\n",
    "    labels = gmm.fit(X).predict(X)\n",
    "    if label:\n",
    "        ax.scatter(X[:, 0], X[:, 1], c=labels, s=40, cmap='viridis', zorder=2)\n",
    "    else:\n",
    "        ax.scatter(X[:, 0], X[:, 1], s=40, zorder=2)\n",
    "    ax.axis('equal')\n",
    "    \n",
    "    w_factor = 0.2 / gmm.weights_.max()\n",
    "    for pos, covar, w in zip(gmm.means_, gmm.covariances_, gmm.weights_):\n",
    "        draw_ellipse(pos, covar, alpha=w * w_factor)"
   ]
  },
  {
   "cell_type": "code",
   "execution_count": 33,
   "metadata": {
    "scrolled": true
   },
   "outputs": [
    {
     "data": {
      "image/png": "[encoded data removed]",
      "text/plain": [
       "<matplotlib.figure.Figure at 0x16e1f73ce80>"
      ]
     },
     "metadata": {},
     "output_type": "display_data"
    }
   ],
   "source": [
    "gmm = GaussianMixture(n_components=4, covariance_type='diag',random_state=42)\n",
    "plot_gmm(gmm, data_points)"
   ]
  },
  {
   "cell_type": "code",
   "execution_count": 34,
   "metadata": {},
   "outputs": [
    {
     "data": {
      "image/png": "[encoded data removed]",
      "text/plain": [
       "<matplotlib.figure.Figure at 0x16e1e562400>"
      ]
     },
     "metadata": {},
     "output_type": "display_data"
    }
   ],
   "source": [
    "gmm = GaussianMixture(n_components=4, covariance_type='full', random_state=42)\n",
    "plot_gmm(gmm, X_stretched)\n",
    "\n"
   ]
  },
  {
   "cell_type": "code",
   "execution_count": null,
   "metadata": {
    "collapsed": true
   },
   "outputs": [],
   "source": []
  },
  {
   "cell_type": "code",
   "execution_count": null,
   "metadata": {
    "collapsed": true
   },
   "outputs": [],
   "source": []
  },
  {
   "cell_type": "markdown",
   "metadata": {},
   "source": [
    "#### GMM Location Labeling\n",
    "\n",
    "- Timestamp\n",
    "- latitude\n",
    "- longitude\n",
    "- cluster_id\n"
   ]
  },
  {
   "cell_type": "code",
   "execution_count": 2,
   "metadata": {
    "ExecuteTime": {
     "end_time": "2020-03-30T06:36:15.461106Z",
     "start_time": "2020-03-30T06:36:15.458749Z"
    }
   },
   "outputs": [],
   "source": [
    "# for user in uids:\n",
    "#     loc_df = pd.read_csv(\"../../\"+user+\"/GPS_\"+user+\".csv\")\n",
    "#     print(loc_df.shape)\n",
    "#     #GMM 의 input으로 사용하기 위해 데이터 변형\n",
    "#     loc_arr = loc_df[['timestamp', ' latitude',' longitude']]\n",
    "#     data_point = loc_arr[[' latitude',' longitude']].values\n",
    "    \n",
    "#     gmm = GaussianMixture(n_components=4).fit(data_point)\n",
    "#     loc_labels = gmm.predict(data_point)\n",
    "#     loc_arr['cluster_id'] = loc_labels\n",
    "    \n",
    "#     loc_arr.to_csv(\"../../\"+user+\"/GMM_\"+user+\".csv\")\n",
    "    \n",
    "#     sns.lmplot(' latitude', ' longitude', data = loc_arr, fit_reg = False, scatter_kws={'s':100}, hue='cluster_id')\n",
    "#     plt.title('GMM clustering')"
   ]
  },
  {
   "cell_type": "markdown",
   "metadata": {},
   "source": [
    "#### 초단위 Mapping"
   ]
  },
  {
   "cell_type": "code",
   "execution_count": 35,
   "metadata": {
    "collapsed": true
   },
   "outputs": [],
   "source": [
    "from datetime import datetime\n",
    "from datetime import timedelta\n",
    "from dateutil.parser import parse\n",
    "import math\n",
    "import dateutil\n",
    "from datetime import date, datetime, time, timedelta"
   ]
  },
  {
   "cell_type": "code",
   "execution_count": 36,
   "metadata": {
    "collapsed": true
   },
   "outputs": [],
   "source": [
    "gmm_labeled = pd.read_csv(\"../../20946596/GMM_20946596.csv\")\n",
    "#2017.09.05_17.36.27\n",
    "#yyyy.mm.dd_HH.MM.SS. \n",
    "gmm_labeled['timestamp'] = gmm_labeled['timestamp'].astype(str)\n",
    "gmm_labeled['timestamp'] = gmm_labeled['timestamp'].str.replace(\" \", \"\")\n",
    "gmm_labeled['timestamp'] = gmm_labeled['timestamp'].str.replace(\".\", \"\")\n",
    "gmm_labeled['timestamp'] = gmm_labeled['timestamp'].str.replace(\"_\", \"\")\n",
    "gmm_labeled['timestamp'] = pd.to_datetime(gmm_labeled['timestamp'] , format=\"%Y%m%d%H%M%S\")\n",
    "\n",
    "gmm_labeled.sort_values(by=['timestamp'], inplace=True, ascending = True)\n",
    "gmm_labeled['time_next'] = gmm_labeled['timestamp'].shift(-1)"
   ]
  },
  {
   "cell_type": "code",
   "execution_count": 37,
   "metadata": {},
   "outputs": [
    {
     "data": {
      "text/html": [
       "<div>\n",
       "<style scoped>\n",
       "    .dataframe tbody tr th:only-of-type {\n",
       "        vertical-align: middle;\n",
       "    }\n",
       "\n",
       "    .dataframe tbody tr th {\n",
       "        vertical-align: top;\n",
       "    }\n",
       "\n",
       "    .dataframe thead th {\n",
       "        text-align: right;\n",
       "    }\n",
       "</style>\n",
       "<table border=\"1\" class=\"dataframe\">\n",
       "  <thead>\n",
       "    <tr style=\"text-align: right;\">\n",
       "      <th></th>\n",
       "      <th>Unnamed: 0</th>\n",
       "      <th>timestamp</th>\n",
       "      <th>latitude</th>\n",
       "      <th>longitude</th>\n",
       "      <th>cluster_id</th>\n",
       "      <th>time_next</th>\n",
       "    </tr>\n",
       "  </thead>\n",
       "  <tbody>\n",
       "    <tr>\n",
       "      <th>0</th>\n",
       "      <td>0</td>\n",
       "      <td>2017-09-05 17:36:27</td>\n",
       "      <td>36.367136</td>\n",
       "      <td>127.364432</td>\n",
       "      <td>0</td>\n",
       "      <td>2017-09-05 17:36:40</td>\n",
       "    </tr>\n",
       "    <tr>\n",
       "      <th>1</th>\n",
       "      <td>1</td>\n",
       "      <td>2017-09-05 17:36:40</td>\n",
       "      <td>36.367136</td>\n",
       "      <td>127.364432</td>\n",
       "      <td>0</td>\n",
       "      <td>2017-09-05 17:37:11</td>\n",
       "    </tr>\n",
       "    <tr>\n",
       "      <th>2</th>\n",
       "      <td>2</td>\n",
       "      <td>2017-09-05 17:37:11</td>\n",
       "      <td>36.367153</td>\n",
       "      <td>127.364536</td>\n",
       "      <td>0</td>\n",
       "      <td>2017-09-05 17:38:09</td>\n",
       "    </tr>\n",
       "    <tr>\n",
       "      <th>3</th>\n",
       "      <td>3</td>\n",
       "      <td>2017-09-05 17:38:09</td>\n",
       "      <td>36.367153</td>\n",
       "      <td>127.364536</td>\n",
       "      <td>0</td>\n",
       "      <td>2017-09-05 17:39:17</td>\n",
       "    </tr>\n",
       "    <tr>\n",
       "      <th>4</th>\n",
       "      <td>4</td>\n",
       "      <td>2017-09-05 17:39:17</td>\n",
       "      <td>36.367153</td>\n",
       "      <td>127.364536</td>\n",
       "      <td>0</td>\n",
       "      <td>2017-09-05 17:39:47</td>\n",
       "    </tr>\n",
       "  </tbody>\n",
       "</table>\n",
       "</div>"
      ],
      "text/plain": [
       "   Unnamed: 0           timestamp   latitude   longitude  cluster_id  \\\n",
       "0           0 2017-09-05 17:36:27  36.367136  127.364432           0   \n",
       "1           1 2017-09-05 17:36:40  36.367136  127.364432           0   \n",
       "2           2 2017-09-05 17:37:11  36.367153  127.364536           0   \n",
       "3           3 2017-09-05 17:38:09  36.367153  127.364536           0   \n",
       "4           4 2017-09-05 17:39:17  36.367153  127.364536           0   \n",
       "\n",
       "            time_next  \n",
       "0 2017-09-05 17:36:40  \n",
       "1 2017-09-05 17:37:11  \n",
       "2 2017-09-05 17:38:09  \n",
       "3 2017-09-05 17:39:17  \n",
       "4 2017-09-05 17:39:47  "
      ]
     },
     "execution_count": 37,
     "metadata": {},
     "output_type": "execute_result"
    }
   ],
   "source": [
    "gmm_labeled.head()"
   ]
  },
  {
   "cell_type": "code",
   "execution_count": 38,
   "metadata": {},
   "outputs": [
    {
     "data": {
      "text/html": [
       "<div>\n",
       "<style scoped>\n",
       "    .dataframe tbody tr th:only-of-type {\n",
       "        vertical-align: middle;\n",
       "    }\n",
       "\n",
       "    .dataframe tbody tr th {\n",
       "        vertical-align: top;\n",
       "    }\n",
       "\n",
       "    .dataframe thead th {\n",
       "        text-align: right;\n",
       "    }\n",
       "</style>\n",
       "<table border=\"1\" class=\"dataframe\">\n",
       "  <thead>\n",
       "    <tr style=\"text-align: right;\">\n",
       "      <th></th>\n",
       "      <th>Unnamed: 0</th>\n",
       "      <th>timestamp</th>\n",
       "      <th>latitude</th>\n",
       "      <th>longitude</th>\n",
       "      <th>cluster_id</th>\n",
       "      <th>time_next</th>\n",
       "    </tr>\n",
       "  </thead>\n",
       "  <tbody>\n",
       "    <tr>\n",
       "      <th>220179</th>\n",
       "      <td>220179</td>\n",
       "      <td>2017-12-23 18:14:28</td>\n",
       "      <td>35.269145</td>\n",
       "      <td>128.866549</td>\n",
       "      <td>1</td>\n",
       "      <td>2017-12-23 18:16:28</td>\n",
       "    </tr>\n",
       "    <tr>\n",
       "      <th>220180</th>\n",
       "      <td>220180</td>\n",
       "      <td>2017-12-23 18:16:28</td>\n",
       "      <td>35.269145</td>\n",
       "      <td>128.866549</td>\n",
       "      <td>1</td>\n",
       "      <td>2017-12-23 18:18:28</td>\n",
       "    </tr>\n",
       "    <tr>\n",
       "      <th>220181</th>\n",
       "      <td>220181</td>\n",
       "      <td>2017-12-23 18:18:28</td>\n",
       "      <td>35.269145</td>\n",
       "      <td>128.866549</td>\n",
       "      <td>1</td>\n",
       "      <td>2017-12-23 18:20:25</td>\n",
       "    </tr>\n",
       "    <tr>\n",
       "      <th>220182</th>\n",
       "      <td>220182</td>\n",
       "      <td>2017-12-23 18:20:25</td>\n",
       "      <td>35.268824</td>\n",
       "      <td>128.865411</td>\n",
       "      <td>1</td>\n",
       "      <td>2017-12-23 18:22:31</td>\n",
       "    </tr>\n",
       "    <tr>\n",
       "      <th>220183</th>\n",
       "      <td>220183</td>\n",
       "      <td>2017-12-23 18:22:31</td>\n",
       "      <td>35.268789</td>\n",
       "      <td>128.865426</td>\n",
       "      <td>1</td>\n",
       "      <td>NaT</td>\n",
       "    </tr>\n",
       "  </tbody>\n",
       "</table>\n",
       "</div>"
      ],
      "text/plain": [
       "        Unnamed: 0           timestamp   latitude   longitude  cluster_id  \\\n",
       "220179      220179 2017-12-23 18:14:28  35.269145  128.866549           1   \n",
       "220180      220180 2017-12-23 18:16:28  35.269145  128.866549           1   \n",
       "220181      220181 2017-12-23 18:18:28  35.269145  128.866549           1   \n",
       "220182      220182 2017-12-23 18:20:25  35.268824  128.865411           1   \n",
       "220183      220183 2017-12-23 18:22:31  35.268789  128.865426           1   \n",
       "\n",
       "                 time_next  \n",
       "220179 2017-12-23 18:16:28  \n",
       "220180 2017-12-23 18:18:28  \n",
       "220181 2017-12-23 18:20:25  \n",
       "220182 2017-12-23 18:22:31  \n",
       "220183                 NaT  "
      ]
     },
     "execution_count": 38,
     "metadata": {},
     "output_type": "execute_result"
    }
   ],
   "source": [
    "gmm_labeled.tail()"
   ]
  },
  {
   "cell_type": "code",
   "execution_count": 63,
   "metadata": {
    "collapsed": true
   },
   "outputs": [],
   "source": [
    "import numpy as np    \n",
    "nat = np.datetime64('NaT')\n",
    "\n",
    "def nat_check(nat):\n",
    "    return nat == np.datetime64('NaT')    "
   ]
  },
  {
   "cell_type": "code",
   "execution_count": 103,
   "metadata": {
    "collapsed": true
   },
   "outputs": [],
   "source": [
    "from collections import Counter\n",
    "from operator import itemgetter\n",
    "\n",
    "def most_common(lst):\n",
    "    return max(set(lst), key=lst.count)\n",
    "\n",
    "def mapping_time_loc(df):\n",
    "        gmm_parse = pd.DataFrame()\n",
    "        \n",
    "        for index,row in df.iterrows():\n",
    "            df_stime = row['timestamp']\n",
    "            df_etime = row['time_next']\n",
    "\n",
    "            lat = row['latitude']\n",
    "            long = row['longitude']\n",
    "            cluster = row['cluster_id']\n",
    "            \n",
    "            if nat_check(df_etime) != True:                                                                                                                                                                                                                                                                                                                                                                                                                                                                                                                                                                                                                                                                                                                                                                                                                                                                                                                                                                                                                                                                                    \n",
    "            \n",
    "                while df_stime < df_etime:\n",
    "                    df_stime = df_stime + timedelta(seconds=1)\n",
    "                    \n",
    "                    gmm_parse.loc[(df_stime), (\"latitude\")] =  lat\n",
    "                    gmm_parse.loc[(df_stime), (\"longitude\")] =  long\n",
    "                    gmm_parse.loc[(df_stime), (\"timestamp\")] =  df_stime\n",
    "                    gmm_parse.loc[(df_stime), (\"cluster_id\")] =  cluster\n",
    "                \n",
    "        return gmm_parse"
   ]
  },
  {
   "cell_type": "code",
   "execution_count": 89,
   "metadata": {
    "collapsed": true
   },
   "outputs": [],
   "source": [
    "import timeit\n"
   ]
  },
  {
   "cell_type": "code",
   "execution_count": 104,
   "metadata": {},
   "outputs": [
    {
     "name": "stdout",
     "output_type": "stream",
     "text": [
      "Index(['Unnamed: 0', 'timestamp', ' latitude', ' longitude', 'cluster_id'], dtype='object')\n"
     ]
    }
   ],
   "source": [
    "gmm_labeled = pd.read_csv(\"../../\"+user+\"/GMM_\"+user+\".csv\")\n",
    "gmm_labeled.head()\n",
    "print(gmm_labeled.columns)"
   ]
  },
  {
   "cell_type": "code",
   "execution_count": 3,
   "metadata": {
    "ExecuteTime": {
     "end_time": "2020-03-30T06:36:28.674617Z",
     "start_time": "2020-03-30T06:36:28.671024Z"
    }
   },
   "outputs": [],
   "source": [
    "for user in uids:\n",
    "#     print(user)\n",
    "    start = timeit.default_timer()\n",
    "\n",
    "    gmm_labeled = pd.read_csv(\"../../\"+user+\"/GMM_\"+user+\".csv\")\n",
    "    \n",
    "    #gmm_labeled = gmm_labeled.head(2000)\n",
    "    gmm_labeled['timestamp'] = gmm_labeled['timestamp'].astype(str)\n",
    "    gmm_labeled['timestamp'] = gmm_labeled['timestamp'].str.replace(\" \", \"\")\n",
    "    gmm_labeled['timestamp'] = gmm_labeled['timestamp'].str.replace(\".\", \"\")\n",
    "    gmm_labeled['timestamp'] = gmm_labeled['timestamp'].str.replace(\"_\", \"\")\n",
    "    gmm_labeled['timestamp'] = pd.to_datetime(gmm_labeled['timestamp'] , format=\"%Y%m%d%H%M%S\")\n",
    "    \n",
    "    gmm_labeled.sort_values(by=['timestamp'], inplace=True, ascending = True)\n",
    "    gmm_labeled['time_next'] = gmm_labeled['timestamp'].shift(-1)\n",
    "    \n",
    "    a=[]\n",
    "    gmm_min=pd.DataFrame()\n",
    "\n",
    "    for index,row in gmm_labeled.iterrows():\n",
    "        print(\"***\",index ,\"***\")\n",
    "        if row['timestamp'] != row['time_next']:\n",
    "            \n",
    "            gmm_min.loc[(row['timestamp']), ('timestamp')]=row['timestamp']\n",
    "            gmm_min.loc[(row['timestamp']), ('latitude')]=row[' latitude']\n",
    "            gmm_min.loc[(row['timestamp']), ('longitude')]=row[' longitude']\n",
    "            gmm_min.loc[(row['timestamp']), ('cluster_id')]=row['cluster_id']\n",
    "\n",
    "        else:\n",
    "            a.append(str(row[' latitude'])+\" \"+str(row[' longitude'])+\" \"+str(row['cluster_id']))\n",
    "            infer = most_common(a)\n",
    "            print(infer)\n",
    "            a.clear()\n",
    "            \n",
    "            \n",
    "            infer_split = infer.split(\" \")\n",
    "            \n",
    "            gmm_min.loc[(row['timestamp']), ('timestamp')]=row['timestamp']\n",
    "            gmm_min.loc[(row['timestamp']), ('latitude')]=infer_split[0]\n",
    "            gmm_min.loc[(row['timestamp']), ('longitude')]= infer_split[1]\n",
    "            gmm_min.loc[(row['timestamp']), ('cluster_id')]=infer_split[2]\n",
    "\n",
    "    gmm_min=gmm_min.reset_index(drop=True)\n",
    "\n",
    "    gmm_min['time_next'] = gmm_min['timestamp'].shift(-1)\n",
    "    gmm_min = gmm_min.iloc[:-1]\n",
    "    \n",
    "    \n",
    "    \n",
    "    stop = timeit.default_timer()\n",
    "\n",
    "    print(stop - start)\n",
    "    print(\"*****\")\n",
    "    \n",
    "    mapping_start = timeit.default_timer()\n",
    "    \n",
    "    gmm_mapped = mapping_time_loc(gmm_min)\n",
    "    gmm_mapped.to_csv(\"../../\"+user+\"/GMM_Time_\"+user+\".csv\")\n",
    "    \n",
    "    mapping_stop = timeit.default_timer()\n",
    "\n",
    "    print(mapping_stop - mapping_start)\n",
    "    print(\"*****\")\n",
    "    \n",
    "    break"
   ]
  },
  {
   "cell_type": "markdown",
   "metadata": {},
   "source": [
    "#### 각 위치 군집별 total duration 시간"
   ]
  },
  {
   "cell_type": "code",
   "execution_count": 178,
   "metadata": {},
   "outputs": [],
   "source": [
    "user_id = \"20946596\"\n",
    "gmm_time = pd.read_csv(\"../../\"+user_id+\"/GMM_Time_\"+user_id+\".csv\")"
   ]
  },
  {
   "cell_type": "code",
   "execution_count": 179,
   "metadata": {
    "collapsed": true
   },
   "outputs": [
    {
     "data": {
      "text/plain": [
       "<bound method DataFrame.reset_index of                 Unnamed: 0   latitude   longitude            timestamp  \\\n",
       "0      2017-09-05 17:36:28  36.367136  127.364432  2017-09-05 17:36:28   \n",
       "1      2017-09-05 17:36:29  36.367136  127.364432  2017-09-05 17:36:29   \n",
       "2      2017-09-05 17:36:30  36.367136  127.364432  2017-09-05 17:36:30   \n",
       "3      2017-09-05 17:36:31  36.367136  127.364432  2017-09-05 17:36:31   \n",
       "4      2017-09-05 17:36:32  36.367136  127.364432  2017-09-05 17:36:32   \n",
       "5      2017-09-05 17:36:33  36.367136  127.364432  2017-09-05 17:36:33   \n",
       "6      2017-09-05 17:36:34  36.367136  127.364432  2017-09-05 17:36:34   \n",
       "7      2017-09-05 17:36:35  36.367136  127.364432  2017-09-05 17:36:35   \n",
       "8      2017-09-05 17:36:36  36.367136  127.364432  2017-09-05 17:36:36   \n",
       "9      2017-09-05 17:36:37  36.367136  127.364432  2017-09-05 17:36:37   \n",
       "10     2017-09-05 17:36:38  36.367136  127.364432  2017-09-05 17:36:38   \n",
       "11     2017-09-05 17:36:39  36.367136  127.364432  2017-09-05 17:36:39   \n",
       "12     2017-09-05 17:36:40  36.367136  127.364432  2017-09-05 17:36:40   \n",
       "13     2017-09-05 17:36:41  36.367136  127.364432  2017-09-05 17:36:41   \n",
       "14     2017-09-05 17:36:42  36.367136  127.364432  2017-09-05 17:36:42   \n",
       "15     2017-09-05 17:36:43  36.367136  127.364432  2017-09-05 17:36:43   \n",
       "16     2017-09-05 17:36:44  36.367136  127.364432  2017-09-05 17:36:44   \n",
       "17     2017-09-05 17:36:45  36.367136  127.364432  2017-09-05 17:36:45   \n",
       "18     2017-09-05 17:36:46  36.367136  127.364432  2017-09-05 17:36:46   \n",
       "19     2017-09-05 17:36:47  36.367136  127.364432  2017-09-05 17:36:47   \n",
       "20     2017-09-05 17:36:48  36.367136  127.364432  2017-09-05 17:36:48   \n",
       "21     2017-09-05 17:36:49  36.367136  127.364432  2017-09-05 17:36:49   \n",
       "22     2017-09-05 17:36:50  36.367136  127.364432  2017-09-05 17:36:50   \n",
       "23     2017-09-05 17:36:51  36.367136  127.364432  2017-09-05 17:36:51   \n",
       "24     2017-09-05 17:36:52  36.367136  127.364432  2017-09-05 17:36:52   \n",
       "25     2017-09-05 17:36:53  36.367136  127.364432  2017-09-05 17:36:53   \n",
       "26     2017-09-05 17:36:54  36.367136  127.364432  2017-09-05 17:36:54   \n",
       "27     2017-09-05 17:36:55  36.367136  127.364432  2017-09-05 17:36:55   \n",
       "28     2017-09-05 17:36:56  36.367136  127.364432  2017-09-05 17:36:56   \n",
       "29     2017-09-05 17:36:57  36.367136  127.364432  2017-09-05 17:36:57   \n",
       "...                    ...        ...         ...                  ...   \n",
       "74755  2017-09-06 14:22:23  36.369603  127.363117  2017-09-06 14:22:23   \n",
       "74756  2017-09-06 14:22:24  36.369603  127.363117  2017-09-06 14:22:24   \n",
       "74757  2017-09-06 14:22:25  36.369603  127.363117  2017-09-06 14:22:25   \n",
       "74758  2017-09-06 14:22:26  36.369603  127.363117  2017-09-06 14:22:26   \n",
       "74759  2017-09-06 14:22:27  36.369603  127.363117  2017-09-06 14:22:27   \n",
       "74760  2017-09-06 14:22:28  36.369656  127.363065  2017-09-06 14:22:28   \n",
       "74761  2017-09-06 14:22:29  36.369656  127.363065  2017-09-06 14:22:29   \n",
       "74762  2017-09-06 14:22:30  36.369656  127.363065  2017-09-06 14:22:30   \n",
       "74763  2017-09-06 14:22:31  36.369656  127.363065  2017-09-06 14:22:31   \n",
       "74764  2017-09-06 14:22:32  36.369656  127.363065  2017-09-06 14:22:32   \n",
       "74765  2017-09-06 14:22:33  36.369723  127.362991  2017-09-06 14:22:33   \n",
       "74766  2017-09-06 14:22:34  36.369723  127.362991  2017-09-06 14:22:34   \n",
       "74767  2017-09-06 14:22:35  36.369723  127.362991  2017-09-06 14:22:35   \n",
       "74768  2017-09-06 14:22:36  36.369723  127.362991  2017-09-06 14:22:36   \n",
       "74769  2017-09-06 14:22:37  36.369723  127.362991  2017-09-06 14:22:37   \n",
       "74770  2017-09-06 14:22:38  36.369781  127.362942  2017-09-06 14:22:38   \n",
       "74771  2017-09-06 14:22:39  36.369781  127.362942  2017-09-06 14:22:39   \n",
       "74772  2017-09-06 14:22:40  36.369781  127.362942  2017-09-06 14:22:40   \n",
       "74773  2017-09-06 14:22:41  36.369781  127.362942  2017-09-06 14:22:41   \n",
       "74774  2017-09-06 14:22:42  36.369781  127.362942  2017-09-06 14:22:42   \n",
       "74775  2017-09-06 14:22:43  36.369847  127.362909  2017-09-06 14:22:43   \n",
       "74776  2017-09-06 14:22:44  36.369847  127.362909  2017-09-06 14:22:44   \n",
       "74777  2017-09-06 14:22:45  36.369847  127.362909  2017-09-06 14:22:45   \n",
       "74778  2017-09-06 14:22:46  36.369847  127.362909  2017-09-06 14:22:46   \n",
       "74779  2017-09-06 14:22:47  36.369878  127.362867  2017-09-06 14:22:47   \n",
       "74780  2017-09-06 14:22:48  36.369878  127.362867  2017-09-06 14:22:48   \n",
       "74781  2017-09-06 14:22:49  36.369878  127.362867  2017-09-06 14:22:49   \n",
       "74782  2017-09-06 14:22:50  36.369878  127.362867  2017-09-06 14:22:50   \n",
       "74783  2017-09-06 14:22:51  36.369878  127.362867  2017-09-06 14:22:51   \n",
       "74784  2017-09-06 14:22:52  36.369878  127.362867  2017-09-06 14:22:52   \n",
       "\n",
       "       cluster_id  \n",
       "0             0.0  \n",
       "1             0.0  \n",
       "2             0.0  \n",
       "3             0.0  \n",
       "4             0.0  \n",
       "5             0.0  \n",
       "6             0.0  \n",
       "7             0.0  \n",
       "8             0.0  \n",
       "9             0.0  \n",
       "10            0.0  \n",
       "11            0.0  \n",
       "12            0.0  \n",
       "13            0.0  \n",
       "14            0.0  \n",
       "15            0.0  \n",
       "16            0.0  \n",
       "17            0.0  \n",
       "18            0.0  \n",
       "19            0.0  \n",
       "20            0.0  \n",
       "21            0.0  \n",
       "22            0.0  \n",
       "23            0.0  \n",
       "24            0.0  \n",
       "25            0.0  \n",
       "26            0.0  \n",
       "27            0.0  \n",
       "28            0.0  \n",
       "29            0.0  \n",
       "...           ...  \n",
       "74755         0.0  \n",
       "74756         0.0  \n",
       "74757         0.0  \n",
       "74758         0.0  \n",
       "74759         0.0  \n",
       "74760         0.0  \n",
       "74761         0.0  \n",
       "74762         0.0  \n",
       "74763         0.0  \n",
       "74764         0.0  \n",
       "74765         0.0  \n",
       "74766         0.0  \n",
       "74767         0.0  \n",
       "74768         0.0  \n",
       "74769         0.0  \n",
       "74770         0.0  \n",
       "74771         0.0  \n",
       "74772         0.0  \n",
       "74773         0.0  \n",
       "74774         0.0  \n",
       "74775         0.0  \n",
       "74776         0.0  \n",
       "74777         0.0  \n",
       "74778         0.0  \n",
       "74779         0.0  \n",
       "74780         0.0  \n",
       "74781         0.0  \n",
       "74782         0.0  \n",
       "74783         0.0  \n",
       "74784         0.0  \n",
       "\n",
       "[74785 rows x 5 columns]>"
      ]
     },
     "execution_count": 179,
     "metadata": {},
     "output_type": "execute_result"
    }
   ],
   "source": [
    "gmm_time.reset_index"
   ]
  },
  {
   "cell_type": "code",
   "execution_count": 182,
   "metadata": {},
   "outputs": [
    {
     "data": {
      "text/html": [
       "<div>\n",
       "<style scoped>\n",
       "    .dataframe tbody tr th:only-of-type {\n",
       "        vertical-align: middle;\n",
       "    }\n",
       "\n",
       "    .dataframe tbody tr th {\n",
       "        vertical-align: top;\n",
       "    }\n",
       "\n",
       "    .dataframe thead th {\n",
       "        text-align: right;\n",
       "    }\n",
       "</style>\n",
       "<table border=\"1\" class=\"dataframe\">\n",
       "  <thead>\n",
       "    <tr style=\"text-align: right;\">\n",
       "      <th></th>\n",
       "      <th>Unnamed: 0</th>\n",
       "      <th>latitude</th>\n",
       "      <th>longitude</th>\n",
       "      <th>timestamp</th>\n",
       "      <th>cluster_id</th>\n",
       "    </tr>\n",
       "  </thead>\n",
       "  <tbody>\n",
       "    <tr>\n",
       "      <th>74780</th>\n",
       "      <td>2017-09-06 14:22:48</td>\n",
       "      <td>36.369878</td>\n",
       "      <td>127.362867</td>\n",
       "      <td>2017-09-06 14:22:48</td>\n",
       "      <td>0.0</td>\n",
       "    </tr>\n",
       "    <tr>\n",
       "      <th>74781</th>\n",
       "      <td>2017-09-06 14:22:49</td>\n",
       "      <td>36.369878</td>\n",
       "      <td>127.362867</td>\n",
       "      <td>2017-09-06 14:22:49</td>\n",
       "      <td>0.0</td>\n",
       "    </tr>\n",
       "    <tr>\n",
       "      <th>74782</th>\n",
       "      <td>2017-09-06 14:22:50</td>\n",
       "      <td>36.369878</td>\n",
       "      <td>127.362867</td>\n",
       "      <td>2017-09-06 14:22:50</td>\n",
       "      <td>0.0</td>\n",
       "    </tr>\n",
       "    <tr>\n",
       "      <th>74783</th>\n",
       "      <td>2017-09-06 14:22:51</td>\n",
       "      <td>36.369878</td>\n",
       "      <td>127.362867</td>\n",
       "      <td>2017-09-06 14:22:51</td>\n",
       "      <td>0.0</td>\n",
       "    </tr>\n",
       "    <tr>\n",
       "      <th>74784</th>\n",
       "      <td>2017-09-06 14:22:52</td>\n",
       "      <td>36.369878</td>\n",
       "      <td>127.362867</td>\n",
       "      <td>2017-09-06 14:22:52</td>\n",
       "      <td>0.0</td>\n",
       "    </tr>\n",
       "  </tbody>\n",
       "</table>\n",
       "</div>"
      ],
      "text/plain": [
       "                Unnamed: 0   latitude   longitude            timestamp  \\\n",
       "74780  2017-09-06 14:22:48  36.369878  127.362867  2017-09-06 14:22:48   \n",
       "74781  2017-09-06 14:22:49  36.369878  127.362867  2017-09-06 14:22:49   \n",
       "74782  2017-09-06 14:22:50  36.369878  127.362867  2017-09-06 14:22:50   \n",
       "74783  2017-09-06 14:22:51  36.369878  127.362867  2017-09-06 14:22:51   \n",
       "74784  2017-09-06 14:22:52  36.369878  127.362867  2017-09-06 14:22:52   \n",
       "\n",
       "       cluster_id  \n",
       "74780         0.0  \n",
       "74781         0.0  \n",
       "74782         0.0  \n",
       "74783         0.0  \n",
       "74784         0.0  "
      ]
     },
     "execution_count": 182,
     "metadata": {},
     "output_type": "execute_result"
    }
   ],
   "source": [
    "gmm_time.tail()"
   ]
  },
  {
   "cell_type": "code",
   "execution_count": 183,
   "metadata": {
    "scrolled": true
   },
   "outputs": [],
   "source": [
    "gmm_time = gmm_time.drop([\"Unnamed: 0\"], axis=1)"
   ]
  },
  {
   "cell_type": "code",
   "execution_count": 184,
   "metadata": {},
   "outputs": [
    {
     "data": {
      "text/plain": [
       "{0.0, 3.0}"
      ]
     },
     "execution_count": 184,
     "metadata": {},
     "output_type": "execute_result"
    }
   ],
   "source": [
    "set(gmm_time['cluster_id'])"
   ]
  },
  {
   "cell_type": "code",
   "execution_count": 185,
   "metadata": {},
   "outputs": [
    {
     "data": {
      "text/plain": [
       "RangeIndex(start=0, stop=74785, step=1)"
      ]
     },
     "execution_count": 185,
     "metadata": {},
     "output_type": "execute_result"
    }
   ],
   "source": [
    "gmm_time.index"
   ]
  },
  {
   "cell_type": "code",
   "execution_count": 186,
   "metadata": {},
   "outputs": [],
   "source": [
    "gmm_time['timestamp'] = pd.to_datetime(gmm_time['timestamp'] , format=\"%Y-%m-%d %H:%M:%S\")\n",
    "type(gmm_time.loc[5,'timestamp'])\n",
    "\n",
    "for i in range(74785):\n",
    "    gmm_time.loc[i,'month'] = gmm_time.loc[i,'timestamp'].month \n",
    "    gmm_time.loc[i,'day'] = gmm_time.loc[i,'timestamp'].day\n",
    "    \n",
    "gmm_grouped = gmm_time.groupby([\"month\",\"day\",\"cluster_id\"])['cluster_id'].count()\n"
   ]
  },
  {
   "cell_type": "code",
   "execution_count": 197,
   "metadata": {},
   "outputs": [
    {
     "data": {
      "text/html": [
       "<div>\n",
       "<style scoped>\n",
       "    .dataframe tbody tr th:only-of-type {\n",
       "        vertical-align: middle;\n",
       "    }\n",
       "\n",
       "    .dataframe tbody tr th {\n",
       "        vertical-align: top;\n",
       "    }\n",
       "\n",
       "    .dataframe thead tr th {\n",
       "        text-align: left;\n",
       "    }\n",
       "\n",
       "    .dataframe thead tr:last-of-type th {\n",
       "        text-align: right;\n",
       "    }\n",
       "</style>\n",
       "<table border=\"1\" class=\"dataframe\">\n",
       "  <thead>\n",
       "    <tr>\n",
       "      <th></th>\n",
       "      <th></th>\n",
       "      <th colspan=\"3\" halign=\"left\">len</th>\n",
       "    </tr>\n",
       "    <tr>\n",
       "      <th></th>\n",
       "      <th></th>\n",
       "      <th colspan=\"3\" halign=\"left\">timestamp</th>\n",
       "    </tr>\n",
       "    <tr>\n",
       "      <th></th>\n",
       "      <th>cluster_id</th>\n",
       "      <th>0.0</th>\n",
       "      <th>3.0</th>\n",
       "      <th>All</th>\n",
       "    </tr>\n",
       "    <tr>\n",
       "      <th>month</th>\n",
       "      <th>day</th>\n",
       "      <th></th>\n",
       "      <th></th>\n",
       "      <th></th>\n",
       "    </tr>\n",
       "  </thead>\n",
       "  <tbody>\n",
       "    <tr>\n",
       "      <th rowspan=\"2\" valign=\"top\">9.0</th>\n",
       "      <th>5.0</th>\n",
       "      <td>23012.0</td>\n",
       "      <td>NaN</td>\n",
       "      <td>23012</td>\n",
       "    </tr>\n",
       "    <tr>\n",
       "      <th>6.0</th>\n",
       "      <td>51655.0</td>\n",
       "      <td>118.0</td>\n",
       "      <td>51773</td>\n",
       "    </tr>\n",
       "    <tr>\n",
       "      <th>All</th>\n",
       "      <th></th>\n",
       "      <td>74667.0</td>\n",
       "      <td>118.0</td>\n",
       "      <td>74785</td>\n",
       "    </tr>\n",
       "  </tbody>\n",
       "</table>\n",
       "</div>"
      ],
      "text/plain": [
       "                 len              \n",
       "           timestamp              \n",
       "cluster_id       0.0    3.0    All\n",
       "month day                         \n",
       "9.0   5.0    23012.0    NaN  23012\n",
       "      6.0    51655.0  118.0  51773\n",
       "All          74667.0  118.0  74785"
      ]
     },
     "execution_count": 197,
     "metadata": {},
     "output_type": "execute_result"
    }
   ],
   "source": [
    "gmm_pivot = pd.pivot_table(gmm_time,index=[\"month\",\"day\"], columns=[\"cluster_id\"], values= ['timestamp'], aggfunc=[len], margins=True)\n",
    "gmm_pivot"
   ]
  },
  {
   "cell_type": "markdown",
   "metadata": {
    "collapsed": true
   },
   "source": [
    "#### 각 위치 군집 간 이동 횟수"
   ]
  },
  {
   "cell_type": "code",
   "execution_count": 198,
   "metadata": {},
   "outputs": [
    {
     "data": {
      "text/html": [
       "<div>\n",
       "<style scoped>\n",
       "    .dataframe tbody tr th:only-of-type {\n",
       "        vertical-align: middle;\n",
       "    }\n",
       "\n",
       "    .dataframe tbody tr th {\n",
       "        vertical-align: top;\n",
       "    }\n",
       "\n",
       "    .dataframe thead th {\n",
       "        text-align: right;\n",
       "    }\n",
       "</style>\n",
       "<table border=\"1\" class=\"dataframe\">\n",
       "  <thead>\n",
       "    <tr style=\"text-align: right;\">\n",
       "      <th></th>\n",
       "      <th>latitude</th>\n",
       "      <th>longitude</th>\n",
       "      <th>timestamp</th>\n",
       "      <th>cluster_id</th>\n",
       "      <th>month</th>\n",
       "      <th>day</th>\n",
       "    </tr>\n",
       "  </thead>\n",
       "  <tbody>\n",
       "    <tr>\n",
       "      <th>0</th>\n",
       "      <td>36.367136</td>\n",
       "      <td>127.364432</td>\n",
       "      <td>2017-09-05 17:36:28</td>\n",
       "      <td>0.0</td>\n",
       "      <td>9.0</td>\n",
       "      <td>5.0</td>\n",
       "    </tr>\n",
       "    <tr>\n",
       "      <th>1</th>\n",
       "      <td>36.367136</td>\n",
       "      <td>127.364432</td>\n",
       "      <td>2017-09-05 17:36:29</td>\n",
       "      <td>0.0</td>\n",
       "      <td>9.0</td>\n",
       "      <td>5.0</td>\n",
       "    </tr>\n",
       "    <tr>\n",
       "      <th>2</th>\n",
       "      <td>36.367136</td>\n",
       "      <td>127.364432</td>\n",
       "      <td>2017-09-05 17:36:30</td>\n",
       "      <td>0.0</td>\n",
       "      <td>9.0</td>\n",
       "      <td>5.0</td>\n",
       "    </tr>\n",
       "    <tr>\n",
       "      <th>3</th>\n",
       "      <td>36.367136</td>\n",
       "      <td>127.364432</td>\n",
       "      <td>2017-09-05 17:36:31</td>\n",
       "      <td>0.0</td>\n",
       "      <td>9.0</td>\n",
       "      <td>5.0</td>\n",
       "    </tr>\n",
       "    <tr>\n",
       "      <th>4</th>\n",
       "      <td>36.367136</td>\n",
       "      <td>127.364432</td>\n",
       "      <td>2017-09-05 17:36:32</td>\n",
       "      <td>0.0</td>\n",
       "      <td>9.0</td>\n",
       "      <td>5.0</td>\n",
       "    </tr>\n",
       "  </tbody>\n",
       "</table>\n",
       "</div>"
      ],
      "text/plain": [
       "    latitude   longitude           timestamp  cluster_id  month  day\n",
       "0  36.367136  127.364432 2017-09-05 17:36:28         0.0    9.0  5.0\n",
       "1  36.367136  127.364432 2017-09-05 17:36:29         0.0    9.0  5.0\n",
       "2  36.367136  127.364432 2017-09-05 17:36:30         0.0    9.0  5.0\n",
       "3  36.367136  127.364432 2017-09-05 17:36:31         0.0    9.0  5.0\n",
       "4  36.367136  127.364432 2017-09-05 17:36:32         0.0    9.0  5.0"
      ]
     },
     "execution_count": 198,
     "metadata": {},
     "output_type": "execute_result"
    }
   ],
   "source": [
    "gmm_time.head()"
   ]
  },
  {
   "cell_type": "code",
   "execution_count": 201,
   "metadata": {
    "collapsed": true
   },
   "outputs": [],
   "source": [
    "gmm_time['cluster_next'] = gmm_time['cluster_id'].shift(-1)"
   ]
  },
  {
   "cell_type": "code",
   "execution_count": 203,
   "metadata": {
    "collapsed": true
   },
   "outputs": [],
   "source": [
    "gmm_time['day_next'] = gmm_time['day'].shift(-1)"
   ]
  },
  {
   "cell_type": "code",
   "execution_count": 215,
   "metadata": {
    "collapsed": true
   },
   "outputs": [
    {
     "data": {
      "text/html": [
       "<div>\n",
       "<style scoped>\n",
       "    .dataframe tbody tr th:only-of-type {\n",
       "        vertical-align: middle;\n",
       "    }\n",
       "\n",
       "    .dataframe tbody tr th {\n",
       "        vertical-align: top;\n",
       "    }\n",
       "\n",
       "    .dataframe thead th {\n",
       "        text-align: right;\n",
       "    }\n",
       "</style>\n",
       "<table border=\"1\" class=\"dataframe\">\n",
       "  <thead>\n",
       "    <tr style=\"text-align: right;\">\n",
       "      <th></th>\n",
       "      <th>latitude</th>\n",
       "      <th>longitude</th>\n",
       "      <th>timestamp</th>\n",
       "      <th>cluster_id</th>\n",
       "      <th>month</th>\n",
       "      <th>day</th>\n",
       "      <th>cluster_next</th>\n",
       "      <th>day_next</th>\n",
       "    </tr>\n",
       "  </thead>\n",
       "  <tbody>\n",
       "    <tr>\n",
       "      <th>23012</th>\n",
       "      <td>36.367794</td>\n",
       "      <td>127.361278</td>\n",
       "      <td>2017-09-06 00:00:00</td>\n",
       "      <td>0.0</td>\n",
       "      <td>9.0</td>\n",
       "      <td>6.0</td>\n",
       "      <td>0.0</td>\n",
       "      <td>6.0</td>\n",
       "    </tr>\n",
       "    <tr>\n",
       "      <th>23013</th>\n",
       "      <td>36.367794</td>\n",
       "      <td>127.361278</td>\n",
       "      <td>2017-09-06 00:00:01</td>\n",
       "      <td>0.0</td>\n",
       "      <td>9.0</td>\n",
       "      <td>6.0</td>\n",
       "      <td>0.0</td>\n",
       "      <td>6.0</td>\n",
       "    </tr>\n",
       "    <tr>\n",
       "      <th>23014</th>\n",
       "      <td>36.367794</td>\n",
       "      <td>127.361278</td>\n",
       "      <td>2017-09-06 00:00:02</td>\n",
       "      <td>0.0</td>\n",
       "      <td>9.0</td>\n",
       "      <td>6.0</td>\n",
       "      <td>0.0</td>\n",
       "      <td>6.0</td>\n",
       "    </tr>\n",
       "    <tr>\n",
       "      <th>23015</th>\n",
       "      <td>36.367794</td>\n",
       "      <td>127.361278</td>\n",
       "      <td>2017-09-06 00:00:03</td>\n",
       "      <td>0.0</td>\n",
       "      <td>9.0</td>\n",
       "      <td>6.0</td>\n",
       "      <td>0.0</td>\n",
       "      <td>6.0</td>\n",
       "    </tr>\n",
       "    <tr>\n",
       "      <th>23016</th>\n",
       "      <td>36.367794</td>\n",
       "      <td>127.361278</td>\n",
       "      <td>2017-09-06 00:00:04</td>\n",
       "      <td>0.0</td>\n",
       "      <td>9.0</td>\n",
       "      <td>6.0</td>\n",
       "      <td>0.0</td>\n",
       "      <td>6.0</td>\n",
       "    </tr>\n",
       "    <tr>\n",
       "      <th>23017</th>\n",
       "      <td>36.367794</td>\n",
       "      <td>127.361278</td>\n",
       "      <td>2017-09-06 00:00:05</td>\n",
       "      <td>0.0</td>\n",
       "      <td>9.0</td>\n",
       "      <td>6.0</td>\n",
       "      <td>0.0</td>\n",
       "      <td>6.0</td>\n",
       "    </tr>\n",
       "    <tr>\n",
       "      <th>23018</th>\n",
       "      <td>36.367794</td>\n",
       "      <td>127.361278</td>\n",
       "      <td>2017-09-06 00:00:06</td>\n",
       "      <td>0.0</td>\n",
       "      <td>9.0</td>\n",
       "      <td>6.0</td>\n",
       "      <td>0.0</td>\n",
       "      <td>6.0</td>\n",
       "    </tr>\n",
       "    <tr>\n",
       "      <th>23019</th>\n",
       "      <td>36.367794</td>\n",
       "      <td>127.361278</td>\n",
       "      <td>2017-09-06 00:00:07</td>\n",
       "      <td>0.0</td>\n",
       "      <td>9.0</td>\n",
       "      <td>6.0</td>\n",
       "      <td>0.0</td>\n",
       "      <td>6.0</td>\n",
       "    </tr>\n",
       "    <tr>\n",
       "      <th>23020</th>\n",
       "      <td>36.367794</td>\n",
       "      <td>127.361278</td>\n",
       "      <td>2017-09-06 00:00:08</td>\n",
       "      <td>0.0</td>\n",
       "      <td>9.0</td>\n",
       "      <td>6.0</td>\n",
       "      <td>0.0</td>\n",
       "      <td>6.0</td>\n",
       "    </tr>\n",
       "    <tr>\n",
       "      <th>23021</th>\n",
       "      <td>36.367794</td>\n",
       "      <td>127.361278</td>\n",
       "      <td>2017-09-06 00:00:09</td>\n",
       "      <td>0.0</td>\n",
       "      <td>9.0</td>\n",
       "      <td>6.0</td>\n",
       "      <td>0.0</td>\n",
       "      <td>6.0</td>\n",
       "    </tr>\n",
       "    <tr>\n",
       "      <th>23022</th>\n",
       "      <td>36.367794</td>\n",
       "      <td>127.361278</td>\n",
       "      <td>2017-09-06 00:00:10</td>\n",
       "      <td>0.0</td>\n",
       "      <td>9.0</td>\n",
       "      <td>6.0</td>\n",
       "      <td>0.0</td>\n",
       "      <td>6.0</td>\n",
       "    </tr>\n",
       "    <tr>\n",
       "      <th>23023</th>\n",
       "      <td>36.367794</td>\n",
       "      <td>127.361278</td>\n",
       "      <td>2017-09-06 00:00:11</td>\n",
       "      <td>0.0</td>\n",
       "      <td>9.0</td>\n",
       "      <td>6.0</td>\n",
       "      <td>0.0</td>\n",
       "      <td>6.0</td>\n",
       "    </tr>\n",
       "    <tr>\n",
       "      <th>23024</th>\n",
       "      <td>36.367794</td>\n",
       "      <td>127.361278</td>\n",
       "      <td>2017-09-06 00:00:12</td>\n",
       "      <td>0.0</td>\n",
       "      <td>9.0</td>\n",
       "      <td>6.0</td>\n",
       "      <td>0.0</td>\n",
       "      <td>6.0</td>\n",
       "    </tr>\n",
       "    <tr>\n",
       "      <th>23025</th>\n",
       "      <td>36.367794</td>\n",
       "      <td>127.361278</td>\n",
       "      <td>2017-09-06 00:00:13</td>\n",
       "      <td>0.0</td>\n",
       "      <td>9.0</td>\n",
       "      <td>6.0</td>\n",
       "      <td>0.0</td>\n",
       "      <td>6.0</td>\n",
       "    </tr>\n",
       "    <tr>\n",
       "      <th>23026</th>\n",
       "      <td>36.367794</td>\n",
       "      <td>127.361278</td>\n",
       "      <td>2017-09-06 00:00:14</td>\n",
       "      <td>0.0</td>\n",
       "      <td>9.0</td>\n",
       "      <td>6.0</td>\n",
       "      <td>0.0</td>\n",
       "      <td>6.0</td>\n",
       "    </tr>\n",
       "    <tr>\n",
       "      <th>23027</th>\n",
       "      <td>36.367794</td>\n",
       "      <td>127.361278</td>\n",
       "      <td>2017-09-06 00:00:15</td>\n",
       "      <td>0.0</td>\n",
       "      <td>9.0</td>\n",
       "      <td>6.0</td>\n",
       "      <td>0.0</td>\n",
       "      <td>6.0</td>\n",
       "    </tr>\n",
       "    <tr>\n",
       "      <th>23028</th>\n",
       "      <td>36.367794</td>\n",
       "      <td>127.361278</td>\n",
       "      <td>2017-09-06 00:00:16</td>\n",
       "      <td>0.0</td>\n",
       "      <td>9.0</td>\n",
       "      <td>6.0</td>\n",
       "      <td>0.0</td>\n",
       "      <td>6.0</td>\n",
       "    </tr>\n",
       "    <tr>\n",
       "      <th>23029</th>\n",
       "      <td>36.367794</td>\n",
       "      <td>127.361278</td>\n",
       "      <td>2017-09-06 00:00:17</td>\n",
       "      <td>0.0</td>\n",
       "      <td>9.0</td>\n",
       "      <td>6.0</td>\n",
       "      <td>0.0</td>\n",
       "      <td>6.0</td>\n",
       "    </tr>\n",
       "    <tr>\n",
       "      <th>23030</th>\n",
       "      <td>36.367794</td>\n",
       "      <td>127.361278</td>\n",
       "      <td>2017-09-06 00:00:18</td>\n",
       "      <td>0.0</td>\n",
       "      <td>9.0</td>\n",
       "      <td>6.0</td>\n",
       "      <td>0.0</td>\n",
       "      <td>6.0</td>\n",
       "    </tr>\n",
       "    <tr>\n",
       "      <th>23031</th>\n",
       "      <td>36.367794</td>\n",
       "      <td>127.361278</td>\n",
       "      <td>2017-09-06 00:00:19</td>\n",
       "      <td>0.0</td>\n",
       "      <td>9.0</td>\n",
       "      <td>6.0</td>\n",
       "      <td>0.0</td>\n",
       "      <td>6.0</td>\n",
       "    </tr>\n",
       "    <tr>\n",
       "      <th>23032</th>\n",
       "      <td>36.367794</td>\n",
       "      <td>127.361278</td>\n",
       "      <td>2017-09-06 00:00:20</td>\n",
       "      <td>0.0</td>\n",
       "      <td>9.0</td>\n",
       "      <td>6.0</td>\n",
       "      <td>0.0</td>\n",
       "      <td>6.0</td>\n",
       "    </tr>\n",
       "    <tr>\n",
       "      <th>23033</th>\n",
       "      <td>36.367794</td>\n",
       "      <td>127.361278</td>\n",
       "      <td>2017-09-06 00:00:21</td>\n",
       "      <td>0.0</td>\n",
       "      <td>9.0</td>\n",
       "      <td>6.0</td>\n",
       "      <td>0.0</td>\n",
       "      <td>6.0</td>\n",
       "    </tr>\n",
       "    <tr>\n",
       "      <th>23034</th>\n",
       "      <td>36.367794</td>\n",
       "      <td>127.361278</td>\n",
       "      <td>2017-09-06 00:00:22</td>\n",
       "      <td>0.0</td>\n",
       "      <td>9.0</td>\n",
       "      <td>6.0</td>\n",
       "      <td>0.0</td>\n",
       "      <td>6.0</td>\n",
       "    </tr>\n",
       "    <tr>\n",
       "      <th>23035</th>\n",
       "      <td>36.367794</td>\n",
       "      <td>127.361278</td>\n",
       "      <td>2017-09-06 00:00:23</td>\n",
       "      <td>0.0</td>\n",
       "      <td>9.0</td>\n",
       "      <td>6.0</td>\n",
       "      <td>0.0</td>\n",
       "      <td>6.0</td>\n",
       "    </tr>\n",
       "    <tr>\n",
       "      <th>23036</th>\n",
       "      <td>36.367794</td>\n",
       "      <td>127.361278</td>\n",
       "      <td>2017-09-06 00:00:24</td>\n",
       "      <td>0.0</td>\n",
       "      <td>9.0</td>\n",
       "      <td>6.0</td>\n",
       "      <td>0.0</td>\n",
       "      <td>6.0</td>\n",
       "    </tr>\n",
       "    <tr>\n",
       "      <th>23037</th>\n",
       "      <td>36.367794</td>\n",
       "      <td>127.361278</td>\n",
       "      <td>2017-09-06 00:00:25</td>\n",
       "      <td>0.0</td>\n",
       "      <td>9.0</td>\n",
       "      <td>6.0</td>\n",
       "      <td>0.0</td>\n",
       "      <td>6.0</td>\n",
       "    </tr>\n",
       "    <tr>\n",
       "      <th>23038</th>\n",
       "      <td>36.367794</td>\n",
       "      <td>127.361278</td>\n",
       "      <td>2017-09-06 00:00:26</td>\n",
       "      <td>0.0</td>\n",
       "      <td>9.0</td>\n",
       "      <td>6.0</td>\n",
       "      <td>0.0</td>\n",
       "      <td>6.0</td>\n",
       "    </tr>\n",
       "    <tr>\n",
       "      <th>23039</th>\n",
       "      <td>36.367794</td>\n",
       "      <td>127.361278</td>\n",
       "      <td>2017-09-06 00:00:27</td>\n",
       "      <td>0.0</td>\n",
       "      <td>9.0</td>\n",
       "      <td>6.0</td>\n",
       "      <td>0.0</td>\n",
       "      <td>6.0</td>\n",
       "    </tr>\n",
       "    <tr>\n",
       "      <th>23040</th>\n",
       "      <td>36.367794</td>\n",
       "      <td>127.361278</td>\n",
       "      <td>2017-09-06 00:00:28</td>\n",
       "      <td>0.0</td>\n",
       "      <td>9.0</td>\n",
       "      <td>6.0</td>\n",
       "      <td>0.0</td>\n",
       "      <td>6.0</td>\n",
       "    </tr>\n",
       "    <tr>\n",
       "      <th>23041</th>\n",
       "      <td>36.367794</td>\n",
       "      <td>127.361278</td>\n",
       "      <td>2017-09-06 00:00:29</td>\n",
       "      <td>0.0</td>\n",
       "      <td>9.0</td>\n",
       "      <td>6.0</td>\n",
       "      <td>0.0</td>\n",
       "      <td>6.0</td>\n",
       "    </tr>\n",
       "    <tr>\n",
       "      <th>...</th>\n",
       "      <td>...</td>\n",
       "      <td>...</td>\n",
       "      <td>...</td>\n",
       "      <td>...</td>\n",
       "      <td>...</td>\n",
       "      <td>...</td>\n",
       "      <td>...</td>\n",
       "      <td>...</td>\n",
       "    </tr>\n",
       "    <tr>\n",
       "      <th>74755</th>\n",
       "      <td>36.369603</td>\n",
       "      <td>127.363117</td>\n",
       "      <td>2017-09-06 14:22:23</td>\n",
       "      <td>0.0</td>\n",
       "      <td>9.0</td>\n",
       "      <td>6.0</td>\n",
       "      <td>0.0</td>\n",
       "      <td>6.0</td>\n",
       "    </tr>\n",
       "    <tr>\n",
       "      <th>74756</th>\n",
       "      <td>36.369603</td>\n",
       "      <td>127.363117</td>\n",
       "      <td>2017-09-06 14:22:24</td>\n",
       "      <td>0.0</td>\n",
       "      <td>9.0</td>\n",
       "      <td>6.0</td>\n",
       "      <td>0.0</td>\n",
       "      <td>6.0</td>\n",
       "    </tr>\n",
       "    <tr>\n",
       "      <th>74757</th>\n",
       "      <td>36.369603</td>\n",
       "      <td>127.363117</td>\n",
       "      <td>2017-09-06 14:22:25</td>\n",
       "      <td>0.0</td>\n",
       "      <td>9.0</td>\n",
       "      <td>6.0</td>\n",
       "      <td>0.0</td>\n",
       "      <td>6.0</td>\n",
       "    </tr>\n",
       "    <tr>\n",
       "      <th>74758</th>\n",
       "      <td>36.369603</td>\n",
       "      <td>127.363117</td>\n",
       "      <td>2017-09-06 14:22:26</td>\n",
       "      <td>0.0</td>\n",
       "      <td>9.0</td>\n",
       "      <td>6.0</td>\n",
       "      <td>0.0</td>\n",
       "      <td>6.0</td>\n",
       "    </tr>\n",
       "    <tr>\n",
       "      <th>74759</th>\n",
       "      <td>36.369603</td>\n",
       "      <td>127.363117</td>\n",
       "      <td>2017-09-06 14:22:27</td>\n",
       "      <td>0.0</td>\n",
       "      <td>9.0</td>\n",
       "      <td>6.0</td>\n",
       "      <td>0.0</td>\n",
       "      <td>6.0</td>\n",
       "    </tr>\n",
       "    <tr>\n",
       "      <th>74760</th>\n",
       "      <td>36.369656</td>\n",
       "      <td>127.363065</td>\n",
       "      <td>2017-09-06 14:22:28</td>\n",
       "      <td>0.0</td>\n",
       "      <td>9.0</td>\n",
       "      <td>6.0</td>\n",
       "      <td>0.0</td>\n",
       "      <td>6.0</td>\n",
       "    </tr>\n",
       "    <tr>\n",
       "      <th>74761</th>\n",
       "      <td>36.369656</td>\n",
       "      <td>127.363065</td>\n",
       "      <td>2017-09-06 14:22:29</td>\n",
       "      <td>0.0</td>\n",
       "      <td>9.0</td>\n",
       "      <td>6.0</td>\n",
       "      <td>0.0</td>\n",
       "      <td>6.0</td>\n",
       "    </tr>\n",
       "    <tr>\n",
       "      <th>74762</th>\n",
       "      <td>36.369656</td>\n",
       "      <td>127.363065</td>\n",
       "      <td>2017-09-06 14:22:30</td>\n",
       "      <td>0.0</td>\n",
       "      <td>9.0</td>\n",
       "      <td>6.0</td>\n",
       "      <td>0.0</td>\n",
       "      <td>6.0</td>\n",
       "    </tr>\n",
       "    <tr>\n",
       "      <th>74763</th>\n",
       "      <td>36.369656</td>\n",
       "      <td>127.363065</td>\n",
       "      <td>2017-09-06 14:22:31</td>\n",
       "      <td>0.0</td>\n",
       "      <td>9.0</td>\n",
       "      <td>6.0</td>\n",
       "      <td>0.0</td>\n",
       "      <td>6.0</td>\n",
       "    </tr>\n",
       "    <tr>\n",
       "      <th>74764</th>\n",
       "      <td>36.369656</td>\n",
       "      <td>127.363065</td>\n",
       "      <td>2017-09-06 14:22:32</td>\n",
       "      <td>0.0</td>\n",
       "      <td>9.0</td>\n",
       "      <td>6.0</td>\n",
       "      <td>0.0</td>\n",
       "      <td>6.0</td>\n",
       "    </tr>\n",
       "    <tr>\n",
       "      <th>74765</th>\n",
       "      <td>36.369723</td>\n",
       "      <td>127.362991</td>\n",
       "      <td>2017-09-06 14:22:33</td>\n",
       "      <td>0.0</td>\n",
       "      <td>9.0</td>\n",
       "      <td>6.0</td>\n",
       "      <td>0.0</td>\n",
       "      <td>6.0</td>\n",
       "    </tr>\n",
       "    <tr>\n",
       "      <th>74766</th>\n",
       "      <td>36.369723</td>\n",
       "      <td>127.362991</td>\n",
       "      <td>2017-09-06 14:22:34</td>\n",
       "      <td>0.0</td>\n",
       "      <td>9.0</td>\n",
       "      <td>6.0</td>\n",
       "      <td>0.0</td>\n",
       "      <td>6.0</td>\n",
       "    </tr>\n",
       "    <tr>\n",
       "      <th>74767</th>\n",
       "      <td>36.369723</td>\n",
       "      <td>127.362991</td>\n",
       "      <td>2017-09-06 14:22:35</td>\n",
       "      <td>0.0</td>\n",
       "      <td>9.0</td>\n",
       "      <td>6.0</td>\n",
       "      <td>0.0</td>\n",
       "      <td>6.0</td>\n",
       "    </tr>\n",
       "    <tr>\n",
       "      <th>74768</th>\n",
       "      <td>36.369723</td>\n",
       "      <td>127.362991</td>\n",
       "      <td>2017-09-06 14:22:36</td>\n",
       "      <td>0.0</td>\n",
       "      <td>9.0</td>\n",
       "      <td>6.0</td>\n",
       "      <td>0.0</td>\n",
       "      <td>6.0</td>\n",
       "    </tr>\n",
       "    <tr>\n",
       "      <th>74769</th>\n",
       "      <td>36.369723</td>\n",
       "      <td>127.362991</td>\n",
       "      <td>2017-09-06 14:22:37</td>\n",
       "      <td>0.0</td>\n",
       "      <td>9.0</td>\n",
       "      <td>6.0</td>\n",
       "      <td>0.0</td>\n",
       "      <td>6.0</td>\n",
       "    </tr>\n",
       "    <tr>\n",
       "      <th>74770</th>\n",
       "      <td>36.369781</td>\n",
       "      <td>127.362942</td>\n",
       "      <td>2017-09-06 14:22:38</td>\n",
       "      <td>0.0</td>\n",
       "      <td>9.0</td>\n",
       "      <td>6.0</td>\n",
       "      <td>0.0</td>\n",
       "      <td>6.0</td>\n",
       "    </tr>\n",
       "    <tr>\n",
       "      <th>74771</th>\n",
       "      <td>36.369781</td>\n",
       "      <td>127.362942</td>\n",
       "      <td>2017-09-06 14:22:39</td>\n",
       "      <td>0.0</td>\n",
       "      <td>9.0</td>\n",
       "      <td>6.0</td>\n",
       "      <td>0.0</td>\n",
       "      <td>6.0</td>\n",
       "    </tr>\n",
       "    <tr>\n",
       "      <th>74772</th>\n",
       "      <td>36.369781</td>\n",
       "      <td>127.362942</td>\n",
       "      <td>2017-09-06 14:22:40</td>\n",
       "      <td>0.0</td>\n",
       "      <td>9.0</td>\n",
       "      <td>6.0</td>\n",
       "      <td>0.0</td>\n",
       "      <td>6.0</td>\n",
       "    </tr>\n",
       "    <tr>\n",
       "      <th>74773</th>\n",
       "      <td>36.369781</td>\n",
       "      <td>127.362942</td>\n",
       "      <td>2017-09-06 14:22:41</td>\n",
       "      <td>0.0</td>\n",
       "      <td>9.0</td>\n",
       "      <td>6.0</td>\n",
       "      <td>0.0</td>\n",
       "      <td>6.0</td>\n",
       "    </tr>\n",
       "    <tr>\n",
       "      <th>74774</th>\n",
       "      <td>36.369781</td>\n",
       "      <td>127.362942</td>\n",
       "      <td>2017-09-06 14:22:42</td>\n",
       "      <td>0.0</td>\n",
       "      <td>9.0</td>\n",
       "      <td>6.0</td>\n",
       "      <td>0.0</td>\n",
       "      <td>6.0</td>\n",
       "    </tr>\n",
       "    <tr>\n",
       "      <th>74775</th>\n",
       "      <td>36.369847</td>\n",
       "      <td>127.362909</td>\n",
       "      <td>2017-09-06 14:22:43</td>\n",
       "      <td>0.0</td>\n",
       "      <td>9.0</td>\n",
       "      <td>6.0</td>\n",
       "      <td>0.0</td>\n",
       "      <td>6.0</td>\n",
       "    </tr>\n",
       "    <tr>\n",
       "      <th>74776</th>\n",
       "      <td>36.369847</td>\n",
       "      <td>127.362909</td>\n",
       "      <td>2017-09-06 14:22:44</td>\n",
       "      <td>0.0</td>\n",
       "      <td>9.0</td>\n",
       "      <td>6.0</td>\n",
       "      <td>0.0</td>\n",
       "      <td>6.0</td>\n",
       "    </tr>\n",
       "    <tr>\n",
       "      <th>74777</th>\n",
       "      <td>36.369847</td>\n",
       "      <td>127.362909</td>\n",
       "      <td>2017-09-06 14:22:45</td>\n",
       "      <td>0.0</td>\n",
       "      <td>9.0</td>\n",
       "      <td>6.0</td>\n",
       "      <td>0.0</td>\n",
       "      <td>6.0</td>\n",
       "    </tr>\n",
       "    <tr>\n",
       "      <th>74778</th>\n",
       "      <td>36.369847</td>\n",
       "      <td>127.362909</td>\n",
       "      <td>2017-09-06 14:22:46</td>\n",
       "      <td>0.0</td>\n",
       "      <td>9.0</td>\n",
       "      <td>6.0</td>\n",
       "      <td>0.0</td>\n",
       "      <td>6.0</td>\n",
       "    </tr>\n",
       "    <tr>\n",
       "      <th>74779</th>\n",
       "      <td>36.369878</td>\n",
       "      <td>127.362867</td>\n",
       "      <td>2017-09-06 14:22:47</td>\n",
       "      <td>0.0</td>\n",
       "      <td>9.0</td>\n",
       "      <td>6.0</td>\n",
       "      <td>0.0</td>\n",
       "      <td>6.0</td>\n",
       "    </tr>\n",
       "    <tr>\n",
       "      <th>74780</th>\n",
       "      <td>36.369878</td>\n",
       "      <td>127.362867</td>\n",
       "      <td>2017-09-06 14:22:48</td>\n",
       "      <td>0.0</td>\n",
       "      <td>9.0</td>\n",
       "      <td>6.0</td>\n",
       "      <td>0.0</td>\n",
       "      <td>6.0</td>\n",
       "    </tr>\n",
       "    <tr>\n",
       "      <th>74781</th>\n",
       "      <td>36.369878</td>\n",
       "      <td>127.362867</td>\n",
       "      <td>2017-09-06 14:22:49</td>\n",
       "      <td>0.0</td>\n",
       "      <td>9.0</td>\n",
       "      <td>6.0</td>\n",
       "      <td>0.0</td>\n",
       "      <td>6.0</td>\n",
       "    </tr>\n",
       "    <tr>\n",
       "      <th>74782</th>\n",
       "      <td>36.369878</td>\n",
       "      <td>127.362867</td>\n",
       "      <td>2017-09-06 14:22:50</td>\n",
       "      <td>0.0</td>\n",
       "      <td>9.0</td>\n",
       "      <td>6.0</td>\n",
       "      <td>0.0</td>\n",
       "      <td>6.0</td>\n",
       "    </tr>\n",
       "    <tr>\n",
       "      <th>74783</th>\n",
       "      <td>36.369878</td>\n",
       "      <td>127.362867</td>\n",
       "      <td>2017-09-06 14:22:51</td>\n",
       "      <td>0.0</td>\n",
       "      <td>9.0</td>\n",
       "      <td>6.0</td>\n",
       "      <td>0.0</td>\n",
       "      <td>6.0</td>\n",
       "    </tr>\n",
       "    <tr>\n",
       "      <th>74784</th>\n",
       "      <td>36.369878</td>\n",
       "      <td>127.362867</td>\n",
       "      <td>2017-09-06 14:22:52</td>\n",
       "      <td>0.0</td>\n",
       "      <td>9.0</td>\n",
       "      <td>6.0</td>\n",
       "      <td>NaN</td>\n",
       "      <td>NaN</td>\n",
       "    </tr>\n",
       "  </tbody>\n",
       "</table>\n",
       "<p>51773 rows × 8 columns</p>\n",
       "</div>"
      ],
      "text/plain": [
       "        latitude   longitude           timestamp  cluster_id  month  day  \\\n",
       "23012  36.367794  127.361278 2017-09-06 00:00:00         0.0    9.0  6.0   \n",
       "23013  36.367794  127.361278 2017-09-06 00:00:01         0.0    9.0  6.0   \n",
       "23014  36.367794  127.361278 2017-09-06 00:00:02         0.0    9.0  6.0   \n",
       "23015  36.367794  127.361278 2017-09-06 00:00:03         0.0    9.0  6.0   \n",
       "23016  36.367794  127.361278 2017-09-06 00:00:04         0.0    9.0  6.0   \n",
       "23017  36.367794  127.361278 2017-09-06 00:00:05         0.0    9.0  6.0   \n",
       "23018  36.367794  127.361278 2017-09-06 00:00:06         0.0    9.0  6.0   \n",
       "23019  36.367794  127.361278 2017-09-06 00:00:07         0.0    9.0  6.0   \n",
       "23020  36.367794  127.361278 2017-09-06 00:00:08         0.0    9.0  6.0   \n",
       "23021  36.367794  127.361278 2017-09-06 00:00:09         0.0    9.0  6.0   \n",
       "23022  36.367794  127.361278 2017-09-06 00:00:10         0.0    9.0  6.0   \n",
       "23023  36.367794  127.361278 2017-09-06 00:00:11         0.0    9.0  6.0   \n",
       "23024  36.367794  127.361278 2017-09-06 00:00:12         0.0    9.0  6.0   \n",
       "23025  36.367794  127.361278 2017-09-06 00:00:13         0.0    9.0  6.0   \n",
       "23026  36.367794  127.361278 2017-09-06 00:00:14         0.0    9.0  6.0   \n",
       "23027  36.367794  127.361278 2017-09-06 00:00:15         0.0    9.0  6.0   \n",
       "23028  36.367794  127.361278 2017-09-06 00:00:16         0.0    9.0  6.0   \n",
       "23029  36.367794  127.361278 2017-09-06 00:00:17         0.0    9.0  6.0   \n",
       "23030  36.367794  127.361278 2017-09-06 00:00:18         0.0    9.0  6.0   \n",
       "23031  36.367794  127.361278 2017-09-06 00:00:19         0.0    9.0  6.0   \n",
       "23032  36.367794  127.361278 2017-09-06 00:00:20         0.0    9.0  6.0   \n",
       "23033  36.367794  127.361278 2017-09-06 00:00:21         0.0    9.0  6.0   \n",
       "23034  36.367794  127.361278 2017-09-06 00:00:22         0.0    9.0  6.0   \n",
       "23035  36.367794  127.361278 2017-09-06 00:00:23         0.0    9.0  6.0   \n",
       "23036  36.367794  127.361278 2017-09-06 00:00:24         0.0    9.0  6.0   \n",
       "23037  36.367794  127.361278 2017-09-06 00:00:25         0.0    9.0  6.0   \n",
       "23038  36.367794  127.361278 2017-09-06 00:00:26         0.0    9.0  6.0   \n",
       "23039  36.367794  127.361278 2017-09-06 00:00:27         0.0    9.0  6.0   \n",
       "23040  36.367794  127.361278 2017-09-06 00:00:28         0.0    9.0  6.0   \n",
       "23041  36.367794  127.361278 2017-09-06 00:00:29         0.0    9.0  6.0   \n",
       "...          ...         ...                 ...         ...    ...  ...   \n",
       "74755  36.369603  127.363117 2017-09-06 14:22:23         0.0    9.0  6.0   \n",
       "74756  36.369603  127.363117 2017-09-06 14:22:24         0.0    9.0  6.0   \n",
       "74757  36.369603  127.363117 2017-09-06 14:22:25         0.0    9.0  6.0   \n",
       "74758  36.369603  127.363117 2017-09-06 14:22:26         0.0    9.0  6.0   \n",
       "74759  36.369603  127.363117 2017-09-06 14:22:27         0.0    9.0  6.0   \n",
       "74760  36.369656  127.363065 2017-09-06 14:22:28         0.0    9.0  6.0   \n",
       "74761  36.369656  127.363065 2017-09-06 14:22:29         0.0    9.0  6.0   \n",
       "74762  36.369656  127.363065 2017-09-06 14:22:30         0.0    9.0  6.0   \n",
       "74763  36.369656  127.363065 2017-09-06 14:22:31         0.0    9.0  6.0   \n",
       "74764  36.369656  127.363065 2017-09-06 14:22:32         0.0    9.0  6.0   \n",
       "74765  36.369723  127.362991 2017-09-06 14:22:33         0.0    9.0  6.0   \n",
       "74766  36.369723  127.362991 2017-09-06 14:22:34         0.0    9.0  6.0   \n",
       "74767  36.369723  127.362991 2017-09-06 14:22:35         0.0    9.0  6.0   \n",
       "74768  36.369723  127.362991 2017-09-06 14:22:36         0.0    9.0  6.0   \n",
       "74769  36.369723  127.362991 2017-09-06 14:22:37         0.0    9.0  6.0   \n",
       "74770  36.369781  127.362942 2017-09-06 14:22:38         0.0    9.0  6.0   \n",
       "74771  36.369781  127.362942 2017-09-06 14:22:39         0.0    9.0  6.0   \n",
       "74772  36.369781  127.362942 2017-09-06 14:22:40         0.0    9.0  6.0   \n",
       "74773  36.369781  127.362942 2017-09-06 14:22:41         0.0    9.0  6.0   \n",
       "74774  36.369781  127.362942 2017-09-06 14:22:42         0.0    9.0  6.0   \n",
       "74775  36.369847  127.362909 2017-09-06 14:22:43         0.0    9.0  6.0   \n",
       "74776  36.369847  127.362909 2017-09-06 14:22:44         0.0    9.0  6.0   \n",
       "74777  36.369847  127.362909 2017-09-06 14:22:45         0.0    9.0  6.0   \n",
       "74778  36.369847  127.362909 2017-09-06 14:22:46         0.0    9.0  6.0   \n",
       "74779  36.369878  127.362867 2017-09-06 14:22:47         0.0    9.0  6.0   \n",
       "74780  36.369878  127.362867 2017-09-06 14:22:48         0.0    9.0  6.0   \n",
       "74781  36.369878  127.362867 2017-09-06 14:22:49         0.0    9.0  6.0   \n",
       "74782  36.369878  127.362867 2017-09-06 14:22:50         0.0    9.0  6.0   \n",
       "74783  36.369878  127.362867 2017-09-06 14:22:51         0.0    9.0  6.0   \n",
       "74784  36.369878  127.362867 2017-09-06 14:22:52         0.0    9.0  6.0   \n",
       "\n",
       "       cluster_next  day_next  \n",
       "23012           0.0       6.0  \n",
       "23013           0.0       6.0  \n",
       "23014           0.0       6.0  \n",
       "23015           0.0       6.0  \n",
       "23016           0.0       6.0  \n",
       "23017           0.0       6.0  \n",
       "23018           0.0       6.0  \n",
       "23019           0.0       6.0  \n",
       "23020           0.0       6.0  \n",
       "23021           0.0       6.0  \n",
       "23022           0.0       6.0  \n",
       "23023           0.0       6.0  \n",
       "23024           0.0       6.0  \n",
       "23025           0.0       6.0  \n",
       "23026           0.0       6.0  \n",
       "23027           0.0       6.0  \n",
       "23028           0.0       6.0  \n",
       "23029           0.0       6.0  \n",
       "23030           0.0       6.0  \n",
       "23031           0.0       6.0  \n",
       "23032           0.0       6.0  \n",
       "23033           0.0       6.0  \n",
       "23034           0.0       6.0  \n",
       "23035           0.0       6.0  \n",
       "23036           0.0       6.0  \n",
       "23037           0.0       6.0  \n",
       "23038           0.0       6.0  \n",
       "23039           0.0       6.0  \n",
       "23040           0.0       6.0  \n",
       "23041           0.0       6.0  \n",
       "...             ...       ...  \n",
       "74755           0.0       6.0  \n",
       "74756           0.0       6.0  \n",
       "74757           0.0       6.0  \n",
       "74758           0.0       6.0  \n",
       "74759           0.0       6.0  \n",
       "74760           0.0       6.0  \n",
       "74761           0.0       6.0  \n",
       "74762           0.0       6.0  \n",
       "74763           0.0       6.0  \n",
       "74764           0.0       6.0  \n",
       "74765           0.0       6.0  \n",
       "74766           0.0       6.0  \n",
       "74767           0.0       6.0  \n",
       "74768           0.0       6.0  \n",
       "74769           0.0       6.0  \n",
       "74770           0.0       6.0  \n",
       "74771           0.0       6.0  \n",
       "74772           0.0       6.0  \n",
       "74773           0.0       6.0  \n",
       "74774           0.0       6.0  \n",
       "74775           0.0       6.0  \n",
       "74776           0.0       6.0  \n",
       "74777           0.0       6.0  \n",
       "74778           0.0       6.0  \n",
       "74779           0.0       6.0  \n",
       "74780           0.0       6.0  \n",
       "74781           0.0       6.0  \n",
       "74782           0.0       6.0  \n",
       "74783           0.0       6.0  \n",
       "74784           NaN       NaN  \n",
       "\n",
       "[51773 rows x 8 columns]"
      ]
     },
     "execution_count": 215,
     "metadata": {},
     "output_type": "execute_result"
    }
   ],
   "source": [
    "gmm_time[gmm_time['day'] == 6.0]"
   ]
  },
  {
   "cell_type": "code",
   "execution_count": 210,
   "metadata": {},
   "outputs": [
    {
     "name": "stderr",
     "output_type": "stream",
     "text": [
      "C:\\Anaconda3\\lib\\site-packages\\ipykernel_launcher.py:5: DeprecationWarning: elementwise == comparison failed; this will raise an error in the future.\n",
      "  \"\"\"\n"
     ]
    },
    {
     "name": "stdout",
     "output_type": "stream",
     "text": [
      "5.0 0\n",
      "6.0 2\n"
     ]
    }
   ],
   "source": [
    "count = 0;\n",
    "for index,row in gmm_time.iterrows():\n",
    "    if nat_check(row[\"day_next\"]) != True:   \n",
    "        day = row[\"day\"]\n",
    "        day_next = row[\"day_next\"]\n",
    "\n",
    "        cluster = row[\"cluster_id\"]\n",
    "        cluster_next = row[\"cluster_next\"]\n",
    "\n",
    "        if day == day_next:\n",
    "            if cluster != cluster_next:\n",
    "                count = count +1 \n",
    "        else:\n",
    "            print(day, count)\n",
    "            count = 0"
   ]
  },
  {
   "cell_type": "markdown",
   "metadata": {
    "collapsed": true
   },
   "source": [
    "#### 총 이동거리"
   ]
  },
  {
   "cell_type": "code",
   "execution_count": 190,
   "metadata": {},
   "outputs": [
    {
     "name": "stdout",
     "output_type": "stream",
     "text": [
      "Collecting haversine\n",
      "  Downloading https://files.pythonhosted.org/packages/5b/5d/20ba253eedf6795b8ffca2615cea4d2bba0938e4c1fe019b7815aee2a154/haversine-2.0.0-py2.py3-none-any.whl\n",
      "Installing collected packages: haversine\n",
      "Successfully installed haversine-2.0.0\n"
     ]
    },
    {
     "name": "stderr",
     "output_type": "stream",
     "text": [
      "You are using pip version 18.0, however version 19.0.3 is available.\n",
      "You should consider upgrading via the 'python -m pip install --upgrade pip' command.\n"
     ]
    }
   ],
   "source": [
    "!pip install haversine"
   ]
  },
  {
   "cell_type": "code",
   "execution_count": 220,
   "metadata": {
    "collapsed": true
   },
   "outputs": [],
   "source": [
    "from haversine import haversine\n"
   ]
  },
  {
   "cell_type": "code",
   "execution_count": 216,
   "metadata": {
    "collapsed": true
   },
   "outputs": [],
   "source": [
    "gmm_time['lat_next'] = gmm_time['latitude'].shift(-1)\n",
    "gmm_time['long_next'] = gmm_time['longitude'].shift(-1)"
   ]
  },
  {
   "cell_type": "code",
   "execution_count": 217,
   "metadata": {},
   "outputs": [
    {
     "data": {
      "text/html": [
       "<div>\n",
       "<style scoped>\n",
       "    .dataframe tbody tr th:only-of-type {\n",
       "        vertical-align: middle;\n",
       "    }\n",
       "\n",
       "    .dataframe tbody tr th {\n",
       "        vertical-align: top;\n",
       "    }\n",
       "\n",
       "    .dataframe thead th {\n",
       "        text-align: right;\n",
       "    }\n",
       "</style>\n",
       "<table border=\"1\" class=\"dataframe\">\n",
       "  <thead>\n",
       "    <tr style=\"text-align: right;\">\n",
       "      <th></th>\n",
       "      <th>latitude</th>\n",
       "      <th>longitude</th>\n",
       "      <th>timestamp</th>\n",
       "      <th>cluster_id</th>\n",
       "      <th>month</th>\n",
       "      <th>day</th>\n",
       "      <th>cluster_next</th>\n",
       "      <th>day_next</th>\n",
       "      <th>lat_next</th>\n",
       "      <th>long_next</th>\n",
       "    </tr>\n",
       "  </thead>\n",
       "  <tbody>\n",
       "    <tr>\n",
       "      <th>0</th>\n",
       "      <td>36.367136</td>\n",
       "      <td>127.364432</td>\n",
       "      <td>2017-09-05 17:36:28</td>\n",
       "      <td>0.0</td>\n",
       "      <td>9.0</td>\n",
       "      <td>5.0</td>\n",
       "      <td>0.0</td>\n",
       "      <td>5.0</td>\n",
       "      <td>36.367136</td>\n",
       "      <td>127.364432</td>\n",
       "    </tr>\n",
       "    <tr>\n",
       "      <th>1</th>\n",
       "      <td>36.367136</td>\n",
       "      <td>127.364432</td>\n",
       "      <td>2017-09-05 17:36:29</td>\n",
       "      <td>0.0</td>\n",
       "      <td>9.0</td>\n",
       "      <td>5.0</td>\n",
       "      <td>0.0</td>\n",
       "      <td>5.0</td>\n",
       "      <td>36.367136</td>\n",
       "      <td>127.364432</td>\n",
       "    </tr>\n",
       "    <tr>\n",
       "      <th>2</th>\n",
       "      <td>36.367136</td>\n",
       "      <td>127.364432</td>\n",
       "      <td>2017-09-05 17:36:30</td>\n",
       "      <td>0.0</td>\n",
       "      <td>9.0</td>\n",
       "      <td>5.0</td>\n",
       "      <td>0.0</td>\n",
       "      <td>5.0</td>\n",
       "      <td>36.367136</td>\n",
       "      <td>127.364432</td>\n",
       "    </tr>\n",
       "    <tr>\n",
       "      <th>3</th>\n",
       "      <td>36.367136</td>\n",
       "      <td>127.364432</td>\n",
       "      <td>2017-09-05 17:36:31</td>\n",
       "      <td>0.0</td>\n",
       "      <td>9.0</td>\n",
       "      <td>5.0</td>\n",
       "      <td>0.0</td>\n",
       "      <td>5.0</td>\n",
       "      <td>36.367136</td>\n",
       "      <td>127.364432</td>\n",
       "    </tr>\n",
       "    <tr>\n",
       "      <th>4</th>\n",
       "      <td>36.367136</td>\n",
       "      <td>127.364432</td>\n",
       "      <td>2017-09-05 17:36:32</td>\n",
       "      <td>0.0</td>\n",
       "      <td>9.0</td>\n",
       "      <td>5.0</td>\n",
       "      <td>0.0</td>\n",
       "      <td>5.0</td>\n",
       "      <td>36.367136</td>\n",
       "      <td>127.364432</td>\n",
       "    </tr>\n",
       "  </tbody>\n",
       "</table>\n",
       "</div>"
      ],
      "text/plain": [
       "    latitude   longitude           timestamp  cluster_id  month  day  \\\n",
       "0  36.367136  127.364432 2017-09-05 17:36:28         0.0    9.0  5.0   \n",
       "1  36.367136  127.364432 2017-09-05 17:36:29         0.0    9.0  5.0   \n",
       "2  36.367136  127.364432 2017-09-05 17:36:30         0.0    9.0  5.0   \n",
       "3  36.367136  127.364432 2017-09-05 17:36:31         0.0    9.0  5.0   \n",
       "4  36.367136  127.364432 2017-09-05 17:36:32         0.0    9.0  5.0   \n",
       "\n",
       "   cluster_next  day_next   lat_next   long_next  \n",
       "0           0.0       5.0  36.367136  127.364432  \n",
       "1           0.0       5.0  36.367136  127.364432  \n",
       "2           0.0       5.0  36.367136  127.364432  \n",
       "3           0.0       5.0  36.367136  127.364432  \n",
       "4           0.0       5.0  36.367136  127.364432  "
      ]
     },
     "execution_count": 217,
     "metadata": {},
     "output_type": "execute_result"
    }
   ],
   "source": [
    "gmm_time.head()"
   ]
  },
  {
   "cell_type": "code",
   "execution_count": 221,
   "metadata": {},
   "outputs": [
    {
     "name": "stderr",
     "output_type": "stream",
     "text": [
      "C:\\Anaconda3\\lib\\site-packages\\ipykernel_launcher.py:5: DeprecationWarning: elementwise == comparison failed; this will raise an error in the future.\n",
      "  \"\"\"\n"
     ]
    },
    {
     "name": "stdout",
     "output_type": "stream",
     "text": [
      "5.0 16.941114141143455\n",
      "6.0 12.334725430983985\n"
     ]
    }
   ],
   "source": [
    "distance = 0 #km 기준\n",
    "for index,row in gmm_time.iterrows():\n",
    "    if nat_check(row[\"day_next\"]) != True:   \n",
    "        day = row[\"day\"]\n",
    "        day_next = row[\"day_next\"]\n",
    "        \n",
    "        lat = row[\"latitude\"]\n",
    "        lat_next = row[\"lat_next\"]\n",
    "        \n",
    "        long = row[\"longitude\"]\n",
    "        long_next = row[\"long_next\"]\n",
    "\n",
    "        if day == day_next:\n",
    "            if lat != lat_next or long != long_next:\n",
    "                pos1 = (lat, long)\n",
    "                pos2 = (lat_next, long_next)\n",
    "                distance += haversine(pos1, pos2)\n",
    "        else:\n",
    "            print(day, distance)\n",
    "            distance = 0"
   ]
  },
  {
   "cell_type": "code",
   "execution_count": null,
   "metadata": {
    "collapsed": true
   },
   "outputs": [],
   "source": [
    "from haversine import haversine\n",
    "\n",
    "lyon = (45.7597, 4.8422) # (lat, lon)\n",
    "paris = (48.8567, 2.3508)\n",
    "\n",
    "haversine(lyon, paris)\n",
    ">> 392.2172595594006  # in kilometers\n",
    "\n",
    "haversine(lyon, paris, unit='mi')\n",
    ">> 243.71201856934454  # in miles\n",
    "\n",
    "haversine(lyon, paris, unit='nmi')\n",
    ">> 211.78037755311516  # in nautical miles"
   ]
  },
  {
   "cell_type": "markdown",
   "metadata": {},
   "source": [
    "#### Regularity?"
   ]
  },
  {
   "cell_type": "code",
   "execution_count": null,
   "metadata": {
    "collapsed": true
   },
   "outputs": [],
   "source": []
  },
  {
   "cell_type": "code",
   "execution_count": null,
   "metadata": {
    "collapsed": true
   },
   "outputs": [],
   "source": []
  },
  {
   "cell_type": "code",
   "execution_count": null,
   "metadata": {
    "collapsed": true
   },
   "outputs": [],
   "source": []
  }
 ],
 "metadata": {
  "kernelspec": {
   "display_name": "Python 3",
   "language": "python",
   "name": "python3"
  },
  "language_info": {
   "codemirror_mode": {
    "name": "ipython",
    "version": 3
   },
   "file_extension": ".py",
   "mimetype": "text/x-python",
   "name": "python",
   "nbconvert_exporter": "python",
   "pygments_lexer": "ipython3",
   "version": "3.6.10"
  },
  "toc": {
   "base_numbering": 1,
   "nav_menu": {},
   "number_sections": true,
   "sideBar": true,
   "skip_h1_title": false,
   "title_cell": "Table of Contents",
   "title_sidebar": "Contents",
   "toc_cell": false,
   "toc_position": {},
   "toc_section_display": true,
   "toc_window_display": false
  },
  "varInspector": {
   "cols": {
    "lenName": 16,
    "lenType": 16,
    "lenVar": 40
   },
   "kernels_config": {
    "python": {
     "delete_cmd_postfix": "",
     "delete_cmd_prefix": "del ",
     "library": "var_list.py",
     "varRefreshCmd": "print(var_dic_list())"
    },
    "r": {
     "delete_cmd_postfix": ") ",
     "delete_cmd_prefix": "rm(",
     "library": "var_list.r",
     "varRefreshCmd": "cat(var_dic_list()) "
    }
   },
   "types_to_exclude": [
    "module",
    "function",
    "builtin_function_or_method",
    "instance",
    "_Feature"
   ],
   "window_display": false
  }
 },
 "nbformat": 4,
 "nbformat_minor": 2
}
