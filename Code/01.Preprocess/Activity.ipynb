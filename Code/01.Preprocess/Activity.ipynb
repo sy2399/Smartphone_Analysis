{
 "cells": [
  {
   "cell_type": "code",
   "execution_count": 6,
   "metadata": {
    "ExecuteTime": {
     "end_time": "2020-02-19T07:15:27.251360Z",
     "start_time": "2020-02-19T07:15:27.246050Z"
    }
   },
   "outputs": [],
   "source": [
    "import pandas as pd\n",
    "import Util as util"
   ]
  },
  {
   "cell_type": "markdown",
   "metadata": {},
   "source": [
    "# Activity Data (Google Fit Api)"
   ]
  },
  {
   "cell_type": "markdown",
   "metadata": {},
   "source": [
    "## Activity Sample1\n",
    "- uid\n",
    "- date\n",
    "- stime : start time of each activity\n",
    "- etime : end time of each activity\n",
    "- vale : type of Google Fit Data ( 0=in vehicle / 1=biking / 2= on foot / 3=still(not moving) / ,,)\n",
    "\n",
    "(activity type : https://developers.google.com/fit/rest/v1/reference/activity-types)\n",
    "- flag : column for android developing\n",
    "- total : duration of each activity type\n",
    "\n",
    "\n",
    "(Google fit api : https://developers.google.com/fit)"
   ]
  },
  {
   "cell_type": "code",
   "execution_count": 4,
   "metadata": {
    "ExecuteTime": {
     "end_time": "2020-01-06T02:35:43.869595Z",
     "start_time": "2020-01-06T02:35:43.840256Z"
    }
   },
   "outputs": [
    {
     "data": {
      "text/html": [
       "<div>\n",
       "<style scoped>\n",
       "    .dataframe tbody tr th:only-of-type {\n",
       "        vertical-align: middle;\n",
       "    }\n",
       "\n",
       "    .dataframe tbody tr th {\n",
       "        vertical-align: top;\n",
       "    }\n",
       "\n",
       "    .dataframe thead th {\n",
       "        text-align: right;\n",
       "    }\n",
       "</style>\n",
       "<table border=\"1\" class=\"dataframe\">\n",
       "  <thead>\n",
       "    <tr style=\"text-align: right;\">\n",
       "      <th></th>\n",
       "      <th>_id</th>\n",
       "      <th>uid</th>\n",
       "      <th>date</th>\n",
       "      <th>stime</th>\n",
       "      <th>etime</th>\n",
       "      <th>type</th>\n",
       "      <th>value</th>\n",
       "      <th>flag</th>\n",
       "      <th>total</th>\n",
       "    </tr>\n",
       "  </thead>\n",
       "  <tbody>\n",
       "    <tr>\n",
       "      <th>0</th>\n",
       "      <td>1</td>\n",
       "      <td>otfKOMf7VUaB5lxUARO0HNusxPB2</td>\n",
       "      <td>2018-12-03</td>\n",
       "      <td>2018-12-03 00:00:00</td>\n",
       "      <td>2018-12-03 01:25:23</td>\n",
       "      <td>com.google.activity.segment</td>\n",
       "      <td>3</td>\n",
       "      <td>False</td>\n",
       "      <td>85</td>\n",
       "    </tr>\n",
       "    <tr>\n",
       "      <th>1</th>\n",
       "      <td>2</td>\n",
       "      <td>otfKOMf7VUaB5lxUARO0HNusxPB2</td>\n",
       "      <td>2018-12-03</td>\n",
       "      <td>2018-12-03 01:25:23</td>\n",
       "      <td>2018-12-03 01:37:40</td>\n",
       "      <td>com.google.activity.segment</td>\n",
       "      <td>7</td>\n",
       "      <td>False</td>\n",
       "      <td>12</td>\n",
       "    </tr>\n",
       "    <tr>\n",
       "      <th>2</th>\n",
       "      <td>3</td>\n",
       "      <td>otfKOMf7VUaB5lxUARO0HNusxPB2</td>\n",
       "      <td>2018-12-03</td>\n",
       "      <td>2018-12-03 01:37:57</td>\n",
       "      <td>2018-12-03 08:43:20</td>\n",
       "      <td>com.google.activity.segment</td>\n",
       "      <td>3</td>\n",
       "      <td>False</td>\n",
       "      <td>425</td>\n",
       "    </tr>\n",
       "    <tr>\n",
       "      <th>3</th>\n",
       "      <td>4</td>\n",
       "      <td>otfKOMf7VUaB5lxUARO0HNusxPB2</td>\n",
       "      <td>2018-12-03</td>\n",
       "      <td>2018-12-03 08:43:20</td>\n",
       "      <td>2018-12-03 09:01:20</td>\n",
       "      <td>com.google.activity.segment</td>\n",
       "      <td>7</td>\n",
       "      <td>False</td>\n",
       "      <td>18</td>\n",
       "    </tr>\n",
       "    <tr>\n",
       "      <th>4</th>\n",
       "      <td>5</td>\n",
       "      <td>otfKOMf7VUaB5lxUARO0HNusxPB2</td>\n",
       "      <td>2018-12-03</td>\n",
       "      <td>2018-12-03 09:02:50</td>\n",
       "      <td>2018-12-03 09:50:36</td>\n",
       "      <td>com.google.activity.segment</td>\n",
       "      <td>3</td>\n",
       "      <td>False</td>\n",
       "      <td>47</td>\n",
       "    </tr>\n",
       "  </tbody>\n",
       "</table>\n",
       "</div>"
      ],
      "text/plain": [
       "   _id                           uid        date                stime  \\\n",
       "0    1  otfKOMf7VUaB5lxUARO0HNusxPB2  2018-12-03  2018-12-03 00:00:00   \n",
       "1    2  otfKOMf7VUaB5lxUARO0HNusxPB2  2018-12-03  2018-12-03 01:25:23   \n",
       "2    3  otfKOMf7VUaB5lxUARO0HNusxPB2  2018-12-03  2018-12-03 01:37:57   \n",
       "3    4  otfKOMf7VUaB5lxUARO0HNusxPB2  2018-12-03  2018-12-03 08:43:20   \n",
       "4    5  otfKOMf7VUaB5lxUARO0HNusxPB2  2018-12-03  2018-12-03 09:02:50   \n",
       "\n",
       "                 etime                         type  value   flag  total  \n",
       "0  2018-12-03 01:25:23  com.google.activity.segment      3  False     85  \n",
       "1  2018-12-03 01:37:40  com.google.activity.segment      7  False     12  \n",
       "2  2018-12-03 08:43:20  com.google.activity.segment      3  False    425  \n",
       "3  2018-12-03 09:01:20  com.google.activity.segment      7  False     18  \n",
       "4  2018-12-03 09:50:36  com.google.activity.segment      3  False     47  "
      ]
     },
     "execution_count": 4,
     "metadata": {},
     "output_type": "execute_result"
    }
   ],
   "source": [
    "act_sample1 = pd.read_csv('../../Sample Data/A/A_Activity.csv', encoding='utf-8')\n",
    "act_sample1.head()"
   ]
  },
  {
   "cell_type": "markdown",
   "metadata": {},
   "source": [
    "## Activity Sample2\n",
    "- timestamp\n",
    "- vehicle / bicycle / foot / running / still / walking / unknown \n",
    ":  percentage of each activity type at timestamp"
   ]
  },
  {
   "cell_type": "code",
   "execution_count": 5,
   "metadata": {
    "ExecuteTime": {
     "end_time": "2020-01-06T02:41:14.090706Z",
     "start_time": "2020-01-06T02:41:13.885307Z"
    }
   },
   "outputs": [
    {
     "data": {
      "text/html": [
       "<div>\n",
       "<style scoped>\n",
       "    .dataframe tbody tr th:only-of-type {\n",
       "        vertical-align: middle;\n",
       "    }\n",
       "\n",
       "    .dataframe tbody tr th {\n",
       "        vertical-align: top;\n",
       "    }\n",
       "\n",
       "    .dataframe thead th {\n",
       "        text-align: right;\n",
       "    }\n",
       "</style>\n",
       "<table border=\"1\" class=\"dataframe\">\n",
       "  <thead>\n",
       "    <tr style=\"text-align: right;\">\n",
       "      <th></th>\n",
       "      <th>timestamp</th>\n",
       "      <th>vehicle</th>\n",
       "      <th>bicycle</th>\n",
       "      <th>foot</th>\n",
       "      <th>running</th>\n",
       "      <th>still</th>\n",
       "      <th>walking</th>\n",
       "      <th>unknown</th>\n",
       "    </tr>\n",
       "  </thead>\n",
       "  <tbody>\n",
       "    <tr>\n",
       "      <th>0</th>\n",
       "      <td>2017.09.05_17.36.25</td>\n",
       "      <td>29</td>\n",
       "      <td>2</td>\n",
       "      <td>5</td>\n",
       "      <td>0</td>\n",
       "      <td>41</td>\n",
       "      <td>5</td>\n",
       "      <td>23</td>\n",
       "    </tr>\n",
       "    <tr>\n",
       "      <th>1</th>\n",
       "      <td>2017.09.05_17.36.40</td>\n",
       "      <td>8</td>\n",
       "      <td>2</td>\n",
       "      <td>5</td>\n",
       "      <td>0</td>\n",
       "      <td>92</td>\n",
       "      <td>5</td>\n",
       "      <td>23</td>\n",
       "    </tr>\n",
       "    <tr>\n",
       "      <th>2</th>\n",
       "      <td>2017.09.05_17.36.56</td>\n",
       "      <td>28</td>\n",
       "      <td>1</td>\n",
       "      <td>5</td>\n",
       "      <td>0</td>\n",
       "      <td>21</td>\n",
       "      <td>5</td>\n",
       "      <td>50</td>\n",
       "    </tr>\n",
       "    <tr>\n",
       "      <th>3</th>\n",
       "      <td>2017.09.05_17.37.11</td>\n",
       "      <td>31</td>\n",
       "      <td>10</td>\n",
       "      <td>5</td>\n",
       "      <td>0</td>\n",
       "      <td>18</td>\n",
       "      <td>5</td>\n",
       "      <td>43</td>\n",
       "    </tr>\n",
       "    <tr>\n",
       "      <th>4</th>\n",
       "      <td>2017.09.05_17.37.51</td>\n",
       "      <td>27</td>\n",
       "      <td>10</td>\n",
       "      <td>6</td>\n",
       "      <td>0</td>\n",
       "      <td>41</td>\n",
       "      <td>6</td>\n",
       "      <td>27</td>\n",
       "    </tr>\n",
       "  </tbody>\n",
       "</table>\n",
       "</div>"
      ],
      "text/plain": [
       "              timestamp   vehicle   bicycle   foot   running   still  \\\n",
       "0   2017.09.05_17.36.25        29         2      5         0      41   \n",
       "1   2017.09.05_17.36.40         8         2      5         0      92   \n",
       "2   2017.09.05_17.36.56        28         1      5         0      21   \n",
       "3   2017.09.05_17.37.11        31        10      5         0      18   \n",
       "4   2017.09.05_17.37.51        27        10      6         0      41   \n",
       "\n",
       "    walking   unknown  \n",
       "0         5        23  \n",
       "1         5        23  \n",
       "2         5        50  \n",
       "3         5        43  \n",
       "4         6        27  "
      ]
     },
     "execution_count": 5,
     "metadata": {},
     "output_type": "execute_result"
    }
   ],
   "source": [
    "act_sample2 = pd.read_csv('../../Sample Data/D/D_Activity.csv', encoding='utf-8')\n",
    "act_sample2.head()"
   ]
  },
  {
   "cell_type": "code",
   "execution_count": null,
   "metadata": {},
   "outputs": [],
   "source": []
  }
 ],
 "metadata": {
  "kernelspec": {
   "display_name": "Python 3",
   "language": "python",
   "name": "python3"
  },
  "language_info": {
   "codemirror_mode": {
    "name": "ipython",
    "version": 3
   },
   "file_extension": ".py",
   "mimetype": "text/x-python",
   "name": "python",
   "nbconvert_exporter": "python",
   "pygments_lexer": "ipython3",
   "version": "3.6.10"
  },
  "toc": {
   "base_numbering": 1,
   "nav_menu": {},
   "number_sections": true,
   "sideBar": true,
   "skip_h1_title": false,
   "title_cell": "Table of Contents",
   "title_sidebar": "Contents",
   "toc_cell": false,
   "toc_position": {
    "height": "calc(100% - 180px)",
    "left": "10px",
    "top": "150px",
    "width": "165px"
   },
   "toc_section_display": true,
   "toc_window_display": true
  },
  "varInspector": {
   "cols": {
    "lenName": 16,
    "lenType": 16,
    "lenVar": 40
   },
   "kernels_config": {
    "python": {
     "delete_cmd_postfix": "",
     "delete_cmd_prefix": "del ",
     "library": "var_list.py",
     "varRefreshCmd": "print(var_dic_list())"
    },
    "r": {
     "delete_cmd_postfix": ") ",
     "delete_cmd_prefix": "rm(",
     "library": "var_list.r",
     "varRefreshCmd": "cat(var_dic_list()) "
    }
   },
   "types_to_exclude": [
    "module",
    "function",
    "builtin_function_or_method",
    "instance",
    "_Feature"
   ],
   "window_display": false
  }
 },
 "nbformat": 4,
 "nbformat_minor": 2
}
