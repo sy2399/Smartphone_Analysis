{
 "cells": [
  {
   "cell_type": "code",
   "execution_count": 1,
   "metadata": {
    "ExecuteTime": {
     "end_time": "2020-02-19T07:36:08.443593Z",
     "start_time": "2020-02-19T07:36:07.617345Z"
    }
   },
   "outputs": [],
   "source": [
    "import pandas as pd\n",
    "import Util as util"
   ]
  },
  {
   "cell_type": "code",
   "execution_count": 2,
   "metadata": {
    "ExecuteTime": {
     "end_time": "2020-02-19T07:36:08.695707Z",
     "start_time": "2020-02-19T07:36:08.471166Z"
    }
   },
   "outputs": [
    {
     "ename": "TypeError",
     "evalue": "getGoogleCategory() missing 1 required positional argument: 'App'",
     "output_type": "error",
     "traceback": [
      "\u001b[0;31m---------------------------------------------------------------------------\u001b[0m",
      "\u001b[0;31mTypeError\u001b[0m                                 Traceback (most recent call last)",
      "\u001b[0;32m<ipython-input-2-64698c8cd9ca>\u001b[0m in \u001b[0;36m<module>\u001b[0;34m\u001b[0m\n\u001b[0;32m----> 1\u001b[0;31m \u001b[0mutil\u001b[0m\u001b[0;34m.\u001b[0m\u001b[0mgetGoogleCategory\u001b[0m\u001b[0;34m(\u001b[0m\u001b[0;34m'kakao.com'\u001b[0m\u001b[0;34m)\u001b[0m\u001b[0;34m\u001b[0m\u001b[0;34m\u001b[0m\u001b[0m\n\u001b[0m",
      "\u001b[0;31mTypeError\u001b[0m: getGoogleCategory() missing 1 required positional argument: 'App'"
     ]
    }
   ],
   "source": [
    "util.getGoogleCategory('kakao.com')"
   ]
  },
  {
   "cell_type": "markdown",
   "metadata": {},
   "source": [
    "# App Data"
   ]
  },
  {
   "cell_type": "markdown",
   "metadata": {},
   "source": [
    "## App Sample1 (A)\n",
    "- uid\n",
    "- date (YYYY-mm-dd)\n",
    "- stime, etime (YYYY-mm-dd HH:MM:SS) \n",
    "- packageName\n",
    "- total : total app usage time\n",
    "- isInUsable : if user is using or not (foreground or background)\n",
    "- packageFullName : we can find category of app with this (+ google play store crawling)"
   ]
  },
  {
   "cell_type": "code",
   "execution_count": null,
   "metadata": {
    "ExecuteTime": {
     "end_time": "2020-02-19T07:00:08.594040Z",
     "start_time": "2020-02-19T07:00:08.482189Z"
    }
   },
   "outputs": [],
   "source": [
    "app_sample1 = pd.read_csv('../../Sample Data/A/App.csv', encoding='utf-8')\n",
    "app_sample1.head()"
   ]
  },
  {
   "cell_type": "markdown",
   "metadata": {},
   "source": [
    "## Data Preprocessing\n",
    "\n",
    "1. to Datetime\n",
    "2. App Categorizing (with Crawling)"
   ]
  },
  {
   "cell_type": "markdown",
   "metadata": {},
   "source": [
    "### To Datetime"
   ]
  },
  {
   "cell_type": "code",
   "execution_count": null,
   "metadata": {
    "ExecuteTime": {
     "end_time": "2020-02-19T07:07:09.210161Z",
     "start_time": "2020-02-19T07:07:09.200884Z"
    }
   },
   "outputs": [],
   "source": [
    "def toDatetime(df, timeCol , format_):\n",
    "\n",
    "    \"\"\"\n",
    "     param\n",
    "     - df : dataframe \n",
    "     - timeCol : columns of timestamp (ex, [timestamp] or [stime, etime])\n",
    "     - format : data format (format without any space, reg)\n",
    "     - usage : toDatetime(df, ['stime', 'etime'], '%Y-%m-%d %H:%M:%S')\n",
    "     \n",
    "    \"\"\"\n",
    "    if len(timeCol) <=1:\n",
    "        df[timeCol[0]] = df[timeCol[0]].astype(str)\n",
    "        df[timeCol[0]] = df[timeCol[0]].str.replace(\" \", \"\")\n",
    "        df[timeCol[0]] = df[timeCol[0]].str.replace(\"-\", \"\")\n",
    "        df[timeCol[0]] = df[timeCol[0]].str.replace(\":\", \"\")\n",
    "        df[timeCol[0]] = df[timeCol[0]].str.replace(\".\", \"\")\n",
    "\n",
    "\n",
    "        df[timeCol[0]] = pd.to_datetime(df[timeCol[0]], format=format_)\n",
    "        \n",
    "    else:\n",
    "        for col in timeCol:\n",
    "            df[col] = df[col].astype(str)\n",
    "            df[col] = df[col].str.replace(\" \", \"\")\n",
    "            df[col] = df[col].str.replace(\"-\", \"\")\n",
    "            df[col] = df[col].str.replace(\":\", \"\")\n",
    "            df[col] = df[col].str.replace(\".\", \"\")\n",
    "\n",
    "\n",
    "            df[col] = pd.to_datetime(df[col], format=format_) \n",
    "            \n",
    "    return df"
   ]
  },
  {
   "cell_type": "code",
   "execution_count": null,
   "metadata": {
    "ExecuteTime": {
     "end_time": "2020-02-19T07:26:52.078929Z",
     "start_time": "2020-02-19T07:26:51.537869Z"
    }
   },
   "outputs": [],
   "source": [
    "app_sample1 = util.toDatetime(app_sample1, ['date'], '%Y%m%d')\n",
    "app_sample1 = util.toDatetime(app_sample1, ['stime', 'etime'], '%Y%m%d%H%M%S')"
   ]
  },
  {
   "cell_type": "code",
   "execution_count": null,
   "metadata": {
    "ExecuteTime": {
     "end_time": "2020-02-19T07:28:33.016776Z",
     "start_time": "2020-02-19T07:28:33.004877Z"
    }
   },
   "outputs": [],
   "source": [
    "util.getGoogleCategory('com.no.color')"
   ]
  },
  {
   "cell_type": "code",
   "execution_count": null,
   "metadata": {},
   "outputs": [],
   "source": []
  }
 ],
 "metadata": {
  "kernelspec": {
   "display_name": "Python 3",
   "language": "python",
   "name": "python3"
  },
  "language_info": {
   "codemirror_mode": {
    "name": "ipython",
    "version": 3
   },
   "file_extension": ".py",
   "mimetype": "text/x-python",
   "name": "python",
   "nbconvert_exporter": "python",
   "pygments_lexer": "ipython3",
   "version": "3.6.10"
  },
  "toc": {
   "base_numbering": 1,
   "nav_menu": {},
   "number_sections": true,
   "sideBar": true,
   "skip_h1_title": false,
   "title_cell": "Table of Contents",
   "title_sidebar": "Contents",
   "toc_cell": false,
   "toc_position": {},
   "toc_section_display": true,
   "toc_window_display": false
  },
  "varInspector": {
   "cols": {
    "lenName": 16,
    "lenType": 16,
    "lenVar": 40
   },
   "kernels_config": {
    "python": {
     "delete_cmd_postfix": "",
     "delete_cmd_prefix": "del ",
     "library": "var_list.py",
     "varRefreshCmd": "print(var_dic_list())"
    },
    "r": {
     "delete_cmd_postfix": ") ",
     "delete_cmd_prefix": "rm(",
     "library": "var_list.r",
     "varRefreshCmd": "cat(var_dic_list()) "
    }
   },
   "types_to_exclude": [
    "module",
    "function",
    "builtin_function_or_method",
    "instance",
    "_Feature"
   ],
   "window_display": false
  }
 },
 "nbformat": 4,
 "nbformat_minor": 4
}
